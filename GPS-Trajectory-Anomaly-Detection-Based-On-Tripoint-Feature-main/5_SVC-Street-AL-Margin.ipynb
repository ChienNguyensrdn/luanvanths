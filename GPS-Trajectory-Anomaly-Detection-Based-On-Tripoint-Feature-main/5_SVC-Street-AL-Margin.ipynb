{
 "cells": [
  {
   "cell_type": "code",
   "execution_count": 1,
   "metadata": {},
   "outputs": [
    {
     "name": "stdout",
     "output_type": "stream",
     "text": [
      "The history saving thread hit an unexpected error (DatabaseError('database disk image is malformed')).History will not be written to the database.\n"
     ]
    }
   ],
   "source": [
    "import sys, os\n",
    "\n",
    "import pandas as pd\n",
    "import numpy as np\n",
    "\n",
    "from sklearn.svm import LinearSVC, SVC\n",
    "from sklearn.model_selection import train_test_split, StratifiedKFold\n",
    "\n",
    "from sklearn.feature_extraction.text import CountVectorizer\n",
    "from sklearn.metrics import classification_report, confusion_matrix, accuracy_score, precision_recall_fscore_support\n",
    "\n",
    "\n",
    "import matplotlib.pyplot as plt\n",
    "plt.style.use(\"ggplot\")\n",
    "import seaborn as sn"
   ]
  },
  {
   "cell_type": "code",
   "execution_count": 2,
   "metadata": {},
   "outputs": [
    {
     "data": {
      "text/html": [
       "<div>\n",
       "<style scoped>\n",
       "    .dataframe tbody tr th:only-of-type {\n",
       "        vertical-align: middle;\n",
       "    }\n",
       "\n",
       "    .dataframe tbody tr th {\n",
       "        vertical-align: top;\n",
       "    }\n",
       "\n",
       "    .dataframe thead th {\n",
       "        text-align: right;\n",
       "    }\n",
       "</style>\n",
       "<table border=\"1\" class=\"dataframe\">\n",
       "  <thead>\n",
       "    <tr style=\"text-align: right;\">\n",
       "      <th></th>\n",
       "      <th>index</th>\n",
       "      <th>vehicle_id</th>\n",
       "      <th>p_start</th>\n",
       "      <th>p_temp</th>\n",
       "      <th>p_end</th>\n",
       "      <th>pre_routes</th>\n",
       "      <th>freq</th>\n",
       "      <th>label</th>\n",
       "    </tr>\n",
       "  </thead>\n",
       "  <tbody>\n",
       "    <tr>\n",
       "      <th>0</th>\n",
       "      <td>0</td>\n",
       "      <td>100000025</td>\n",
       "      <td>(106.74, 10.8014)</td>\n",
       "      <td>(106.73899999999999, 10.8012)</td>\n",
       "      <td>(106.738, 10.8012)</td>\n",
       "      <td>(xa_lộ_hà_nội, xa_lộ_hà_nội, thảo_điền)</td>\n",
       "      <td>121</td>\n",
       "      <td>False</td>\n",
       "    </tr>\n",
       "    <tr>\n",
       "      <th>1</th>\n",
       "      <td>16</td>\n",
       "      <td>100000025</td>\n",
       "      <td>(106.74, 10.8014)</td>\n",
       "      <td>(106.73899999999999, 10.8012)</td>\n",
       "      <td>(106.73100000000001, 10.7996)</td>\n",
       "      <td>(xa_lộ_hà_nội, xa_lộ_hà_nội, cầu_sài_gòn_1)</td>\n",
       "      <td>305</td>\n",
       "      <td>False</td>\n",
       "    </tr>\n",
       "    <tr>\n",
       "      <th>2</th>\n",
       "      <td>21</td>\n",
       "      <td>100000025</td>\n",
       "      <td>(106.74, 10.8014)</td>\n",
       "      <td>(106.73899999999999, 10.8012)</td>\n",
       "      <td>(106.721, 10.7981)</td>\n",
       "      <td>(xa_lộ_hà_nội, xa_lộ_hà_nội, điện_biên_phủ)</td>\n",
       "      <td>522</td>\n",
       "      <td>False</td>\n",
       "    </tr>\n",
       "    <tr>\n",
       "      <th>3</th>\n",
       "      <td>40</td>\n",
       "      <td>100000025</td>\n",
       "      <td>(106.74, 10.8014)</td>\n",
       "      <td>(106.73899999999999, 10.8012)</td>\n",
       "      <td>(106.695, 10.7912)</td>\n",
       "      <td>(xa_lộ_hà_nội, xa_lộ_hà_nội, võ_thị_sáu)</td>\n",
       "      <td>250</td>\n",
       "      <td>False</td>\n",
       "    </tr>\n",
       "    <tr>\n",
       "      <th>4</th>\n",
       "      <td>50</td>\n",
       "      <td>100000025</td>\n",
       "      <td>(106.74, 10.8014)</td>\n",
       "      <td>(106.73899999999999, 10.8012)</td>\n",
       "      <td>(106.68799999999999, 10.7858)</td>\n",
       "      <td>(xa_lộ_hà_nội, xa_lộ_hà_nội, nam_kỳ_khởi_nghĩa)</td>\n",
       "      <td>127</td>\n",
       "      <td>False</td>\n",
       "    </tr>\n",
       "    <tr>\n",
       "      <th>5</th>\n",
       "      <td>59</td>\n",
       "      <td>100000025</td>\n",
       "      <td>(106.74, 10.8014)</td>\n",
       "      <td>(106.73899999999999, 10.8012)</td>\n",
       "      <td>(106.681, 10.7926)</td>\n",
       "      <td>(xa_lộ_hà_nội, xa_lộ_hà_nội, nguyễn_văn_trỗi)</td>\n",
       "      <td>299</td>\n",
       "      <td>False</td>\n",
       "    </tr>\n",
       "    <tr>\n",
       "      <th>6</th>\n",
       "      <td>102</td>\n",
       "      <td>100000025</td>\n",
       "      <td>(106.74, 10.8014)</td>\n",
       "      <td>(106.738, 10.8012)</td>\n",
       "      <td>(106.736, 10.8026)</td>\n",
       "      <td>(xa_lộ_hà_nội, thảo_điền, nguyễn_duy_hiệu)</td>\n",
       "      <td>496</td>\n",
       "      <td>False</td>\n",
       "    </tr>\n",
       "    <tr>\n",
       "      <th>7</th>\n",
       "      <td>106</td>\n",
       "      <td>100000025</td>\n",
       "      <td>(106.74, 10.8014)</td>\n",
       "      <td>(106.738, 10.8012)</td>\n",
       "      <td>(106.734, 10.8034)</td>\n",
       "      <td>(xa_lộ_hà_nội, thảo_điền, số_39)</td>\n",
       "      <td>185</td>\n",
       "      <td>False</td>\n",
       "    </tr>\n",
       "    <tr>\n",
       "      <th>8</th>\n",
       "      <td>107</td>\n",
       "      <td>100000025</td>\n",
       "      <td>(106.74, 10.8014)</td>\n",
       "      <td>(106.738, 10.8012)</td>\n",
       "      <td>(106.73200000000001, 10.8028)</td>\n",
       "      <td>(xa_lộ_hà_nội, thảo_điền, quốc_hương)</td>\n",
       "      <td>253</td>\n",
       "      <td>False</td>\n",
       "    </tr>\n",
       "    <tr>\n",
       "      <th>9</th>\n",
       "      <td>112</td>\n",
       "      <td>100000025</td>\n",
       "      <td>(106.74, 10.8014)</td>\n",
       "      <td>(106.738, 10.8012)</td>\n",
       "      <td>(106.73200000000001, 10.8)</td>\n",
       "      <td>(xa_lộ_hà_nội, thảo_điền, empty)</td>\n",
       "      <td>276</td>\n",
       "      <td>False</td>\n",
       "    </tr>\n",
       "  </tbody>\n",
       "</table>\n",
       "</div>"
      ],
      "text/plain": [
       "   index  vehicle_id            p_start                         p_temp  \\\n",
       "0      0   100000025  (106.74, 10.8014)  (106.73899999999999, 10.8012)   \n",
       "1     16   100000025  (106.74, 10.8014)  (106.73899999999999, 10.8012)   \n",
       "2     21   100000025  (106.74, 10.8014)  (106.73899999999999, 10.8012)   \n",
       "3     40   100000025  (106.74, 10.8014)  (106.73899999999999, 10.8012)   \n",
       "4     50   100000025  (106.74, 10.8014)  (106.73899999999999, 10.8012)   \n",
       "5     59   100000025  (106.74, 10.8014)  (106.73899999999999, 10.8012)   \n",
       "6    102   100000025  (106.74, 10.8014)             (106.738, 10.8012)   \n",
       "7    106   100000025  (106.74, 10.8014)             (106.738, 10.8012)   \n",
       "8    107   100000025  (106.74, 10.8014)             (106.738, 10.8012)   \n",
       "9    112   100000025  (106.74, 10.8014)             (106.738, 10.8012)   \n",
       "\n",
       "                           p_end  \\\n",
       "0             (106.738, 10.8012)   \n",
       "1  (106.73100000000001, 10.7996)   \n",
       "2             (106.721, 10.7981)   \n",
       "3             (106.695, 10.7912)   \n",
       "4  (106.68799999999999, 10.7858)   \n",
       "5             (106.681, 10.7926)   \n",
       "6             (106.736, 10.8026)   \n",
       "7             (106.734, 10.8034)   \n",
       "8  (106.73200000000001, 10.8028)   \n",
       "9     (106.73200000000001, 10.8)   \n",
       "\n",
       "                                        pre_routes  freq  label  \n",
       "0          (xa_lộ_hà_nội, xa_lộ_hà_nội, thảo_điền)   121  False  \n",
       "1      (xa_lộ_hà_nội, xa_lộ_hà_nội, cầu_sài_gòn_1)   305  False  \n",
       "2      (xa_lộ_hà_nội, xa_lộ_hà_nội, điện_biên_phủ)   522  False  \n",
       "3         (xa_lộ_hà_nội, xa_lộ_hà_nội, võ_thị_sáu)   250  False  \n",
       "4  (xa_lộ_hà_nội, xa_lộ_hà_nội, nam_kỳ_khởi_nghĩa)   127  False  \n",
       "5    (xa_lộ_hà_nội, xa_lộ_hà_nội, nguyễn_văn_trỗi)   299  False  \n",
       "6       (xa_lộ_hà_nội, thảo_điền, nguyễn_duy_hiệu)   496  False  \n",
       "7                 (xa_lộ_hà_nội, thảo_điền, số_39)   185  False  \n",
       "8            (xa_lộ_hà_nội, thảo_điền, quốc_hương)   253  False  \n",
       "9                 (xa_lộ_hà_nội, thảo_điền, empty)   276  False  "
      ]
     },
     "execution_count": 2,
     "metadata": {},
     "output_type": "execute_result"
    }
   ],
   "source": [
    "try:\n",
    "    data = pd.read_csv('../dataset/clean_bo3.csv', encoding='utf-8-sig', converters={'pre_routes':eval}, index_col=0)\n",
    "except:\n",
    "    sys.path.append(os.path.realpath('../'))\n",
    "    data = pd.read_csv('../dataset/clean_bo3.csv', encoding='utf-8-sig', converters={'pre_routes':eval}, index_col=0)\n",
    "\n",
    "\n",
    "data.reset_index(level=0, inplace=True)\n",
    "\n",
    "data.head(10)"
   ]
  },
  {
   "cell_type": "code",
   "execution_count": 3,
   "metadata": {},
   "outputs": [
    {
     "name": "stdout",
     "output_type": "stream",
     "text": [
      "N_normal:  9401\n",
      "N_abnormal:  5460\n"
     ]
    },
    {
     "data": {
      "text/plain": [
       "count    14861.000000\n",
       "mean        -0.265191\n",
       "std          0.964228\n",
       "min         -1.000000\n",
       "25%         -1.000000\n",
       "50%         -1.000000\n",
       "75%          1.000000\n",
       "max          1.000000\n",
       "Name: label, dtype: float64"
      ]
     },
     "execution_count": 3,
     "metadata": {},
     "output_type": "execute_result"
    }
   ],
   "source": [
    "data['pre_routes'] = data['pre_routes'].apply(lambda x: list(x))\n",
    "data['label'] = data['label'].apply(lambda label: -1 if label == False else 1)\n",
    "\n",
    "print(\"N_normal: \",len(data[data['label']==-1]))\n",
    "print(\"N_abnormal: \",len(data[data['label']==1]))\n",
    "data['label'].describe()"
   ]
  },
  {
   "cell_type": "code",
   "execution_count": 5,
   "metadata": {},
   "outputs": [
    {
     "name": "stderr",
     "output_type": "stream",
     "text": [
      "d:\\pythonapp\\v2\\.envgps-v2\\lib\\site-packages\\sklearn\\feature_extraction\\text.py:484: UserWarning: The parameter 'token_pattern' will not be used since 'tokenizer' is not None'\n",
      "  warnings.warn(\"The parameter 'token_pattern' will not be used\"\n"
     ]
    },
    {
     "data": {
      "text/plain": [
       "((11145, 3), (3716, 3), 439)"
      ]
     },
     "execution_count": 5,
     "metadata": {},
     "output_type": "execute_result"
    }
   ],
   "source": [
    "from modAL.models import ActiveLearner\n",
    "from modAL.uncertainty import uncertainty_sampling, entropy_sampling, margin_sampling\n",
    "\n",
    "X = np.array(data['pre_routes'].tolist())\n",
    "y = np.array(data['label'].tolist())\n",
    "\n",
    "X_train, X_test, y_train, y_test = train_test_split(X, y, test_size=0.25, random_state=42)\n",
    "\n",
    "vectorizer = CountVectorizer(tokenizer=lambda doc: doc, lowercase=False)\n",
    "vectorizer.fit(X_train)\n",
    "\n",
    "X_train.shape, X_test.shape, len(vectorizer.get_feature_names())"
   ]
  },
  {
   "cell_type": "markdown",
   "metadata": {},
   "source": [
    "# Active Learning"
   ]
  },
  {
   "cell_type": "code",
   "execution_count": 6,
   "metadata": {},
   "outputs": [
    {
     "name": "stdout",
     "output_type": "stream",
     "text": [
      "(6687, 3) (4458, 3) (3716, 3)\n",
      "F1-test:  0.9498051966476799\n"
     ]
    }
   ],
   "source": [
    "initial_idx = np.random.choice(range(len(X_train)), size=int(X_train.shape[0]*0.6), replace=False)\n",
    "\n",
    "X_initial, y_initial = X_train[initial_idx], y_train[initial_idx]\n",
    "X_pool, y_pool = np.delete(X_train, initial_idx, axis=0), np.delete(y_train, initial_idx, axis=0)\n",
    "\n",
    "\n",
    "\n",
    "precision_test = []\n",
    "recall_test = []\n",
    "f1_test = []\n",
    "acc_test = []\n",
    "\n",
    "X_initial_mat = vectorizer.transform(X_initial)\n",
    "X_pool_mat = vectorizer.transform(X_pool)\n",
    "X_test_mat = vectorizer.transform(X_test)\n",
    "\n",
    "\n",
    "n_initial = 100\n",
    "n_queries = 50\n",
    "clf = SVC(C=5.0, kernel='rbf', tol=1e-5, max_iter=-1, random_state=42, probability=True)\n",
    "\n",
    "\n",
    "learner = ActiveLearner(\n",
    "    estimator=clf,\n",
    "    query_strategy=margin_sampling,\n",
    "    X_training=X_initial_mat, y_training=y_initial\n",
    ")\n",
    "\n",
    "y_pred = learner.predict(X_test_mat)\n",
    "\n",
    "precision,recall,fscore,support = precision_recall_fscore_support(y_test,y_pred,average='macro')\n",
    "precision_test.append(precision)\n",
    "recall_test.append(recall)\n",
    "f1_test.append(fscore)\n",
    "acc_test.append(accuracy_score(y_test,y_pred))\n",
    "\n",
    "print(X_initial.shape, X_pool.shape, X_test.shape)\n",
    "print(\"F1-test: \", fscore)"
   ]
  },
  {
   "cell_type": "code",
   "execution_count": 7,
   "metadata": {},
   "outputs": [
    {
     "name": "stdout",
     "output_type": "stream",
     "text": [
      "F1-score after query 1: 0.9498\n",
      "F1-score after query 2: 0.9528\n",
      "F1-score after query 3: 0.9538\n",
      "F1-score after query 4: 0.9576\n",
      "F1-score after query 5: 0.9606\n",
      "F1-score after query 6: 0.9595\n",
      "F1-score after query 7: 0.9607\n",
      "F1-score after query 8: 0.9625\n",
      "F1-score after query 9: 0.9619\n",
      "F1-score after query 10: 0.9622\n",
      "F1-score after query 11: 0.9618\n",
      "F1-score after query 12: 0.9621\n",
      "F1-score after query 13: 0.9627\n",
      "F1-score after query 14: 0.9627\n",
      "F1-score after query 15: 0.9621\n",
      "F1-score after query 16: 0.9621\n",
      "F1-score after query 17: 0.9627\n",
      "F1-score after query 18: 0.9627\n",
      "F1-score after query 19: 0.9627\n",
      "F1-score after query 20: 0.9624\n",
      "F1-score after query 21: 0.9624\n",
      "F1-score after query 22: 0.9624\n",
      "F1-score after query 23: 0.9624\n",
      "F1-score after query 24: 0.9627\n",
      "F1-score after query 25: 0.9621\n",
      "F1-score after query 26: 0.9624\n",
      "F1-score after query 27: 0.9624\n",
      "F1-score after query 28: 0.9624\n",
      "F1-score after query 29: 0.9624\n",
      "F1-score after query 30: 0.9618\n",
      "F1-score after query 31: 0.9618\n",
      "F1-score after query 32: 0.9618\n",
      "F1-score after query 33: 0.9618\n",
      "F1-score after query 34: 0.9618\n",
      "F1-score after query 35: 0.9618\n",
      "F1-score after query 36: 0.9618\n",
      "F1-score after query 37: 0.9618\n",
      "F1-score after query 38: 0.9618\n",
      "F1-score after query 39: 0.9618\n",
      "F1-score after query 40: 0.9618\n",
      "F1-score after query 41: 0.9621\n",
      "F1-score after query 42: 0.9621\n",
      "F1-score after query 43: 0.9621\n",
      "F1-score after query 44: 0.9621\n",
      "F1-score after query 45: 0.9621\n",
      "F1-score after query 46: 0.9621\n",
      "F1-score after query 47: 0.9621\n",
      "F1-score after query 48: 0.9621\n",
      "F1-score after query 49: 0.9618\n",
      "F1-score after query 50: 0.9618\n"
     ]
    },
    {
     "data": {
      "text/html": [
       "<div>\n",
       "<style scoped>\n",
       "    .dataframe tbody tr th:only-of-type {\n",
       "        vertical-align: middle;\n",
       "    }\n",
       "\n",
       "    .dataframe tbody tr th {\n",
       "        vertical-align: top;\n",
       "    }\n",
       "\n",
       "    .dataframe thead th {\n",
       "        text-align: right;\n",
       "    }\n",
       "</style>\n",
       "<table border=\"1\" class=\"dataframe\">\n",
       "  <thead>\n",
       "    <tr style=\"text-align: right;\">\n",
       "      <th></th>\n",
       "      <th>precision</th>\n",
       "      <th>recall</th>\n",
       "      <th>f1-score</th>\n",
       "      <th>accuracy</th>\n",
       "    </tr>\n",
       "  </thead>\n",
       "  <tbody>\n",
       "    <tr>\n",
       "      <th>test</th>\n",
       "      <td>0.966349</td>\n",
       "      <td>0.956959</td>\n",
       "      <td>0.961356</td>\n",
       "      <td>0.964874</td>\n",
       "    </tr>\n",
       "  </tbody>\n",
       "</table>\n",
       "</div>"
      ],
      "text/plain": [
       "      precision    recall  f1-score  accuracy\n",
       "test   0.966349  0.956959  0.961356  0.964874"
      ]
     },
     "execution_count": 7,
     "metadata": {},
     "output_type": "execute_result"
    }
   ],
   "source": [
    "for i in range(n_queries):\n",
    "#     print(X_pool_mat.shape)\n",
    "    try:\n",
    "        query_idx, query_instance = learner.query(X_pool_mat, n_instances=int(X_pool_mat.shape[0]/n_queries)+1)\n",
    "    except:\n",
    "        break\n",
    "\n",
    "    y_new = y_pool[query_idx]\n",
    "    learner.teach(X_pool_mat[query_idx], y_new)\n",
    "    \n",
    "    X_pool, y_pool = np.delete(X_pool, query_idx, axis=0), np.delete(y_pool, query_idx, axis=0)\n",
    "    X_pool_mat = vectorizer.transform(X_pool)\n",
    "    \n",
    "    y_pred = learner.predict(X_test_mat)\n",
    "\n",
    "    precision,recall,fscore,support = precision_recall_fscore_support(y_test,y_pred,average='macro')\n",
    "    precision_test.append(precision)\n",
    "    recall_test.append(recall)\n",
    "    f1_test.append(fscore)\n",
    "    acc_test.append(accuracy_score(y_test,y_pred))\n",
    "    \n",
    "    print('F1-score after query {n}: {acc:0.4f}'.format(n=i + 1, acc=f1_test[i]))\n",
    "\n",
    "\n",
    "    \n",
    "mean_precision_test = np.mean(precision_test)\n",
    "mean_recall_test = np.mean(recall_test)\n",
    "mean_f1_test = np.mean(f1_test)\n",
    "mean_acc_test = np.mean(acc_test)\n",
    "\n",
    "test_perfm = [mean_precision_test, mean_recall_test, mean_f1_test, mean_acc_test]\n",
    "\n",
    "performance = pd.DataFrame([test_perfm], columns = ['precision', 'recall', 'f1-score', 'accuracy'], index=['test'])\n",
    "performance"
   ]
  },
  {
   "cell_type": "code",
   "execution_count": 8,
   "metadata": {},
   "outputs": [
    {
     "data": {
      "text/html": [
       "<div>\n",
       "<style scoped>\n",
       "    .dataframe tbody tr th:only-of-type {\n",
       "        vertical-align: middle;\n",
       "    }\n",
       "\n",
       "    .dataframe tbody tr th {\n",
       "        vertical-align: top;\n",
       "    }\n",
       "\n",
       "    .dataframe thead th {\n",
       "        text-align: right;\n",
       "    }\n",
       "</style>\n",
       "<table border=\"1\" class=\"dataframe\">\n",
       "  <thead>\n",
       "    <tr style=\"text-align: right;\">\n",
       "      <th></th>\n",
       "      <th>precision</th>\n",
       "      <th>recall</th>\n",
       "      <th>f1-score</th>\n",
       "      <th>accuracy</th>\n",
       "    </tr>\n",
       "  </thead>\n",
       "  <tbody>\n",
       "    <tr>\n",
       "      <th>test_al</th>\n",
       "      <td>0.966996</td>\n",
       "      <td>0.957233</td>\n",
       "      <td>0.961796</td>\n",
       "      <td>0.965285</td>\n",
       "    </tr>\n",
       "  </tbody>\n",
       "</table>\n",
       "</div>"
      ],
      "text/plain": [
       "         precision    recall  f1-score  accuracy\n",
       "test_al   0.966996  0.957233  0.961796  0.965285"
      ]
     },
     "execution_count": 8,
     "metadata": {},
     "output_type": "execute_result"
    }
   ],
   "source": [
    "test_perfm = [precision_test[-1], recall_test[-1], f1_test[-1], acc_test[-1]]\n",
    "test_perfm_al = pd.DataFrame([test_perfm], columns = ['precision', 'recall', 'f1-score', 'accuracy'], index=['test_al'])\n",
    "test_perfm_al"
   ]
  },
  {
   "cell_type": "markdown",
   "metadata": {},
   "source": [
    "# Machine Learning"
   ]
  },
  {
   "cell_type": "code",
   "execution_count": 9,
   "metadata": {},
   "outputs": [
    {
     "name": "stdout",
     "output_type": "stream",
     "text": [
      "0.9617961371989876\n"
     ]
    },
    {
     "data": {
      "text/html": [
       "<div>\n",
       "<style scoped>\n",
       "    .dataframe tbody tr th:only-of-type {\n",
       "        vertical-align: middle;\n",
       "    }\n",
       "\n",
       "    .dataframe tbody tr th {\n",
       "        vertical-align: top;\n",
       "    }\n",
       "\n",
       "    .dataframe thead th {\n",
       "        text-align: right;\n",
       "    }\n",
       "</style>\n",
       "<table border=\"1\" class=\"dataframe\">\n",
       "  <thead>\n",
       "    <tr style=\"text-align: right;\">\n",
       "      <th></th>\n",
       "      <th>precision</th>\n",
       "      <th>recall</th>\n",
       "      <th>f1-score</th>\n",
       "      <th>accuracy</th>\n",
       "    </tr>\n",
       "  </thead>\n",
       "  <tbody>\n",
       "    <tr>\n",
       "      <th>test_ml</th>\n",
       "      <td>0.967411</td>\n",
       "      <td>0.957987</td>\n",
       "      <td>0.962402</td>\n",
       "      <td>0.965823</td>\n",
       "    </tr>\n",
       "  </tbody>\n",
       "</table>\n",
       "</div>"
      ],
      "text/plain": [
       "         precision    recall  f1-score  accuracy\n",
       "test_ml   0.967411  0.957987  0.962402  0.965823"
      ]
     },
     "execution_count": 9,
     "metadata": {},
     "output_type": "execute_result"
    }
   ],
   "source": [
    "X_train_mat = vectorizer.transform(X_train)\n",
    "X_test_mat = vectorizer.transform(X_test)\n",
    "\n",
    "clf = SVC(C=5.0, kernel='rbf', tol=1e-5, max_iter=-1, random_state=42, probability=True)\n",
    "clf.fit(X_train_mat, y_train)\n",
    "\n",
    "y_pred_ml = clf.predict(X_test_mat)\n",
    "ml_precision, ml_recall, ml_fscore, ml_support = precision_recall_fscore_support(y_test,y_pred_ml,average='macro')\n",
    "\n",
    "ml_acc = accuracy_score(y_test,y_pred_ml)\n",
    "print(fscore)\n",
    "test_perfm_ml = pd.DataFrame([[ml_precision,ml_recall,ml_fscore, ml_acc]], columns = ['precision', 'recall', 'f1-score', 'accuracy'], index=['test_ml'])\n",
    "test_perfm_ml"
   ]
  },
  {
   "cell_type": "code",
   "execution_count": 10,
   "metadata": {},
   "outputs": [
    {
     "data": {
      "image/png": "[encoded data removed]",
      "text/plain": [
       "<Figure size 648x432 with 1 Axes>"
      ]
     },
     "metadata": {},
     "output_type": "display_data"
    }
   ],
   "source": [
    "plt.rcParams['figure.figsize'] = (9.0, 6.0)\n",
    "plt.rcParams['xtick.labelsize'] = 12\n",
    "plt.plot(range(len(f1_test)),f1_test, label='Active Learning')\n",
    "plt.plot(range(len(f1_test)),[ml_fscore]*(n_queries+1), '--',label='Machine Learning')\n",
    "plt.xlabel('N_queries')\n",
    "plt.ylabel('F1-score')\n",
    "plt.legend(loc=\"lower right\", title=\"Label\", frameon=False)\n",
    "plt.title(\"F1-score between Machine Learning and Active Learning with Street-based\")\n",
    "plt.show()"
   ]
  },
  {
   "cell_type": "code",
   "execution_count": null,
   "metadata": {},
   "outputs": [],
   "source": []
  }
 ],
 "metadata": {
  "kernelspec": {
   "display_name": "Python 3.8.9 64-bit",
   "language": "python",
   "name": "python3"
  },
  "language_info": {
   "codemirror_mode": {
    "name": "ipython",
    "version": 3
   },
   "file_extension": ".py",
   "mimetype": "text/x-python",
   "name": "python",
   "nbconvert_exporter": "python",
   "pygments_lexer": "ipython3",
   "version": "3.9.6"
  },
  "vscode": {
   "interpreter": {
    "hash": "31f2aee4e71d21fbe5cf8b01ff0e069b9275f58929596ceb00d14d90e3e16cd6"
   }
  }
 },
 "nbformat": 4,
 "nbformat_minor": 4
}
