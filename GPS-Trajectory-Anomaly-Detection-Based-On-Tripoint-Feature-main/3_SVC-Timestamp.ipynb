{
 "cells": [
  {
   "cell_type": "code",
   "execution_count": 1,
   "metadata": {},
   "outputs": [
    {
     "name": "stdout",
     "output_type": "stream",
     "text": [
      "The history saving thread hit an unexpected error (DatabaseError('database disk image is malformed')).History will not be written to the database.\n"
     ]
    }
   ],
   "source": [
    "import sys, os\n",
    "\n",
    "import pandas as pd\n",
    "import numpy as np\n",
    "\n",
    "from sklearn.svm import LinearSVC, SVC\n",
    "from sklearn.model_selection import train_test_split, StratifiedKFold\n",
    "\n",
    "from sklearn.feature_extraction.text import CountVectorizer\n",
    "from sklearn.metrics import classification_report, confusion_matrix, accuracy_score, precision_recall_fscore_support\n",
    "\n",
    "from sklearn.model_selection import train_test_split\n",
    "\n",
    "\n",
    "import matplotlib.pyplot as plt\n",
    "plt.style.use(\"ggplot\")\n",
    "import seaborn as sn"
   ]
  },
  {
   "cell_type": "code",
   "execution_count": 2,
   "metadata": {},
   "outputs": [
    {
     "data": {
      "text/html": [
       "<div>\n",
       "<style scoped>\n",
       "    .dataframe tbody tr th:only-of-type {\n",
       "        vertical-align: middle;\n",
       "    }\n",
       "\n",
       "    .dataframe tbody tr th {\n",
       "        vertical-align: top;\n",
       "    }\n",
       "\n",
       "    .dataframe thead th {\n",
       "        text-align: right;\n",
       "    }\n",
       "</style>\n",
       "<table border=\"1\" class=\"dataframe\">\n",
       "  <thead>\n",
       "    <tr style=\"text-align: right;\">\n",
       "      <th></th>\n",
       "      <th>feature</th>\n",
       "      <th>count</th>\n",
       "      <th>label</th>\n",
       "    </tr>\n",
       "  </thead>\n",
       "  <tbody>\n",
       "    <tr>\n",
       "      <th>0</th>\n",
       "      <td>(2015-06-01 08:04:00, 2015-06-01 08:05:00, 201...</td>\n",
       "      <td>435</td>\n",
       "      <td>False</td>\n",
       "    </tr>\n",
       "    <tr>\n",
       "      <th>1</th>\n",
       "      <td>(2015-06-01 08:04:00, 2015-06-01 08:07:00, 201...</td>\n",
       "      <td>423</td>\n",
       "      <td>False</td>\n",
       "    </tr>\n",
       "    <tr>\n",
       "      <th>2</th>\n",
       "      <td>(2015-06-01 08:04:00, 2015-06-01 08:07:00, 201...</td>\n",
       "      <td>423</td>\n",
       "      <td>False</td>\n",
       "    </tr>\n",
       "    <tr>\n",
       "      <th>3</th>\n",
       "      <td>(2015-06-01 08:04:00, 2015-06-01 08:05:00, 201...</td>\n",
       "      <td>415</td>\n",
       "      <td>False</td>\n",
       "    </tr>\n",
       "    <tr>\n",
       "      <th>4</th>\n",
       "      <td>(2015-06-01 08:04:00, 2015-06-01 08:05:00, 201...</td>\n",
       "      <td>415</td>\n",
       "      <td>False</td>\n",
       "    </tr>\n",
       "    <tr>\n",
       "      <th>5</th>\n",
       "      <td>(2015-06-01 08:04:00, 2015-06-01 08:08:00, 201...</td>\n",
       "      <td>411</td>\n",
       "      <td>False</td>\n",
       "    </tr>\n",
       "    <tr>\n",
       "      <th>6</th>\n",
       "      <td>(2015-06-01 08:07:00, 2015-06-01 08:08:00, 201...</td>\n",
       "      <td>411</td>\n",
       "      <td>False</td>\n",
       "    </tr>\n",
       "    <tr>\n",
       "      <th>7</th>\n",
       "      <td>(2015-06-01 08:05:00, 2015-06-01 08:07:00, 201...</td>\n",
       "      <td>410</td>\n",
       "      <td>False</td>\n",
       "    </tr>\n",
       "    <tr>\n",
       "      <th>8</th>\n",
       "      <td>(2015-06-01 08:05:00, 2015-06-01 08:07:00, 201...</td>\n",
       "      <td>410</td>\n",
       "      <td>False</td>\n",
       "    </tr>\n",
       "    <tr>\n",
       "      <th>9</th>\n",
       "      <td>(2015-06-01 08:04:00, 2015-06-01 08:07:00, 201...</td>\n",
       "      <td>407</td>\n",
       "      <td>False</td>\n",
       "    </tr>\n",
       "  </tbody>\n",
       "</table>\n",
       "</div>"
      ],
      "text/plain": [
       "                                             feature  count  label\n",
       "0  (2015-06-01 08:04:00, 2015-06-01 08:05:00, 201...    435  False\n",
       "1  (2015-06-01 08:04:00, 2015-06-01 08:07:00, 201...    423  False\n",
       "2  (2015-06-01 08:04:00, 2015-06-01 08:07:00, 201...    423  False\n",
       "3  (2015-06-01 08:04:00, 2015-06-01 08:05:00, 201...    415  False\n",
       "4  (2015-06-01 08:04:00, 2015-06-01 08:05:00, 201...    415  False\n",
       "5  (2015-06-01 08:04:00, 2015-06-01 08:08:00, 201...    411  False\n",
       "6  (2015-06-01 08:07:00, 2015-06-01 08:08:00, 201...    411  False\n",
       "7  (2015-06-01 08:05:00, 2015-06-01 08:07:00, 201...    410  False\n",
       "8  (2015-06-01 08:05:00, 2015-06-01 08:07:00, 201...    410  False\n",
       "9  (2015-06-01 08:04:00, 2015-06-01 08:07:00, 201...    407  False"
      ]
     },
     "execution_count": 2,
     "metadata": {},
     "output_type": "execute_result"
    }
   ],
   "source": [
    "try:\n",
    "    data = pd.read_csv('../dataset/clean_bo3_timestamp.csv', converters={'feature':eval}, index_col=0)\n",
    "except:\n",
    "    sys.path.append(os.path.realpath('../'))\n",
    "    data = pd.read_csv('../dataset/clean_bo3_timestamp.csv', converters={'feature':eval}, index_col=0)\n",
    "\n",
    "data.reset_index(level=0, inplace=True)\n",
    "\n",
    "data.head(10)"
   ]
  },
  {
   "cell_type": "code",
   "execution_count": 3,
   "metadata": {},
   "outputs": [
    {
     "name": "stdout",
     "output_type": "stream",
     "text": [
      "N_normal:  3181\n",
      "N_abnormal:  2712\n"
     ]
    },
    {
     "data": {
      "text/plain": [
       "count    5893.000000\n",
       "mean       -0.079586\n",
       "std         0.996913\n",
       "min        -1.000000\n",
       "25%        -1.000000\n",
       "50%        -1.000000\n",
       "75%         1.000000\n",
       "max         1.000000\n",
       "Name: label, dtype: float64"
      ]
     },
     "execution_count": 3,
     "metadata": {},
     "output_type": "execute_result"
    }
   ],
   "source": [
    "data['label'] = data['label'].apply(lambda label: -1 if label == False else 1)\n",
    "\n",
    "print(\"N_normal: \",len(data[data['label']==-1]))\n",
    "print(\"N_abnormal: \",len(data[data['label']==1]))\n",
    "data['label'].describe()"
   ]
  },
  {
   "cell_type": "code",
   "execution_count": 5,
   "metadata": {},
   "outputs": [],
   "source": [
    "X = data['regions']\n",
    "y = data['label']"
   ]
  },
  {
   "cell_type": "code",
   "execution_count": 4,
   "metadata": {},
   "outputs": [],
   "source": [
    "X = data['feature']\n",
    "y = data['label']"
   ]
  },
  {
   "cell_type": "code",
   "execution_count": 5,
   "metadata": {},
   "outputs": [],
   "source": [
    "def clf_report(y_true, y_pred):\n",
    "    print(classification_report(y_true, y_pred, target_names=['Normal','Anomaly']))\n",
    "\n",
    "    cm = confusion_matrix(y_true,y_pred, labels=[-1,1])    \n",
    "    df_cm = pd.DataFrame(cm,columns = ['Normal','Anomaly'])\n",
    "    df_cm = df_cm.rename(index = {0:'Normal',1:'Anomaly'})\n",
    "    sn.heatmap(df_cm, annot=True, fmt=\"d\")\n",
    "    plt.show()\n",
    "\n",
    "    return precision_recall_fscore_support(y_true,y_pred,average='macro')"
   ]
  },
  {
   "cell_type": "code",
   "execution_count": 6,
   "metadata": {},
   "outputs": [],
   "source": [
    "vectorizer = CountVectorizer(tokenizer=lambda doc: doc, lowercase=False)\n",
    "\n",
    "cv = StratifiedKFold(n_splits=5, shuffle=True, random_state=42)"
   ]
  },
  {
   "cell_type": "code",
   "execution_count": 8,
   "metadata": {},
   "outputs": [],
   "source": [
    "# X_train_mat = vectorizer.fit_transform(X_train[30:35])\n",
    "# dataframe = pd.DataFrame(X_train_mat.A, columns=[vectorizer.get_feature_names()])[:30]\n",
    "# # dataframe['X'] = X_train[30:35].tolist()\n",
    "\n",
    "# dataframe.index = X_train[30:35].to_numpy()\n",
    "# dataframe"
   ]
  },
  {
   "cell_type": "code",
   "execution_count": 9,
   "metadata": {},
   "outputs": [
    {
     "name": "stdout",
     "output_type": "stream",
     "text": [
      "==================================================1==================================================\n",
      "\n",
      "Evaluation for training\n",
      "              precision    recall  f1-score   support\n",
      "\n",
      "      Normal       1.00      1.00      1.00      2544\n",
      "     Anomaly       1.00      1.00      1.00      2170\n",
      "\n",
      "    accuracy                           1.00      4714\n",
      "   macro avg       1.00      1.00      1.00      4714\n",
      "weighted avg       1.00      1.00      1.00      4714\n",
      "\n"
     ]
    },
    {
     "data": {
      "image/png": "[encoded data removed]",
      "text/plain": [
       "<Figure size 432x288 with 2 Axes>"
      ]
     },
     "metadata": {},
     "output_type": "display_data"
    },
    {
     "name": "stdout",
     "output_type": "stream",
     "text": [
      "Evaluation for testing\n",
      "              precision    recall  f1-score   support\n",
      "\n",
      "      Normal       0.97      1.00      0.99       637\n",
      "     Anomaly       1.00      0.96      0.98       542\n",
      "\n",
      "    accuracy                           0.98      1179\n",
      "   macro avg       0.99      0.98      0.98      1179\n",
      "weighted avg       0.98      0.98      0.98      1179\n",
      "\n"
     ]
    },
    {
     "data": {
      "image/png": "[encoded data removed]",
      "text/plain": [
       "<Figure size 432x288 with 2 Axes>"
      ]
     },
     "metadata": {},
     "output_type": "display_data"
    },
    {
     "name": "stdout",
     "output_type": "stream",
     "text": [
      "\n",
      "==================================================2==================================================\n",
      "\n",
      "Evaluation for training\n",
      "              precision    recall  f1-score   support\n",
      "\n",
      "      Normal       1.00      1.00      1.00      2545\n",
      "     Anomaly       1.00      1.00      1.00      2169\n",
      "\n",
      "    accuracy                           1.00      4714\n",
      "   macro avg       1.00      1.00      1.00      4714\n",
      "weighted avg       1.00      1.00      1.00      4714\n",
      "\n"
     ]
    },
    {
     "data": {
      "image/png": "[encoded data removed]",
      "text/plain": [
       "<Figure size 432x288 with 2 Axes>"
      ]
     },
     "metadata": {},
     "output_type": "display_data"
    },
    {
     "name": "stdout",
     "output_type": "stream",
     "text": [
      "Evaluation for testing\n",
      "              precision    recall  f1-score   support\n",
      "\n",
      "      Normal       0.95      1.00      0.98       636\n",
      "     Anomaly       1.00      0.94      0.97       543\n",
      "\n",
      "    accuracy                           0.97      1179\n",
      "   macro avg       0.98      0.97      0.97      1179\n",
      "weighted avg       0.97      0.97      0.97      1179\n",
      "\n"
     ]
    },
    {
     "data": {
      "image/png": "[encoded data removed]",
      "text/plain": [
       "<Figure size 432x288 with 2 Axes>"
      ]
     },
     "metadata": {},
     "output_type": "display_data"
    },
    {
     "name": "stdout",
     "output_type": "stream",
     "text": [
      "\n",
      "==================================================3==================================================\n",
      "\n",
      "Evaluation for training\n",
      "              precision    recall  f1-score   support\n",
      "\n",
      "      Normal       1.00      1.00      1.00      2545\n",
      "     Anomaly       1.00      1.00      1.00      2169\n",
      "\n",
      "    accuracy                           1.00      4714\n",
      "   macro avg       1.00      1.00      1.00      4714\n",
      "weighted avg       1.00      1.00      1.00      4714\n",
      "\n"
     ]
    },
    {
     "data": {
      "image/png": "[encoded data removed]",
      "text/plain": [
       "<Figure size 432x288 with 2 Axes>"
      ]
     },
     "metadata": {},
     "output_type": "display_data"
    },
    {
     "name": "stdout",
     "output_type": "stream",
     "text": [
      "Evaluation for testing\n",
      "              precision    recall  f1-score   support\n",
      "\n",
      "      Normal       0.95      1.00      0.98       636\n",
      "     Anomaly       1.00      0.94      0.97       543\n",
      "\n",
      "    accuracy                           0.97      1179\n",
      "   macro avg       0.98      0.97      0.97      1179\n",
      "weighted avg       0.97      0.97      0.97      1179\n",
      "\n"
     ]
    },
    {
     "data": {
      "image/png": "[encoded data removed]",
      "text/plain": [
       "<Figure size 432x288 with 2 Axes>"
      ]
     },
     "metadata": {},
     "output_type": "display_data"
    },
    {
     "name": "stdout",
     "output_type": "stream",
     "text": [
      "\n",
      "==================================================4==================================================\n",
      "\n",
      "Evaluation for training\n",
      "              precision    recall  f1-score   support\n",
      "\n",
      "      Normal       1.00      1.00      1.00      2545\n",
      "     Anomaly       1.00      1.00      1.00      2170\n",
      "\n",
      "    accuracy                           1.00      4715\n",
      "   macro avg       1.00      1.00      1.00      4715\n",
      "weighted avg       1.00      1.00      1.00      4715\n",
      "\n"
     ]
    },
    {
     "data": {
      "image/png": "[encoded data removed]",
      "text/plain": [
       "<Figure size 432x288 with 2 Axes>"
      ]
     },
     "metadata": {},
     "output_type": "display_data"
    },
    {
     "name": "stdout",
     "output_type": "stream",
     "text": [
      "Evaluation for testing\n",
      "              precision    recall  f1-score   support\n",
      "\n",
      "      Normal       0.96      1.00      0.98       636\n",
      "     Anomaly       1.00      0.95      0.97       542\n",
      "\n",
      "    accuracy                           0.98      1178\n",
      "   macro avg       0.98      0.98      0.98      1178\n",
      "weighted avg       0.98      0.98      0.98      1178\n",
      "\n"
     ]
    },
    {
     "data": {
      "image/png": "[encoded data removed]",
      "text/plain": [
       "<Figure size 432x288 with 2 Axes>"
      ]
     },
     "metadata": {},
     "output_type": "display_data"
    },
    {
     "name": "stdout",
     "output_type": "stream",
     "text": [
      "\n",
      "==================================================5==================================================\n",
      "\n",
      "Evaluation for training\n",
      "              precision    recall  f1-score   support\n",
      "\n",
      "      Normal       1.00      1.00      1.00      2545\n",
      "     Anomaly       1.00      1.00      1.00      2170\n",
      "\n",
      "    accuracy                           1.00      4715\n",
      "   macro avg       1.00      1.00      1.00      4715\n",
      "weighted avg       1.00      1.00      1.00      4715\n",
      "\n"
     ]
    },
    {
     "data": {
      "image/png": "[encoded data removed]",
      "text/plain": [
       "<Figure size 432x288 with 2 Axes>"
      ]
     },
     "metadata": {},
     "output_type": "display_data"
    },
    {
     "name": "stdout",
     "output_type": "stream",
     "text": [
      "Evaluation for testing\n",
      "              precision    recall  f1-score   support\n",
      "\n",
      "      Normal       0.97      1.00      0.98       636\n",
      "     Anomaly       1.00      0.96      0.98       542\n",
      "\n",
      "    accuracy                           0.98      1178\n",
      "   macro avg       0.98      0.98      0.98      1178\n",
      "weighted avg       0.98      0.98      0.98      1178\n",
      "\n"
     ]
    },
    {
     "data": {
      "image/png": "[encoded data removed]",
      "text/plain": [
       "<Figure size 432x288 with 2 Axes>"
      ]
     },
     "metadata": {},
     "output_type": "display_data"
    },
    {
     "name": "stdout",
     "output_type": "stream",
     "text": [
      "\n"
     ]
    },
    {
     "data": {
      "text/html": [
       "<div>\n",
       "<style scoped>\n",
       "    .dataframe tbody tr th:only-of-type {\n",
       "        vertical-align: middle;\n",
       "    }\n",
       "\n",
       "    .dataframe tbody tr th {\n",
       "        vertical-align: top;\n",
       "    }\n",
       "\n",
       "    .dataframe thead th {\n",
       "        text-align: right;\n",
       "    }\n",
       "</style>\n",
       "<table border=\"1\" class=\"dataframe\">\n",
       "  <thead>\n",
       "    <tr style=\"text-align: right;\">\n",
       "      <th></th>\n",
       "      <th>precision</th>\n",
       "      <th>recall</th>\n",
       "      <th>f1-score</th>\n",
       "      <th>accuracy</th>\n",
       "    </tr>\n",
       "  </thead>\n",
       "  <tbody>\n",
       "    <tr>\n",
       "      <th>training</th>\n",
       "      <td>1.000000</td>\n",
       "      <td>1.000000</td>\n",
       "      <td>1.000000</td>\n",
       "      <td>1.000000</td>\n",
       "    </tr>\n",
       "    <tr>\n",
       "      <th>test</th>\n",
       "      <td>0.980129</td>\n",
       "      <td>0.975905</td>\n",
       "      <td>0.977539</td>\n",
       "      <td>0.977771</td>\n",
       "    </tr>\n",
       "  </tbody>\n",
       "</table>\n",
       "</div>"
      ],
      "text/plain": [
       "          precision    recall  f1-score  accuracy\n",
       "training   1.000000  1.000000  1.000000  1.000000\n",
       "test       0.980129  0.975905  0.977539  0.977771"
      ]
     },
     "execution_count": 9,
     "metadata": {},
     "output_type": "execute_result"
    }
   ],
   "source": [
    "clf = SVC(C=5.0, kernel='rbf', tol=1e-5, max_iter=-1, random_state=42)\n",
    "\n",
    "i = 1\n",
    "\n",
    "precision_train = []\n",
    "recall_train = []\n",
    "f1_train = []\n",
    "acc_train = []\n",
    "\n",
    "precision_test = []\n",
    "recall_test = []\n",
    "f1_test = []\n",
    "acc_test = []\n",
    "\n",
    "\n",
    "for train_index, test_index in cv.split(X, y):\n",
    "    \n",
    "    print(\"=\"*50 + str(i) + \"=\"*50)\n",
    "    print()\n",
    "\n",
    "    X_train, X_test = X.iloc[train_index], X.iloc[test_index] \n",
    "    y_train, y_test = y.iloc[train_index], y.iloc[test_index]\n",
    "    \n",
    "    X_train_mat = vectorizer.fit_transform(X_train)\n",
    "    X_test_mat = vectorizer.transform(X_test)\n",
    "    \n",
    "    clf.fit(X_train_mat,y_train)\n",
    "#     clf.fit(X_train_mat)\n",
    "    y_train_pred = clf.predict(X_train_mat)\n",
    "    y_test_pred = clf.predict(X_test_mat)\n",
    "\n",
    "\n",
    "    print(\"Evaluation for training\")\n",
    "    precision,recall,fscore,support = clf_report(y_train,y_train_pred)\n",
    "    precision_train.append(precision)\n",
    "    recall_train.append(recall)\n",
    "    f1_train.append(fscore)\n",
    "    acc_train.append(accuracy_score(y_train,y_train_pred))\n",
    "\n",
    "\n",
    "    print(\"Evaluation for testing\")\n",
    "    precision,recall,fscore,support = clf_report(y_test,y_test_pred)\n",
    "    precision_test.append(precision)\n",
    "    recall_test.append(recall)\n",
    "    f1_test.append(fscore)\n",
    "    acc_test.append(accuracy_score(y_test,y_test_pred))    \n",
    "    \n",
    "    i+=1\n",
    "    print()\n",
    "    \n",
    "mean_precision_train = np.mean(precision_train)\n",
    "mean_recall_train = np.mean(recall_train)\n",
    "mean_f1_train = np.mean(f1_train)\n",
    "mean_acc_train = np.mean(acc_train)\n",
    "\n",
    "mean_precision_test = np.mean(precision_test)\n",
    "mean_recall_test = np.mean(recall_test)\n",
    "mean_f1_test = np.mean(f1_test)\n",
    "mean_acc_test = np.mean(acc_test)\n",
    "\n",
    "train_perfm = [mean_precision_train, mean_recall_train, mean_f1_train, mean_acc_train]\n",
    "test_perfm = [mean_precision_test, mean_recall_test, mean_f1_test, mean_acc_test]\n",
    "\n",
    "performance = pd.DataFrame([train_perfm, test_perfm], columns = ['precision', 'recall', 'f1-score', 'accuracy'], index=['training','test'])\n",
    "performance"
   ]
  },
  {
   "cell_type": "code",
   "execution_count": null,
   "metadata": {},
   "outputs": [],
   "source": []
  },
  {
   "cell_type": "code",
   "execution_count": null,
   "metadata": {},
   "outputs": [],
   "source": []
  },
  {
   "cell_type": "code",
   "execution_count": null,
   "metadata": {},
   "outputs": [],
   "source": []
  }
 ],
 "metadata": {
  "kernelspec": {
   "display_name": "Python 3.8.9 64-bit",
   "language": "python",
   "name": "python3"
  },
  "language_info": {
   "codemirror_mode": {
    "name": "ipython",
    "version": 3
   },
   "file_extension": ".py",
   "mimetype": "text/x-python",
   "name": "python",
   "nbconvert_exporter": "python",
   "pygments_lexer": "ipython3",
   "version": "3.9.6"
  },
  "vscode": {
   "interpreter": {
    "hash": "31f2aee4e71d21fbe5cf8b01ff0e069b9275f58929596ceb00d14d90e3e16cd6"
   }
  }
 },
 "nbformat": 4,
 "nbformat_minor": 4
}
