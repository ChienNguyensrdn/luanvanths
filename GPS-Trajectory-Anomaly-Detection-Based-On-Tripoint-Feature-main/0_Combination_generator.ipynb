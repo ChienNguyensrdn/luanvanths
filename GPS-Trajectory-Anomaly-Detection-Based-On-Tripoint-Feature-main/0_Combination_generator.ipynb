{
  "cells": [
    {
      "cell_type": "code",
      "execution_count": null,
      "metadata": {
        "colab": {
          "base_uri": "https://localhost:8080/"
        },
        "id": "gmjVD-Umg0PX",
        "outputId": "3cd0dab9-0c23-4df3-cd7f-fb910c64591d"
      },
      "outputs": [
        {
          "name": "stdout",
          "output_type": "stream",
          "text": [
            "Mounted at /content/drive\n"
          ]
        }
      ],
      "source": [
        "from google.colab import drive\n",
        "drive.mount('/content/drive')"
      ]
    },
    {
      "cell_type": "code",
      "execution_count": null,
      "metadata": {
        "id": "tPAc83qWhMDQ"
      },
      "outputs": [],
      "source": [
        "import os\n",
        "os.chdir(\"drive/My Drive/Colab Notebooks/BoBa\")"
      ]
    },
    {
      "cell_type": "code",
      "execution_count": null,
      "metadata": {
        "id": "7wbwRXGqlI2t"
      },
      "outputs": [],
      "source": [
        "import sys, os\n",
        "import itertools\n",
        "import pandas as pd"
      ]
    },
    {
      "cell_type": "code",
      "execution_count": null,
      "metadata": {
        "colab": {
          "base_uri": "https://localhost:8080/",
          "height": 417
        },
        "id": "1KlgX6GKlpRN",
        "outputId": "6d7bad15-7ca1-4988-941c-fc88cc391289"
      },
      "outputs": [
        {
          "name": "stdout",
          "output_type": "stream",
          "text": [
            "73\n"
          ]
        },
        {
          "data": {
            "text/html": [
              "<div>\n",
              "<style scoped>\n",
              "    .dataframe tbody tr th:only-of-type {\n",
              "        vertical-align: middle;\n",
              "    }\n",
              "\n",
              "    .dataframe tbody tr th {\n",
              "        vertical-align: top;\n",
              "    }\n",
              "\n",
              "    .dataframe thead th {\n",
              "        text-align: right;\n",
              "    }\n",
              "</style>\n",
              "<table border=\"1\" class=\"dataframe\">\n",
              "  <thead>\n",
              "    <tr style=\"text-align: right;\">\n",
              "      <th></th>\n",
              "      <th>vehicle_id</th>\n",
              "      <th>timestamp</th>\n",
              "      <th>longitude</th>\n",
              "      <th>latitude</th>\n",
              "      <th>route</th>\n",
              "      <th>region</th>\n",
              "    </tr>\n",
              "  </thead>\n",
              "  <tbody>\n",
              "    <tr>\n",
              "      <th>0</th>\n",
              "      <td>7</td>\n",
              "      <td>2008-02-02 15:10:26</td>\n",
              "      <td>116.76038</td>\n",
              "      <td>39.79758</td>\n",
              "      <td>Empty</td>\n",
              "      <td>Dianzhuang Tongzhou District</td>\n",
              "    </tr>\n",
              "    <tr>\n",
              "      <th>1</th>\n",
              "      <td>7</td>\n",
              "      <td>2008-02-02 15:15:49</td>\n",
              "      <td>116.76660</td>\n",
              "      <td>39.80270</td>\n",
              "      <td>Empty</td>\n",
              "      <td>Dianzhuang Tongzhou District</td>\n",
              "    </tr>\n",
              "    <tr>\n",
              "      <th>2</th>\n",
              "      <td>7</td>\n",
              "      <td>2008-02-02 15:39:32</td>\n",
              "      <td>116.76660</td>\n",
              "      <td>39.80270</td>\n",
              "      <td>Empty</td>\n",
              "      <td>Dianzhuang Tongzhou District</td>\n",
              "    </tr>\n",
              "    <tr>\n",
              "      <th>3</th>\n",
              "      <td>7</td>\n",
              "      <td>2008-02-02 15:45:26</td>\n",
              "      <td>116.76660</td>\n",
              "      <td>39.80270</td>\n",
              "      <td>Empty</td>\n",
              "      <td>Dianzhuang Tongzhou District</td>\n",
              "    </tr>\n",
              "    <tr>\n",
              "      <th>4</th>\n",
              "      <td>7</td>\n",
              "      <td>2008-02-02 19:46:58</td>\n",
              "      <td>116.76660</td>\n",
              "      <td>39.80270</td>\n",
              "      <td>Empty</td>\n",
              "      <td>Dianzhuang Tongzhou District</td>\n",
              "    </tr>\n",
              "    <tr>\n",
              "      <th>...</th>\n",
              "      <td>...</td>\n",
              "      <td>...</td>\n",
              "      <td>...</td>\n",
              "      <td>...</td>\n",
              "      <td>...</td>\n",
              "      <td>...</td>\n",
              "    </tr>\n",
              "    <tr>\n",
              "      <th>99995</th>\n",
              "      <td>7322</td>\n",
              "      <td>2008-02-08 11:37:28</td>\n",
              "      <td>116.24698</td>\n",
              "      <td>39.91577</td>\n",
              "      <td>Yuquan Road</td>\n",
              "      <td>None Beijing</td>\n",
              "    </tr>\n",
              "    <tr>\n",
              "      <th>99996</th>\n",
              "      <td>7322</td>\n",
              "      <td>2008-02-08 11:42:28</td>\n",
              "      <td>116.25413</td>\n",
              "      <td>39.91670</td>\n",
              "      <td>采石北路</td>\n",
              "      <td>None Beijing</td>\n",
              "    </tr>\n",
              "    <tr>\n",
              "      <th>99997</th>\n",
              "      <td>7322</td>\n",
              "      <td>2008-02-08 11:47:27</td>\n",
              "      <td>116.25412</td>\n",
              "      <td>39.91670</td>\n",
              "      <td>采石北路</td>\n",
              "      <td>None Beijing</td>\n",
              "    </tr>\n",
              "    <tr>\n",
              "      <th>99998</th>\n",
              "      <td>7322</td>\n",
              "      <td>2008-02-08 11:52:27</td>\n",
              "      <td>116.24714</td>\n",
              "      <td>39.92473</td>\n",
              "      <td>阜石路</td>\n",
              "      <td>None Beijing</td>\n",
              "    </tr>\n",
              "    <tr>\n",
              "      <th>99999</th>\n",
              "      <td>7322</td>\n",
              "      <td>2008-02-08 12:02:27</td>\n",
              "      <td>116.23535</td>\n",
              "      <td>39.95557</td>\n",
              "      <td>Empty</td>\n",
              "      <td>None Beijing</td>\n",
              "    </tr>\n",
              "  </tbody>\n",
              "</table>\n",
              "<p>100000 rows × 6 columns</p>\n",
              "</div>"
            ],
            "text/plain": [
              "       vehicle_id  ...                        region\n",
              "0               7  ...  Dianzhuang Tongzhou District\n",
              "1               7  ...  Dianzhuang Tongzhou District\n",
              "2               7  ...  Dianzhuang Tongzhou District\n",
              "3               7  ...  Dianzhuang Tongzhou District\n",
              "4               7  ...  Dianzhuang Tongzhou District\n",
              "...           ...  ...                           ...\n",
              "99995        7322  ...                  None Beijing\n",
              "99996        7322  ...                  None Beijing\n",
              "99997        7322  ...                  None Beijing\n",
              "99998        7322  ...                  None Beijing\n",
              "99999        7322  ...                  None Beijing\n",
              "\n",
              "[100000 rows x 6 columns]"
            ]
          },
          "execution_count": 24,
          "metadata": {
            "tags": []
          },
          "output_type": "execute_result"
        }
      ],
      "source": [
        "data = pd.read_csv('./t_drive_data100_meta.csv', encoding='utf-8').drop(columns=['peak', 'day_of_week'])\n",
        "data = data.rename(columns={'ID': 'vehicle_id'})\n",
        "group_id = data.groupby(\"vehicle_id\")\n",
        "# del data\n",
        "n = len(group_id)\n",
        "print(n)\n",
        "data"
      ]
    },
    {
      "cell_type": "code",
      "execution_count": null,
      "metadata": {
        "colab": {
          "base_uri": "https://localhost:8080/"
        },
        "id": "Ct3oaq2FsQ5-",
        "outputId": "eb8dc567-5639-4e87-bac0-f0f65d2c22fa"
      },
      "outputs": [
        {
          "name": "stdout",
          "output_type": "stream",
          "text": [
            "5152\n",
            "6\n",
            "1369.86301369863\n",
            "1172.0\n",
            "62\n"
          ]
        }
      ],
      "source": [
        "import numpy as np\n",
        "z = []\n",
        "for idx, g in enumerate(group_id):\n",
        "     z.append(g[-1].shape[0])\n",
        "\n",
        "print(max(z))\n",
        "print(min(z))\n",
        "print(np.mean(z))\n",
        "print(np.median(z))\n",
        "print(np.argmin(z))"
      ]
    },
    {
      "cell_type": "code",
      "execution_count": null,
      "metadata": {
        "colab": {
          "base_uri": "https://localhost:8080/"
        },
        "id": "rIEIECkklJkD",
        "outputId": "7b793e4f-bf44-408e-a99b-b9835ac313bc"
      },
      "outputs": [
        {
          "name": "stdout",
          "output_type": "stream",
          "text": [
            "15/73"
          ]
        }
      ],
      "source": [
        "for idx, g in enumerate(group_id):\n",
        "    \n",
        "    if idx == 15: # uncomment if get all\n",
        "        break\n",
        "\n",
        "    sys.stdout.write(f'\\r{idx+1}/{n}')\n",
        "    sys.stdout.flush()\n",
        "    g0 = g[-1][:100]\n",
        "    \n",
        "    vehicle_id = g[0]\n",
        "    longitude, latitude = g0['longitude'].tolist(), g0['latitude'].tolist()\n",
        "    \n",
        "    coords = list(zip(longitude,latitude))\n",
        "    \n",
        "    trituple_coords = list(itertools.combinations(coords,3))\n",
        "    routes = list(itertools.combinations(g0['route'].tolist(),3))\n",
        "    regions = list(itertools.combinations(g0['region'].tolist(),3))\n",
        "\n",
        "    df = pd.DataFrame(columns=['vehicle_id', 'p_start', 'p_temp', 'p_end', 'routes', 'regions'])\n",
        "    # df = pd.DataFrame(columns=['vehicle_id', 'routes', 'regions'])\n",
        "    # trituple_coords\n",
        "    for trituple, route, region in zip(trituple_coords,routes,regions):\n",
        "        p_start, p_temp, p_end = trituple[0], trituple[1], trituple[2]\n",
        "    \n",
        "        feature = {\n",
        "            \"vehicle_id\": vehicle_id,\n",
        "            \"p_start\": p_start,\n",
        "            \"p_temp\": p_temp,\n",
        "            \"p_end\": p_end,\n",
        "            \"routes\": list(route),\n",
        "            \"regions\": list(region),\n",
        "        }\n",
        "        df = pd.concat([df,pd.DataFrame.from_dict(feature, orient='index').T], axis=0)\n",
        "    \n",
        "    df.to_csv(f\"./data_id/{vehicle_id}.csv\", encoding='utf-8') #'data_id' contains t-drive. 'dataset' contains hcm\n",
        "    \n",
        "    del trituple_coords, routes, regions"
      ]
    },
    {
      "cell_type": "code",
      "execution_count": null,
      "metadata": {
        "colab": {
          "base_uri": "https://localhost:8080/"
        },
        "id": "7HxG1pDwS0km",
        "outputId": "45ff93dd-9a6d-4300-95be-5ed4dfb37a75"
      },
      "outputs": [
        {
          "name": "stdout",
          "output_type": "stream",
          "text": [
            "7.csv\n",
            "73.csv\n",
            "74.csv\n",
            "533.csv\n",
            "691.csv\n",
            "702.csv\n",
            "hcm\n"
          ]
        }
      ],
      "source": [
        "i=0\n",
        "df = pd.DataFrame(columns=['vehicle_id', 'p_start', 'p_temp', 'p_end', 'routes', 'regions'])\n",
        "path = os.path.join(os.getcwd(),'data_id') # 'data_id' contains t-drive. 'dataset' contains hcm\n",
        "# path\n",
        "for filename in os.listdir(path):\n",
        "    print(filename)\n",
        "    if filename == 'hcm':\n",
        "        break\n",
        "    x = pd.read_csv(os.path.join(path, filename))\n",
        "    x = x.drop(x.columns[0], axis=1)\n",
        "    df = pd.concat([df,x], axis=0)\n",
        "\n",
        "# df.to_csv(f\"./bo3_tdrive.csv\", index=False)"
      ]
    },
    {
      "cell_type": "code",
      "execution_count": null,
      "metadata": {
        "id": "7Nofy0dNSweT"
      },
      "outputs": [],
      "source": [
        "i=0\n",
        "df = pd.DataFrame(columns=['vehicle_id', 'p_start', 'p_temp', 'p_end', 'timestamp'])\n",
        "path = os.path.join(os.getcwd(),'dataset') # 'data_id' contains t-drive. 'dataset' contains hcm\n",
        "for filename in os.listdir(path):\n",
        "    print(filename)\n",
        "    x = pd.read_csv(os.path.join(path, filename), encoding='utf-8-sig')\n",
        "    x = x.drop(x.columns[0], axis=1)\n",
        "    df = pd.concat([df,x], axis=0)\n",
        "\n",
        "# df.to_csv(f\"./bo3.csv\", encoding='utf-8-sig', index=False)"
      ]
    },
    {
      "cell_type": "code",
      "execution_count": null,
      "metadata": {
        "colab": {
          "base_uri": "https://localhost:8080/",
          "height": 572
        },
        "id": "WaQvbjkmvOTI",
        "outputId": "5f4e7581-5dfe-4ba0-805c-ab8d9c9d314b"
      },
      "outputs": [
        {
          "data": {
            "text/html": [
              "<div>\n",
              "<style scoped>\n",
              "    .dataframe tbody tr th:only-of-type {\n",
              "        vertical-align: middle;\n",
              "    }\n",
              "\n",
              "    .dataframe tbody tr th {\n",
              "        vertical-align: top;\n",
              "    }\n",
              "\n",
              "    .dataframe thead th {\n",
              "        text-align: right;\n",
              "    }\n",
              "</style>\n",
              "<table border=\"1\" class=\"dataframe\">\n",
              "  <thead>\n",
              "    <tr style=\"text-align: right;\">\n",
              "      <th></th>\n",
              "      <th>vehicle_id</th>\n",
              "      <th>p_start</th>\n",
              "      <th>p_temp</th>\n",
              "      <th>p_end</th>\n",
              "      <th>routes</th>\n",
              "      <th>regions</th>\n",
              "    </tr>\n",
              "  </thead>\n",
              "  <tbody>\n",
              "    <tr>\n",
              "      <th>0</th>\n",
              "      <td>100000025</td>\n",
              "      <td>(106.74, 10.8014)</td>\n",
              "      <td>(106.73899999999999, 10.8012)</td>\n",
              "      <td>(106.738, 10.8012)</td>\n",
              "      <td>['Xa Lộ Hà Nội', 'Xa Lộ Hà Nội', 'Thảo Điền']</td>\n",
              "      <td>['Phường Thảo Điền Quận 2', 'Phường Thảo Điền ...</td>\n",
              "    </tr>\n",
              "    <tr>\n",
              "      <th>1</th>\n",
              "      <td>100000025</td>\n",
              "      <td>(106.74, 10.8014)</td>\n",
              "      <td>(106.73899999999999, 10.8012)</td>\n",
              "      <td>(106.738, 10.8014)</td>\n",
              "      <td>['Xa Lộ Hà Nội', 'Xa Lộ Hà Nội', 'Đướng Song H...</td>\n",
              "      <td>['Phường Thảo Điền Quận 2', 'Phường Thảo Điền ...</td>\n",
              "    </tr>\n",
              "    <tr>\n",
              "      <th>2</th>\n",
              "      <td>100000025</td>\n",
              "      <td>(106.74, 10.8014)</td>\n",
              "      <td>(106.73899999999999, 10.8012)</td>\n",
              "      <td>(106.73700000000001, 10.8012)</td>\n",
              "      <td>['Xa Lộ Hà Nội', 'Xa Lộ Hà Nội', 'Đướng Song H...</td>\n",
              "      <td>['Phường Thảo Điền Quận 2', 'Phường Thảo Điền ...</td>\n",
              "    </tr>\n",
              "    <tr>\n",
              "      <th>3</th>\n",
              "      <td>100000025</td>\n",
              "      <td>(106.74, 10.8014)</td>\n",
              "      <td>(106.73899999999999, 10.8012)</td>\n",
              "      <td>(106.736, 10.8022)</td>\n",
              "      <td>['Xa Lộ Hà Nội', 'Xa Lộ Hà Nội', 'Nguyễn Bá Lân']</td>\n",
              "      <td>['Phường Thảo Điền Quận 2', 'Phường Thảo Điền ...</td>\n",
              "    </tr>\n",
              "    <tr>\n",
              "      <th>4</th>\n",
              "      <td>100000025</td>\n",
              "      <td>(106.74, 10.8014)</td>\n",
              "      <td>(106.73899999999999, 10.8012)</td>\n",
              "      <td>(106.736, 10.8027)</td>\n",
              "      <td>['Xa Lộ Hà Nội', 'Xa Lộ Hà Nội', 'Nguyễn Bá Lân']</td>\n",
              "      <td>['Phường Thảo Điền Quận 2', 'Phường Thảo Điền ...</td>\n",
              "    </tr>\n",
              "    <tr>\n",
              "      <th>...</th>\n",
              "      <td>...</td>\n",
              "      <td>...</td>\n",
              "      <td>...</td>\n",
              "      <td>...</td>\n",
              "      <td>...</td>\n",
              "      <td>...</td>\n",
              "    </tr>\n",
              "    <tr>\n",
              "      <th>161695</th>\n",
              "      <td>100000533</td>\n",
              "      <td>(106.679, 10.8486)</td>\n",
              "      <td>(106.679, 10.8515)</td>\n",
              "      <td>(106.679, 10.8532)</td>\n",
              "      <td>['Đường Nguyễn Oanh', 'Hà Huy Giáp', 'Hà Huy G...</td>\n",
              "      <td>['Phường 17 None', 'Phường Thạnh Lộc Quận 12',...</td>\n",
              "    </tr>\n",
              "    <tr>\n",
              "      <th>161696</th>\n",
              "      <td>100000533</td>\n",
              "      <td>(106.679, 10.8488)</td>\n",
              "      <td>(106.679, 10.8502)</td>\n",
              "      <td>(106.679, 10.8515)</td>\n",
              "      <td>['Đường Nguyễn Oanh', 'Đường Nguyễn Oanh', 'Hà...</td>\n",
              "      <td>['Phường 17 None', 'Phường 17 None', 'Phường T...</td>\n",
              "    </tr>\n",
              "    <tr>\n",
              "      <th>161697</th>\n",
              "      <td>100000533</td>\n",
              "      <td>(106.679, 10.8488)</td>\n",
              "      <td>(106.679, 10.8502)</td>\n",
              "      <td>(106.679, 10.8532)</td>\n",
              "      <td>['Đường Nguyễn Oanh', 'Đường Nguyễn Oanh', 'Hà...</td>\n",
              "      <td>['Phường 17 None', 'Phường 17 None', 'Phường T...</td>\n",
              "    </tr>\n",
              "    <tr>\n",
              "      <th>161698</th>\n",
              "      <td>100000533</td>\n",
              "      <td>(106.679, 10.8488)</td>\n",
              "      <td>(106.679, 10.8515)</td>\n",
              "      <td>(106.679, 10.8532)</td>\n",
              "      <td>['Đường Nguyễn Oanh', 'Hà Huy Giáp', 'Hà Huy G...</td>\n",
              "      <td>['Phường 17 None', 'Phường Thạnh Lộc Quận 12',...</td>\n",
              "    </tr>\n",
              "    <tr>\n",
              "      <th>161699</th>\n",
              "      <td>100000533</td>\n",
              "      <td>(106.679, 10.8502)</td>\n",
              "      <td>(106.679, 10.8515)</td>\n",
              "      <td>(106.679, 10.8532)</td>\n",
              "      <td>['Đường Nguyễn Oanh', 'Hà Huy Giáp', 'Hà Huy G...</td>\n",
              "      <td>['Phường 17 None', 'Phường Thạnh Lộc Quận 12',...</td>\n",
              "    </tr>\n",
              "  </tbody>\n",
              "</table>\n",
              "<p>7276500 rows × 6 columns</p>\n",
              "</div>"
            ],
            "text/plain": [
              "       vehicle_id  ...                                            regions\n",
              "0       100000025  ...  ['Phường Thảo Điền Quận 2', 'Phường Thảo Điền ...\n",
              "1       100000025  ...  ['Phường Thảo Điền Quận 2', 'Phường Thảo Điền ...\n",
              "2       100000025  ...  ['Phường Thảo Điền Quận 2', 'Phường Thảo Điền ...\n",
              "3       100000025  ...  ['Phường Thảo Điền Quận 2', 'Phường Thảo Điền ...\n",
              "4       100000025  ...  ['Phường Thảo Điền Quận 2', 'Phường Thảo Điền ...\n",
              "...           ...  ...                                                ...\n",
              "161695  100000533  ...  ['Phường 17 None', 'Phường Thạnh Lộc Quận 12',...\n",
              "161696  100000533  ...  ['Phường 17 None', 'Phường 17 None', 'Phường T...\n",
              "161697  100000533  ...  ['Phường 17 None', 'Phường 17 None', 'Phường T...\n",
              "161698  100000533  ...  ['Phường 17 None', 'Phường Thạnh Lộc Quận 12',...\n",
              "161699  100000533  ...  ['Phường 17 None', 'Phường Thạnh Lộc Quận 12',...\n",
              "\n",
              "[7276500 rows x 6 columns]"
            ]
          },
          "execution_count": 7,
          "metadata": {
            "tags": []
          },
          "output_type": "execute_result"
        }
      ],
      "source": [
        "df"
      ]
    },
    {
      "cell_type": "code",
      "execution_count": null,
      "metadata": {
        "id": "Wpq2YyCPVy8D"
      },
      "outputs": [],
      "source": [
        "df.to_csv(f\"./bo3.csv\", encoding='utf-8-sig', index=False)"
      ]
    },
    {
      "cell_type": "code",
      "execution_count": null,
      "metadata": {
        "id": "zOSfV1HlYYFM"
      },
      "outputs": [],
      "source": [
        "data = pd.read_csv('./bo3.csv', encoding='utf-8-sig', converters={'regions': eval, 'routes': eval})\n"
      ]
    },
    {
      "cell_type": "code",
      "execution_count": null,
      "metadata": {
        "id": "j7z4AI1crzBC"
      },
      "outputs": [],
      "source": [
        "# data[:30].to_csv(f\"./bo3.csv\", encoding='utf-8-sig', index=False)"
      ]
    },
    {
      "cell_type": "code",
      "execution_count": null,
      "metadata": {
        "colab": {
          "base_uri": "https://localhost:8080/"
        },
        "id": "oAVvcnTvse0k",
        "outputId": "3e91fa30-c69e-4246-c008-b95c4b004567"
      },
      "outputs": [
        {
          "data": {
            "text/plain": [
              "list"
            ]
          },
          "execution_count": 13,
          "metadata": {
            "tags": []
          },
          "output_type": "execute_result"
        }
      ],
      "source": [
        "type(data['routes'][0])"
      ]
    },
    {
      "cell_type": "code",
      "execution_count": null,
      "metadata": {
        "id": "kZdf_3jCsrLX"
      },
      "outputs": [],
      "source": []
    }
  ],
  "metadata": {
    "accelerator": "GPU",
    "colab": {
      "collapsed_sections": [],
      "name": "0_Combination_generator.ipynb",
      "provenance": []
    },
    "kernelspec": {
      "display_name": "Python 3.8.9 64-bit",
      "language": "python",
      "name": "python3"
    },
    "language_info": {
      "name": "python",
      "version": "3.9.6"
    },
    "vscode": {
      "interpreter": {
        "hash": "31f2aee4e71d21fbe5cf8b01ff0e069b9275f58929596ceb00d14d90e3e16cd6"
      }
    }
  },
  "nbformat": 4,
  "nbformat_minor": 0
}
