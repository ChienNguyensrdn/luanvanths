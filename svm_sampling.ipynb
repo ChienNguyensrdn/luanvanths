{
  "cells": [
    {
      "cell_type": "code",
      "execution_count": null,
      "metadata": {
        "colab": {
          "background_save": true,
          "base_uri": "https://localhost:8080/"
        },
        "id": "ASq9FcNOcZpF",
        "outputId": "8731b458-58bc-497e-d1bd-9ff7ee42d8db"
      },
      "outputs": [
        {
          "name": "stdout",
          "output_type": "stream",
          "text": [
            "Looking in indexes: https://pypi.org/simple, https://us-python.pkg.dev/colab-wheels/public/simple/\n",
            "Collecting pygad\n",
            "  Downloading pygad-2.18.1-py3-none-any.whl (56 kB)\n",
            "\u001b[K     |████████████████████████████████| 56 kB 2.1 MB/s \n",
            "\u001b[?25hRequirement already satisfied: matplotlib in /usr/local/lib/python3.8/dist-packages (from pygad) (3.2.2)\n",
            "Requirement already satisfied: numpy in /usr/local/lib/python3.8/dist-packages (from pygad) (1.21.6)\n",
            "Requirement already satisfied: cycler>=0.10 in /usr/local/lib/python3.8/dist-packages (from matplotlib->pygad) (0.11.0)\n",
            "Requirement already satisfied: python-dateutil>=2.1 in /usr/local/lib/python3.8/dist-packages (from matplotlib->pygad) (2.8.2)\n",
            "Requirement already satisfied: kiwisolver>=1.0.1 in /usr/local/lib/python3.8/dist-packages (from matplotlib->pygad) (1.4.4)\n",
            "Requirement already satisfied: pyparsing!=2.0.4,!=2.1.2,!=2.1.6,>=2.0.1 in /usr/local/lib/python3.8/dist-packages (from matplotlib->pygad) (3.0.9)\n",
            "Requirement already satisfied: six>=1.5 in /usr/local/lib/python3.8/dist-packages (from python-dateutil>=2.1->matplotlib->pygad) (1.15.0)\n",
            "Installing collected packages: pygad\n",
            "Successfully installed pygad-2.18.1\n"
          ]
        }
      ],
      "source": [
        "!pip install pygad\n",
        "import pygad\n",
        "from google.colab import drive\n",
        "drive.mount('/content/drive')"
      ]
    },
    {
      "cell_type": "code",
      "execution_count": null,
      "metadata": {
        "id": "hWM7-CW_Ebox"
      },
      "outputs": [],
      "source": [
        "from imblearn.pipeline import make_pipeline\n",
        "from imblearn.over_sampling import ADASYN\n",
        "from imblearn.over_sampling import (SMOTE, BorderlineSMOTE, SVMSMOTE, SMOTENC)\n",
        "from imblearn.over_sampling import RandomOverSampler\n",
        "from sklearn.linear_model import LogisticRegression\n",
        "from imblearn.base import BaseSampler\n",
        "from sklearn.ensemble import RandomForestClassifier\n",
        "from sklearn.svm import LinearSVC, SVC\n",
        "from imblearn.combine import SMOTETomek\n",
        "from imblearn.under_sampling import  RandomUnderSampler\n",
        "from sklearn.metrics import classification_report,f1_score, confusion_matrix,recall_score, accuracy_score,precision_score, precision_recall_fscore_support,roc_auc_score, roc_curve, auc\n",
        "from imblearn.metrics import geometric_mean_score,sensitivity_score,specificity_score"
      ]
    },
    {
      "cell_type": "code",
      "execution_count": null,
      "metadata": {
        "id": "bg5StGs0l7Ux"
      },
      "outputs": [],
      "source": [
        "from sklearn.model_selection import train_test_split, StratifiedKFold,ShuffleSplit\n",
        "import numpy as np\n",
        "import random\n",
        "import pandas as pd\n",
        "def CreateDataByRatio(data,size):\n",
        "  # data_new =pd.DataFrame(columns=['label','feature'])\n",
        "  data_new=[]\n",
        "  # print(data[['label','feature']])\n",
        "  data_random=np.array( data[['label','feature','feature_v','pre_routes']])\n",
        "  random.shuffle(data_random)\n",
        "  while len(data_new)< size:\n",
        "    data_new.append(random.choice(data_random))\n",
        "  return pd.DataFrame(data_new,columns=['label','feature','feature_v','pre_routes'])"
      ]
    },
    {
      "cell_type": "code",
      "execution_count": null,
      "metadata": {
        "id": "7LnwFjoQl_mv"
      },
      "outputs": [],
      "source": [
        "def ReadDataToCsvFile(path_csv_file):\n",
        "  data=pd.read_csv(path_csv_file,encoding='utf-8', converters={'p_start':eval,'p_temp':eval,'p_end':eval}, index_col=0)\n",
        "  data['label'] = data['label'].apply(lambda label: 0 if label == False else 1)\n",
        "  return data\n"
      ]
    },
    {
      "cell_type": "code",
      "execution_count": null,
      "metadata": {
        "id": "-Q-vh5-dmETN"
      },
      "outputs": [],
      "source": [
        "def GetDataByLabel(data,label):\n",
        "  dataByLabel =data[data.label==label]\n",
        "  return dataByLabel"
      ]
    },
    {
      "cell_type": "code",
      "execution_count": null,
      "metadata": {
        "id": "bQBWYsM1mHQP"
      },
      "outputs": [],
      "source": [
        "from sklearn.feature_extraction.text import CountVectorizer\n",
        "vectorizer = CountVectorizer(tokenizer=lambda doc: doc, lowercase=False)"
      ]
    },
    {
      "cell_type": "code",
      "execution_count": null,
      "metadata": {
        "id": "I5KJeGK3379R"
      },
      "outputs": [],
      "source": [
        "data"
      ]
    },
    {
      "cell_type": "code",
      "execution_count": null,
      "metadata": {
        "colab": {
          "base_uri": "https://localhost:8080/",
          "height": 444
        },
        "id": "x0Bhq4_ymKxh",
        "outputId": "11796ad5-5140-418a-d8cb-a86091ec2bd3"
      },
      "outputs": [
        {
          "data": {
            "text/html": [
              "\n",
              "  <div id=\"df-fcfc8b60-e0da-421f-8c56-8ee6fa78e163\">\n",
              "    <div class=\"colab-df-container\">\n",
              "      <div>\n",
              "<style scoped>\n",
              "    .dataframe tbody tr th:only-of-type {\n",
              "        vertical-align: middle;\n",
              "    }\n",
              "\n",
              "    .dataframe tbody tr th {\n",
              "        vertical-align: top;\n",
              "    }\n",
              "\n",
              "    .dataframe thead th {\n",
              "        text-align: right;\n",
              "    }\n",
              "</style>\n",
              "<table border=\"1\" class=\"dataframe\">\n",
              "  <thead>\n",
              "    <tr style=\"text-align: right;\">\n",
              "      <th></th>\n",
              "      <th>index</th>\n",
              "      <th>vehicle_id</th>\n",
              "      <th>p_start</th>\n",
              "      <th>p_temp</th>\n",
              "      <th>p_end</th>\n",
              "      <th>pre_routes</th>\n",
              "      <th>freq</th>\n",
              "      <th>label</th>\n",
              "      <th>regions</th>\n",
              "      <th>feature</th>\n",
              "      <th>feature_v</th>\n",
              "      <th>router</th>\n",
              "    </tr>\n",
              "  </thead>\n",
              "  <tbody>\n",
              "    <tr>\n",
              "      <th>0</th>\n",
              "      <td>0</td>\n",
              "      <td>100000025</td>\n",
              "      <td>(106.74, 10.8014)</td>\n",
              "      <td>(106.73899999999999, 10.8012)</td>\n",
              "      <td>(106.738, 10.8012)</td>\n",
              "      <td>('xa_lộ_hà_nội', 'xa_lộ_hà_nội', 'thảo_điền')</td>\n",
              "      <td>121</td>\n",
              "      <td>0</td>\n",
              "      <td>('phường_thảo_điền_quận_2', 'phường_thảo_điền_...</td>\n",
              "      <td>(106.74, 10.8014, 106.73899999999999, 10.8012,...</td>\n",
              "      <td>[10.8014, 106.74, 10.8012, 106.73899999999999,...</td>\n",
              "      <td>('xa_lộ_hà_nội', 'xa_lộ_hà_nội', 'thảo_điền')</td>\n",
              "    </tr>\n",
              "    <tr>\n",
              "      <th>1</th>\n",
              "      <td>16</td>\n",
              "      <td>100000025</td>\n",
              "      <td>(106.74, 10.8014)</td>\n",
              "      <td>(106.73899999999999, 10.8012)</td>\n",
              "      <td>(106.73100000000001, 10.7996)</td>\n",
              "      <td>('xa_lộ_hà_nội', 'xa_lộ_hà_nội', 'cầu_sài_gòn_1')</td>\n",
              "      <td>305</td>\n",
              "      <td>0</td>\n",
              "      <td>('phường_thảo_điền_quận_2', 'phường_thảo_điền_...</td>\n",
              "      <td>(106.74, 10.8014, 106.73899999999999, 10.8012,...</td>\n",
              "      <td>[10.8014, 106.74, 10.8012, 106.73899999999999,...</td>\n",
              "      <td>('xa_lộ_hà_nội', 'xa_lộ_hà_nội', 'cầu_sài_gòn_1')</td>\n",
              "    </tr>\n",
              "    <tr>\n",
              "      <th>2</th>\n",
              "      <td>21</td>\n",
              "      <td>100000025</td>\n",
              "      <td>(106.74, 10.8014)</td>\n",
              "      <td>(106.73899999999999, 10.8012)</td>\n",
              "      <td>(106.721, 10.7981)</td>\n",
              "      <td>('xa_lộ_hà_nội', 'xa_lộ_hà_nội', 'điện_biên_phủ')</td>\n",
              "      <td>522</td>\n",
              "      <td>0</td>\n",
              "      <td>('phường_thảo_điền_quận_2', 'phường_thảo_điền_...</td>\n",
              "      <td>(106.74, 10.8014, 106.73899999999999, 10.8012,...</td>\n",
              "      <td>[10.8014, 106.74, 10.8012, 106.73899999999999,...</td>\n",
              "      <td>('xa_lộ_hà_nội', 'xa_lộ_hà_nội', 'điện_biên_phủ')</td>\n",
              "    </tr>\n",
              "    <tr>\n",
              "      <th>3</th>\n",
              "      <td>40</td>\n",
              "      <td>100000025</td>\n",
              "      <td>(106.74, 10.8014)</td>\n",
              "      <td>(106.73899999999999, 10.8012)</td>\n",
              "      <td>(106.695, 10.7912)</td>\n",
              "      <td>('xa_lộ_hà_nội', 'xa_lộ_hà_nội', 'võ_thị_sáu')</td>\n",
              "      <td>250</td>\n",
              "      <td>0</td>\n",
              "      <td>('phường_thảo_điền_quận_2', 'phường_thảo_điền_...</td>\n",
              "      <td>(106.74, 10.8014, 106.73899999999999, 10.8012,...</td>\n",
              "      <td>[10.8014, 106.74, 10.8012, 106.73899999999999,...</td>\n",
              "      <td>('xa_lộ_hà_nội', 'xa_lộ_hà_nội', 'võ_thị_sáu')</td>\n",
              "    </tr>\n",
              "    <tr>\n",
              "      <th>4</th>\n",
              "      <td>50</td>\n",
              "      <td>100000025</td>\n",
              "      <td>(106.74, 10.8014)</td>\n",
              "      <td>(106.73899999999999, 10.8012)</td>\n",
              "      <td>(106.68799999999999, 10.7858)</td>\n",
              "      <td>('xa_lộ_hà_nội', 'xa_lộ_hà_nội', 'nam_kỳ_khởi_...</td>\n",
              "      <td>127</td>\n",
              "      <td>0</td>\n",
              "      <td>('phường_thảo_điền_quận_2', 'phường_thảo_điền_...</td>\n",
              "      <td>(106.74, 10.8014, 106.73899999999999, 10.8012,...</td>\n",
              "      <td>[10.8014, 106.74, 10.8012, 106.73899999999999,...</td>\n",
              "      <td>('xa_lộ_hà_nội', 'xa_lộ_hà_nội', 'nam_kỳ_khởi_...</td>\n",
              "    </tr>\n",
              "  </tbody>\n",
              "</table>\n",
              "</div>\n",
              "      <button class=\"colab-df-convert\" onclick=\"convertToInteractive('df-fcfc8b60-e0da-421f-8c56-8ee6fa78e163')\"\n",
              "              title=\"Convert this dataframe to an interactive table.\"\n",
              "              style=\"display:none;\">\n",
              "        \n",
              "  <svg xmlns=\"http://www.w3.org/2000/svg\" height=\"24px\"viewBox=\"0 0 24 24\"\n",
              "       width=\"24px\">\n",
              "    <path d=\"M0 0h24v24H0V0z\" fill=\"none\"/>\n",
              "    <path d=\"M18.56 5.44l.94 2.06.94-2.06 2.06-.94-2.06-.94-.94-2.06-.94 2.06-2.06.94zm-11 1L8.5 8.5l.94-2.06 2.06-.94-2.06-.94L8.5 2.5l-.94 2.06-2.06.94zm10 10l.94 2.06.94-2.06 2.06-.94-2.06-.94-.94-2.06-.94 2.06-2.06.94z\"/><path d=\"M17.41 7.96l-1.37-1.37c-.4-.4-.92-.59-1.43-.59-.52 0-1.04.2-1.43.59L10.3 9.45l-7.72 7.72c-.78.78-.78 2.05 0 2.83L4 21.41c.39.39.9.59 1.41.59.51 0 1.02-.2 1.41-.59l7.78-7.78 2.81-2.81c.8-.78.8-2.07 0-2.86zM5.41 20L4 18.59l7.72-7.72 1.47 1.35L5.41 20z\"/>\n",
              "  </svg>\n",
              "      </button>\n",
              "      \n",
              "  <style>\n",
              "    .colab-df-container {\n",
              "      display:flex;\n",
              "      flex-wrap:wrap;\n",
              "      gap: 12px;\n",
              "    }\n",
              "\n",
              "    .colab-df-convert {\n",
              "      background-color: #E8F0FE;\n",
              "      border: none;\n",
              "      border-radius: 50%;\n",
              "      cursor: pointer;\n",
              "      display: none;\n",
              "      fill: #1967D2;\n",
              "      height: 32px;\n",
              "      padding: 0 0 0 0;\n",
              "      width: 32px;\n",
              "    }\n",
              "\n",
              "    .colab-df-convert:hover {\n",
              "      background-color: #E2EBFA;\n",
              "      box-shadow: 0px 1px 2px rgba(60, 64, 67, 0.3), 0px 1px 3px 1px rgba(60, 64, 67, 0.15);\n",
              "      fill: #174EA6;\n",
              "    }\n",
              "\n",
              "    [theme=dark] .colab-df-convert {\n",
              "      background-color: #3B4455;\n",
              "      fill: #D2E3FC;\n",
              "    }\n",
              "\n",
              "    [theme=dark] .colab-df-convert:hover {\n",
              "      background-color: #434B5C;\n",
              "      box-shadow: 0px 1px 3px 1px rgba(0, 0, 0, 0.15);\n",
              "      filter: drop-shadow(0px 1px 2px rgba(0, 0, 0, 0.3));\n",
              "      fill: #FFFFFF;\n",
              "    }\n",
              "  </style>\n",
              "\n",
              "      <script>\n",
              "        const buttonEl =\n",
              "          document.querySelector('#df-fcfc8b60-e0da-421f-8c56-8ee6fa78e163 button.colab-df-convert');\n",
              "        buttonEl.style.display =\n",
              "          google.colab.kernel.accessAllowed ? 'block' : 'none';\n",
              "\n",
              "        async function convertToInteractive(key) {\n",
              "          const element = document.querySelector('#df-fcfc8b60-e0da-421f-8c56-8ee6fa78e163');\n",
              "          const dataTable =\n",
              "            await google.colab.kernel.invokeFunction('convertToInteractive',\n",
              "                                                     [key], {});\n",
              "          if (!dataTable) return;\n",
              "\n",
              "          const docLinkHtml = 'Like what you see? Visit the ' +\n",
              "            '<a target=\"_blank\" href=https://colab.research.google.com/notebooks/data_table.ipynb>data table notebook</a>'\n",
              "            + ' to learn more about interactive tables.';\n",
              "          element.innerHTML = '';\n",
              "          dataTable['output_type'] = 'display_data';\n",
              "          await google.colab.output.renderOutput(dataTable, element);\n",
              "          const docLink = document.createElement('div');\n",
              "          docLink.innerHTML = docLinkHtml;\n",
              "          element.appendChild(docLink);\n",
              "        }\n",
              "      </script>\n",
              "    </div>\n",
              "  </div>\n",
              "  "
            ],
            "text/plain": [
              "   index  vehicle_id            p_start                         p_temp  \\\n",
              "0      0   100000025  (106.74, 10.8014)  (106.73899999999999, 10.8012)   \n",
              "1     16   100000025  (106.74, 10.8014)  (106.73899999999999, 10.8012)   \n",
              "2     21   100000025  (106.74, 10.8014)  (106.73899999999999, 10.8012)   \n",
              "3     40   100000025  (106.74, 10.8014)  (106.73899999999999, 10.8012)   \n",
              "4     50   100000025  (106.74, 10.8014)  (106.73899999999999, 10.8012)   \n",
              "\n",
              "                           p_end  \\\n",
              "0             (106.738, 10.8012)   \n",
              "1  (106.73100000000001, 10.7996)   \n",
              "2             (106.721, 10.7981)   \n",
              "3             (106.695, 10.7912)   \n",
              "4  (106.68799999999999, 10.7858)   \n",
              "\n",
              "                                          pre_routes  freq  label  \\\n",
              "0      ('xa_lộ_hà_nội', 'xa_lộ_hà_nội', 'thảo_điền')   121      0   \n",
              "1  ('xa_lộ_hà_nội', 'xa_lộ_hà_nội', 'cầu_sài_gòn_1')   305      0   \n",
              "2  ('xa_lộ_hà_nội', 'xa_lộ_hà_nội', 'điện_biên_phủ')   522      0   \n",
              "3     ('xa_lộ_hà_nội', 'xa_lộ_hà_nội', 'võ_thị_sáu')   250      0   \n",
              "4  ('xa_lộ_hà_nội', 'xa_lộ_hà_nội', 'nam_kỳ_khởi_...   127      0   \n",
              "\n",
              "                                             regions  \\\n",
              "0  ('phường_thảo_điền_quận_2', 'phường_thảo_điền_...   \n",
              "1  ('phường_thảo_điền_quận_2', 'phường_thảo_điền_...   \n",
              "2  ('phường_thảo_điền_quận_2', 'phường_thảo_điền_...   \n",
              "3  ('phường_thảo_điền_quận_2', 'phường_thảo_điền_...   \n",
              "4  ('phường_thảo_điền_quận_2', 'phường_thảo_điền_...   \n",
              "\n",
              "                                             feature  \\\n",
              "0  (106.74, 10.8014, 106.73899999999999, 10.8012,...   \n",
              "1  (106.74, 10.8014, 106.73899999999999, 10.8012,...   \n",
              "2  (106.74, 10.8014, 106.73899999999999, 10.8012,...   \n",
              "3  (106.74, 10.8014, 106.73899999999999, 10.8012,...   \n",
              "4  (106.74, 10.8014, 106.73899999999999, 10.8012,...   \n",
              "\n",
              "                                           feature_v  \\\n",
              "0  [10.8014, 106.74, 10.8012, 106.73899999999999,...   \n",
              "1  [10.8014, 106.74, 10.8012, 106.73899999999999,...   \n",
              "2  [10.8014, 106.74, 10.8012, 106.73899999999999,...   \n",
              "3  [10.8014, 106.74, 10.8012, 106.73899999999999,...   \n",
              "4  [10.8014, 106.74, 10.8012, 106.73899999999999,...   \n",
              "\n",
              "                                              router  \n",
              "0      ('xa_lộ_hà_nội', 'xa_lộ_hà_nội', 'thảo_điền')  \n",
              "1  ('xa_lộ_hà_nội', 'xa_lộ_hà_nội', 'cầu_sài_gòn_1')  \n",
              "2  ('xa_lộ_hà_nội', 'xa_lộ_hà_nội', 'điện_biên_phủ')  \n",
              "3     ('xa_lộ_hà_nội', 'xa_lộ_hà_nội', 'võ_thị_sáu')  \n",
              "4  ('xa_lộ_hà_nội', 'xa_lộ_hà_nội', 'nam_kỳ_khởi_...  "
            ]
          },
          "execution_count": 7,
          "metadata": {},
          "output_type": "execute_result"
        }
      ],
      "source": [
        "data=ReadDataToCsvFile('/content/drive/MyDrive/DATA-LUAN_VAN/new_clean_bo3.csv')\n",
        "# data=ReadDataToCsvFile('/content/drive/MyDrive/DATA-LUAN_VAN/clean_bo3_tdrive.csv')\n",
        "data['feature'] = data['p_start'] + data['p_temp'] + data['p_end']\n",
        "data['feature_v']= None\n",
        "data['router'] =None\n",
        "feature_v=[]\n",
        "routers =[]\n",
        "for index, row in data.iterrows():\n",
        "  feature_v.append([row['p_start'][1],row['p_start'][0],row['p_temp'][1],row['p_temp'][0],row['p_end'][1],row['p_end'][0]])\n",
        "  routers.append(row['pre_routes'])\n",
        "\n",
        "data['feature_v']=feature_v\n",
        "data['router']=routers\n",
        "data.head(5)\n",
        "# data"
      ]
    },
    {
      "cell_type": "code",
      "execution_count": null,
      "metadata": {
        "colab": {
          "base_uri": "https://localhost:8080/",
          "height": 270
        },
        "id": "qzgDRxTZOImW",
        "outputId": "3f25313b-98b7-44ad-e03b-01f5357d9b2e"
      },
      "outputs": [
        {
          "data": {
            "image/png": "[encoded data removed]",
            "text/plain": [
              "<Figure size 432x288 with 2 Axes>"
            ]
          },
          "metadata": {},
          "output_type": "display_data"
        }
      ],
      "source": [
        "import seaborn as sns\n",
        "colormap = sns.color_palette(\"Blues\")\n",
        "sns.heatmap(data.corr(), annot=True, cmap=colormap);"
      ]
    },
    {
      "cell_type": "code",
      "execution_count": null,
      "metadata": {
        "id": "DamWerBlmPKV"
      },
      "outputs": [],
      "source": [
        "# ratio test 2:8\n",
        "# 2 minority\n",
        "# 8 majority\n",
        "# data train ratio 0.25% total data\n",
        "# with total\n",
        "def GetDataByRatio(total_major,total_minor,ratio_minority,ratio_majority):\n",
        "  n=round(total_major/total_minor,1)\n",
        "  print(\"n\" ,n)\n",
        "  n1=round(ratio_majority/ratio_minority,1)\n",
        "  print(\"n1\" ,n1)\n",
        "  if n==n1:\n",
        "    print(\"case1\")\n",
        "    return round(total_minor,0),round(total_major,0)\n",
        "  elif n>n1:\n",
        "    # giam da so dat ti le\n",
        "    print(\"case2\")\n",
        "    return int(total_minor),int((total_minor)*n1)\n",
        "  else:\n",
        "    print(\"case3\")\n",
        "    return int((total_major)/n1) ,int(total_major)\n",
        ""
      ]
    },
    {
      "cell_type": "code",
      "execution_count": null,
      "metadata": {
        "colab": {
          "base_uri": "https://localhost:8080/"
        },
        "id": "OXS2a5TlmSNX",
        "outputId": "045a9425-feff-40d5-cc2e-033956f993a2"
      },
      "outputs": [
        {
          "name": "stdout",
          "output_type": "stream",
          "text": [
            "n 1.7\n",
            "n1 100.0\n",
            "case3\n"
          ]
        }
      ],
      "source": [
        "# da so\n",
        "total_major=len(data[data.label==0])\n",
        "# thieu so\n",
        "total_minor=len(data[data.label==1])\n",
        "total_minority_train,total_majority_train=GetDataByRatio(total_major,total_minor,1,100)\n",
        "# print(\"total_minority_train\",total_minority_train)\n",
        "# print(\"total_minor\",total_minor)\n",
        "# print(\"total_major\",total_major)\n",
        "# print(\"total_majority_train\",total_majority_train)\n",
        "# print(\"total_minority_train\",total_minority_train)\n",
        "# print(\"ti le\",total_majority_train/total_minority_train)"
      ]
    },
    {
      "cell_type": "code",
      "execution_count": null,
      "metadata": {
        "colab": {
          "base_uri": "https://localhost:8080/"
        },
        "id": "ylTHwK3umVCU",
        "outputId": "60b6de30-6f8c-481a-9439-539f75f32b6c"
      },
      "outputs": [
        {
          "name": "stdout",
          "output_type": "stream",
          "text": [
            "data_major 9401\n",
            "data_minor 94\n",
            "data_new 9495\n",
            "94\n"
          ]
        }
      ],
      "source": [
        "# nhom thieu so\n",
        "data_minority =data[data.label==1]\n",
        "# nhom da so\n",
        "data_majority =data[data.label==0]\n",
        "data_minor=CreateDataByRatio(data_minority,total_minority_train)\n",
        "data_major=CreateDataByRatio(data_majority,total_majority_train)\n",
        "print(\"data_major\",len(data_major))\n",
        "print(\"data_minor\",len(data_minor))\n",
        "# print(data_major)\n",
        "# data_new=data_minor.join(data_major)\n",
        "data_new=data_minor.append(data_major)\n",
        "print(\"data_new\",len(data_new))\n",
        "print(len(data_new[data_new.label==1]))\n",
        "# data_major.head(10)\n"
      ]
    },
    {
      "cell_type": "code",
      "execution_count": null,
      "metadata": {
        "colab": {
          "base_uri": "https://localhost:8080/",
          "height": 424
        },
        "id": "Lec_rbgs3nPq",
        "outputId": "84bd9409-105c-4ac2-d058-6501b7ccfd01"
      },
      "outputs": [
        {
          "data": {
            "text/html": [
              "\n",
              "  <div id=\"df-59dd01bc-8b4b-40c1-89a2-e5798db75179\">\n",
              "    <div class=\"colab-df-container\">\n",
              "      <div>\n",
              "<style scoped>\n",
              "    .dataframe tbody tr th:only-of-type {\n",
              "        vertical-align: middle;\n",
              "    }\n",
              "\n",
              "    .dataframe tbody tr th {\n",
              "        vertical-align: top;\n",
              "    }\n",
              "\n",
              "    .dataframe thead th {\n",
              "        text-align: right;\n",
              "    }\n",
              "</style>\n",
              "<table border=\"1\" class=\"dataframe\">\n",
              "  <thead>\n",
              "    <tr style=\"text-align: right;\">\n",
              "      <th></th>\n",
              "      <th>label</th>\n",
              "      <th>feature</th>\n",
              "      <th>feature_v</th>\n",
              "      <th>pre_routes</th>\n",
              "    </tr>\n",
              "  </thead>\n",
              "  <tbody>\n",
              "    <tr>\n",
              "      <th>0</th>\n",
              "      <td>1</td>\n",
              "      <td>(106.65100000000001, 10.7532, 106.652, 10.753,...</td>\n",
              "      <td>[10.7532, 106.65100000000001, 10.753, 106.652,...</td>\n",
              "      <td>('nguyễn_trãi', 'nguyễn_trãi', 'phạm_hùng')</td>\n",
              "    </tr>\n",
              "    <tr>\n",
              "      <th>1</th>\n",
              "      <td>1</td>\n",
              "      <td>(106.661, 10.748, 106.661, 10.7482, 106.663, 1...</td>\n",
              "      <td>[10.748, 106.661, 10.7482, 106.661, 10.7551, 1...</td>\n",
              "      <td>('cầu_chà_và', 'cầu_chà_và', 'mạc_thiên_tích')</td>\n",
              "    </tr>\n",
              "    <tr>\n",
              "      <th>2</th>\n",
              "      <td>1</td>\n",
              "      <td>(106.669, 10.753, 106.662, 10.7639, 106.647, 1...</td>\n",
              "      <td>[10.753, 106.669, 10.7639, 106.662, 10.7732, 1...</td>\n",
              "      <td>('trần_phú', 'hẻm_166_nguyễn_kim', 'lạc_long_q...</td>\n",
              "    </tr>\n",
              "    <tr>\n",
              "      <th>3</th>\n",
              "      <td>1</td>\n",
              "      <td>(106.705, 10.821, 106.696, 10.7977, 106.71, 10...</td>\n",
              "      <td>[10.821, 106.705, 10.7977, 106.696, 10.8248, 1...</td>\n",
              "      <td>('nơ_trang_long', 'hẻm_128_lê_văn_duyệt', 'hẻm...</td>\n",
              "    </tr>\n",
              "    <tr>\n",
              "      <th>4</th>\n",
              "      <td>1</td>\n",
              "      <td>(106.654, 10.7396, 106.656, 10.7393, 106.667, ...</td>\n",
              "      <td>[10.7396, 106.654, 10.7393, 106.656, 10.772, 1...</td>\n",
              "      <td>('phạm_thế_hiển', 'quốc_lộ_50', 'hẻm_436a_3_th...</td>\n",
              "    </tr>\n",
              "    <tr>\n",
              "      <th>...</th>\n",
              "      <td>...</td>\n",
              "      <td>...</td>\n",
              "      <td>...</td>\n",
              "      <td>...</td>\n",
              "    </tr>\n",
              "    <tr>\n",
              "      <th>9396</th>\n",
              "      <td>0</td>\n",
              "      <td>(106.664, 10.7694, 106.667, 10.7676, 106.678, ...</td>\n",
              "      <td>[10.7694, 106.664, 10.7676, 106.667, 10.7347, ...</td>\n",
              "      <td>('hẻm_7/3_thành_thái', 'nguyễn_tri_phương', 'p...</td>\n",
              "    </tr>\n",
              "    <tr>\n",
              "      <th>9397</th>\n",
              "      <td>0</td>\n",
              "      <td>(106.654, 10.7396, 106.669, 10.7605, 106.66799...</td>\n",
              "      <td>[10.7396, 106.654, 10.7605, 106.669, 10.7723, ...</td>\n",
              "      <td>('phạm_thế_hiển', 'nguyễn_tri_phương', 'hẻm_40...</td>\n",
              "    </tr>\n",
              "    <tr>\n",
              "      <th>9398</th>\n",
              "      <td>0</td>\n",
              "      <td>(106.579, 10.7359, 106.595, 10.7866, 106.595, ...</td>\n",
              "      <td>[10.7359, 106.579, 10.7866, 106.595, 10.7885, ...</td>\n",
              "      <td>('cầu_kênh_5', 'cầu_bình_thuận', 'quốc_lộ_1')</td>\n",
              "    </tr>\n",
              "    <tr>\n",
              "      <th>9399</th>\n",
              "      <td>0</td>\n",
              "      <td>(106.68299999999999, 10.7787, 106.68, 10.7764,...</td>\n",
              "      <td>[10.7787, 106.68299999999999, 10.7764, 106.68,...</td>\n",
              "      <td>('võ_thị_sáu', 'số_8', 'nguyễn_thị_thập')</td>\n",
              "    </tr>\n",
              "    <tr>\n",
              "      <th>9400</th>\n",
              "      <td>0</td>\n",
              "      <td>(106.62899999999999, 10.7502, 106.625, 10.7531...</td>\n",
              "      <td>[10.7502, 106.62899999999999, 10.7531, 106.625...</td>\n",
              "      <td>('số_10', 'số_11', 'số_11')</td>\n",
              "    </tr>\n",
              "  </tbody>\n",
              "</table>\n",
              "<p>9495 rows × 4 columns</p>\n",
              "</div>\n",
              "      <button class=\"colab-df-convert\" onclick=\"convertToInteractive('df-59dd01bc-8b4b-40c1-89a2-e5798db75179')\"\n",
              "              title=\"Convert this dataframe to an interactive table.\"\n",
              "              style=\"display:none;\">\n",
              "        \n",
              "  <svg xmlns=\"http://www.w3.org/2000/svg\" height=\"24px\"viewBox=\"0 0 24 24\"\n",
              "       width=\"24px\">\n",
              "    <path d=\"M0 0h24v24H0V0z\" fill=\"none\"/>\n",
              "    <path d=\"M18.56 5.44l.94 2.06.94-2.06 2.06-.94-2.06-.94-.94-2.06-.94 2.06-2.06.94zm-11 1L8.5 8.5l.94-2.06 2.06-.94-2.06-.94L8.5 2.5l-.94 2.06-2.06.94zm10 10l.94 2.06.94-2.06 2.06-.94-2.06-.94-.94-2.06-.94 2.06-2.06.94z\"/><path d=\"M17.41 7.96l-1.37-1.37c-.4-.4-.92-.59-1.43-.59-.52 0-1.04.2-1.43.59L10.3 9.45l-7.72 7.72c-.78.78-.78 2.05 0 2.83L4 21.41c.39.39.9.59 1.41.59.51 0 1.02-.2 1.41-.59l7.78-7.78 2.81-2.81c.8-.78.8-2.07 0-2.86zM5.41 20L4 18.59l7.72-7.72 1.47 1.35L5.41 20z\"/>\n",
              "  </svg>\n",
              "      </button>\n",
              "      \n",
              "  <style>\n",
              "    .colab-df-container {\n",
              "      display:flex;\n",
              "      flex-wrap:wrap;\n",
              "      gap: 12px;\n",
              "    }\n",
              "\n",
              "    .colab-df-convert {\n",
              "      background-color: #E8F0FE;\n",
              "      border: none;\n",
              "      border-radius: 50%;\n",
              "      cursor: pointer;\n",
              "      display: none;\n",
              "      fill: #1967D2;\n",
              "      height: 32px;\n",
              "      padding: 0 0 0 0;\n",
              "      width: 32px;\n",
              "    }\n",
              "\n",
              "    .colab-df-convert:hover {\n",
              "      background-color: #E2EBFA;\n",
              "      box-shadow: 0px 1px 2px rgba(60, 64, 67, 0.3), 0px 1px 3px 1px rgba(60, 64, 67, 0.15);\n",
              "      fill: #174EA6;\n",
              "    }\n",
              "\n",
              "    [theme=dark] .colab-df-convert {\n",
              "      background-color: #3B4455;\n",
              "      fill: #D2E3FC;\n",
              "    }\n",
              "\n",
              "    [theme=dark] .colab-df-convert:hover {\n",
              "      background-color: #434B5C;\n",
              "      box-shadow: 0px 1px 3px 1px rgba(0, 0, 0, 0.15);\n",
              "      filter: drop-shadow(0px 1px 2px rgba(0, 0, 0, 0.3));\n",
              "      fill: #FFFFFF;\n",
              "    }\n",
              "  </style>\n",
              "\n",
              "      <script>\n",
              "        const buttonEl =\n",
              "          document.querySelector('#df-59dd01bc-8b4b-40c1-89a2-e5798db75179 button.colab-df-convert');\n",
              "        buttonEl.style.display =\n",
              "          google.colab.kernel.accessAllowed ? 'block' : 'none';\n",
              "\n",
              "        async function convertToInteractive(key) {\n",
              "          const element = document.querySelector('#df-59dd01bc-8b4b-40c1-89a2-e5798db75179');\n",
              "          const dataTable =\n",
              "            await google.colab.kernel.invokeFunction('convertToInteractive',\n",
              "                                                     [key], {});\n",
              "          if (!dataTable) return;\n",
              "\n",
              "          const docLinkHtml = 'Like what you see? Visit the ' +\n",
              "            '<a target=\"_blank\" href=https://colab.research.google.com/notebooks/data_table.ipynb>data table notebook</a>'\n",
              "            + ' to learn more about interactive tables.';\n",
              "          element.innerHTML = '';\n",
              "          dataTable['output_type'] = 'display_data';\n",
              "          await google.colab.output.renderOutput(dataTable, element);\n",
              "          const docLink = document.createElement('div');\n",
              "          docLink.innerHTML = docLinkHtml;\n",
              "          element.appendChild(docLink);\n",
              "        }\n",
              "      </script>\n",
              "    </div>\n",
              "  </div>\n",
              "  "
            ],
            "text/plain": [
              "      label                                            feature  \\\n",
              "0         1  (106.65100000000001, 10.7532, 106.652, 10.753,...   \n",
              "1         1  (106.661, 10.748, 106.661, 10.7482, 106.663, 1...   \n",
              "2         1  (106.669, 10.753, 106.662, 10.7639, 106.647, 1...   \n",
              "3         1  (106.705, 10.821, 106.696, 10.7977, 106.71, 10...   \n",
              "4         1  (106.654, 10.7396, 106.656, 10.7393, 106.667, ...   \n",
              "...     ...                                                ...   \n",
              "9396      0  (106.664, 10.7694, 106.667, 10.7676, 106.678, ...   \n",
              "9397      0  (106.654, 10.7396, 106.669, 10.7605, 106.66799...   \n",
              "9398      0  (106.579, 10.7359, 106.595, 10.7866, 106.595, ...   \n",
              "9399      0  (106.68299999999999, 10.7787, 106.68, 10.7764,...   \n",
              "9400      0  (106.62899999999999, 10.7502, 106.625, 10.7531...   \n",
              "\n",
              "                                              feature_v  \\\n",
              "0     [10.7532, 106.65100000000001, 10.753, 106.652,...   \n",
              "1     [10.748, 106.661, 10.7482, 106.661, 10.7551, 1...   \n",
              "2     [10.753, 106.669, 10.7639, 106.662, 10.7732, 1...   \n",
              "3     [10.821, 106.705, 10.7977, 106.696, 10.8248, 1...   \n",
              "4     [10.7396, 106.654, 10.7393, 106.656, 10.772, 1...   \n",
              "...                                                 ...   \n",
              "9396  [10.7694, 106.664, 10.7676, 106.667, 10.7347, ...   \n",
              "9397  [10.7396, 106.654, 10.7605, 106.669, 10.7723, ...   \n",
              "9398  [10.7359, 106.579, 10.7866, 106.595, 10.7885, ...   \n",
              "9399  [10.7787, 106.68299999999999, 10.7764, 106.68,...   \n",
              "9400  [10.7502, 106.62899999999999, 10.7531, 106.625...   \n",
              "\n",
              "                                             pre_routes  \n",
              "0           ('nguyễn_trãi', 'nguyễn_trãi', 'phạm_hùng')  \n",
              "1        ('cầu_chà_và', 'cầu_chà_và', 'mạc_thiên_tích')  \n",
              "2     ('trần_phú', 'hẻm_166_nguyễn_kim', 'lạc_long_q...  \n",
              "3     ('nơ_trang_long', 'hẻm_128_lê_văn_duyệt', 'hẻm...  \n",
              "4     ('phạm_thế_hiển', 'quốc_lộ_50', 'hẻm_436a_3_th...  \n",
              "...                                                 ...  \n",
              "9396  ('hẻm_7/3_thành_thái', 'nguyễn_tri_phương', 'p...  \n",
              "9397  ('phạm_thế_hiển', 'nguyễn_tri_phương', 'hẻm_40...  \n",
              "9398      ('cầu_kênh_5', 'cầu_bình_thuận', 'quốc_lộ_1')  \n",
              "9399          ('võ_thị_sáu', 'số_8', 'nguyễn_thị_thập')  \n",
              "9400                        ('số_10', 'số_11', 'số_11')  \n",
              "\n",
              "[9495 rows x 4 columns]"
            ]
          },
          "execution_count": 10,
          "metadata": {},
          "output_type": "execute_result"
        }
      ],
      "source": [
        "data_new"
      ]
    },
    {
      "cell_type": "code",
      "execution_count": null,
      "metadata": {
        "id": "6RU-VKymml39"
      },
      "outputs": [],
      "source": [
        "from imblearn.over_sampling import BorderlineSMOTE\n",
        "from collections import Counter\n",
        "from sklearn import decomposition\n",
        "# vectorizer = CountVectorizer(tokenizer=lambda doc: doc, lowercase=False)\n",
        "# clf = SVC(C=5.0, kernel='rbf', tol=1e-5, max_iter=-1, random_state=42,probability=False)\n",
        "# cv = StratifiedKFold(n_splits=5, shuffle=True, random_state=42)\n",
        "# X=np.array(data_new['feature_v'].tolist())\n",
        "# y=data_new['label']\n",
        "\n",
        "\n",
        "X=np.array(data_new['feature_v'].tolist())\n",
        "y=data_new['label']\n",
        "X_train, X_test, y_train, y_test = train_test_split(X, y, test_size=0.25, random_state=42)\n",
        "# X_train_m = vectorizer.fit_transform(X_train)\n",
        "# X_train_m=vectorizer.transform(X_train_m)\n",
        "# X_test_m=vectorizer.fit_transform(X_test)\n",
        "# X_test_m = vectorizer.transform(X_test)\n",
        "\n",
        "\n",
        "X_train_PCA=X_train\n",
        "X_test_PCA=X_test\n",
        "pca = decomposition.PCA(n_components=3)\n",
        "pca.fit(X_train_PCA)\n",
        "X_train_PCA = pca.transform(X_train_PCA)\n",
        "\n",
        "pca.fit(X_test_PCA)\n",
        "X_test_PCA = pca.transform(X_test_PCA)\n",
        "# print(X_train_PCA.shape)\n",
        "\n",
        "\n",
        "# print(X_test.shape)\n",
        "# print(X_train.shape)\n",
        "# print(X_test_PCA.shape)\n",
        "# print(X_train_PCA.shape)\n",
        "# # X_train_m = vectorizer.fit_transform(X_train)\n",
        "# # X_test_m = vectorizer.transform(X_test)\n",
        "X_train_m=X_train_PCA\n",
        "X_test_m=X_test_PCA\n",
        "\n"
      ]
    },
    {
      "cell_type": "code",
      "execution_count": null,
      "metadata": {
        "id": "Vvsqm8IRAWQi"
      },
      "outputs": [],
      "source": [
        "\n",
        "function_inputs = y_test\n",
        "desired_output =0.2\n",
        "ratio_over=0.1\n",
        "ratio_under=0.9\n",
        "def function_threshold_resample(solution, solution_idx):\n",
        "  precent_over =random.uniform(0.5, 1)\n",
        "  f_resample=SVMSMOTE(sampling_strategy = precent_over, random_state=0) #0.7277890322254528\n",
        "  f_resample=SMOTE(sampling_strategy = precent_over, random_state=0) #0.7277890322254528\n",
        "  f_resample=BorderlineSMOTE(sampling_strategy = precent_over, random_state=0) #0.7277890322254528\n",
        "  # ADASYN,SMOTETomek\n",
        "  X_over, y_over = f_resample.fit_resample(X_train_m, y_train)\n",
        "  par= {'C': 1000, 'gamma': 1, 'kernel': 'rbf', 'tol': 0.6,'random_state':42,'max_iter':-1,'probability':True}\n",
        "  clf=SVC()\n",
        "  clf.set_params(**par)\n",
        "  clf.fit(X_over,y_over)\n",
        "  y_train_pred = clf.predict(X_over)\n",
        "  y_pred=clf.predict(X_test_m)\n",
        "  g_mean= geometric_mean_score(y_pred,y_test)\n",
        "  print('g_mean:',g_mean)\n",
        "  print('precent_over: ',precent_over)\n",
        "  fitness =g_mean\n",
        "  return fitness\n",
        "\n",
        "def fitness_func_svm(solution, solution_idx):\n",
        "  ratio_over=random.uniform(0.1, 0.4)\n",
        "  print('ratio_over',ratio_over)\n",
        "  ratio_under=random.uniform(0.5, 0.8)\n",
        "  print('ratio_under',ratio_under)\n",
        "  over = SMOTE(sampling_strategy=ratio_over)\n",
        "  under = RandomUnderSampler(sampling_strategy=ratio_under)\n",
        "  steps = [('o', over), ('u', under)]\n",
        "  pipeline = Pipeline(steps=steps)\n",
        "  X_over, y_over = pipeline.fit_resample(X_train_m, y_train)\n",
        "  print(Counter(y_over))\n",
        "  par= {'C': 1000, 'gamma': 1, 'kernel': 'rbf', 'tol': 0.6,'random_state':42,'max_iter':-1,'probability':True}\n",
        "  clf=SVC()\n",
        "  clf.set_params(**par)\n",
        "  # clf = SVC(C=5, kernel='rbf', tol=1e-5, max_iter=-1, random_state=42,probability=True)\n",
        "  clf.fit(X_over,y_over)\n",
        "  y_train_pred = clf.predict(X_over)\n",
        "  y_pred=clf.predict(X_test_m)\n",
        "  # y_proba=clf.predict_proba(X_test_m)\n",
        "  g_mean= geometric_mean_score(y_pred,y_test)\n",
        "  print('g_mean:',g_mean)\n",
        "  fitness =g_mean\n",
        "  #  1.0 / numpy.abs(g_mean - desired_output)\n",
        "  # except:\n",
        "  #   fitness=0\n",
        "  return fitness"
      ]
    },
    {
      "cell_type": "code",
      "execution_count": null,
      "metadata": {
        "colab": {
          "base_uri": "https://localhost:8080/",
          "height": 1000
        },
        "id": "Vwu8zVuMCAzo",
        "outputId": "caaa9d31-d94c-4c77-c7a0-cb8269c1da30"
      },
      "outputs": [
        {
          "name": "stderr",
          "output_type": "stream",
          "text": [
            "/usr/local/lib/python3.7/dist-packages/sklearn/metrics/_classification.py:1318: UndefinedMetricWarning: Recall is ill-defined and being set to 0.0 in labels with no true samples. Use `zero_division` parameter to control this behavior.\n",
            "  _warn_prf(average, modifier, msg_start, len(result))\n"
          ]
        },
        {
          "name": "stdout",
          "output_type": "stream",
          "text": [
            "g_mean: 0.0\n",
            "precent_over:  0.5311848866654733\n",
            "g_mean: 0.16432821674748757\n",
            "precent_over:  0.7517237562048237\n"
          ]
        },
        {
          "name": "stderr",
          "output_type": "stream",
          "text": [
            "/usr/local/lib/python3.7/dist-packages/sklearn/metrics/_classification.py:1318: UndefinedMetricWarning: Recall is ill-defined and being set to 0.0 in labels with no true samples. Use `zero_division` parameter to control this behavior.\n",
            "  _warn_prf(average, modifier, msg_start, len(result))\n"
          ]
        },
        {
          "name": "stdout",
          "output_type": "stream",
          "text": [
            "g_mean: 0.0\n",
            "precent_over:  0.4718522840648349\n",
            "g_mean: 0.1723620243722571\n",
            "precent_over:  0.7789067086540247\n"
          ]
        },
        {
          "name": "stderr",
          "output_type": "stream",
          "text": [
            "/usr/local/lib/python3.7/dist-packages/sklearn/metrics/_classification.py:1318: UndefinedMetricWarning: Recall is ill-defined and being set to 0.0 in labels with no true samples. Use `zero_division` parameter to control this behavior.\n",
            "  _warn_prf(average, modifier, msg_start, len(result))\n"
          ]
        },
        {
          "name": "stdout",
          "output_type": "stream",
          "text": [
            "g_mean: 0.0\n",
            "precent_over:  0.3081793468906987\n"
          ]
        },
        {
          "name": "stderr",
          "output_type": "stream",
          "text": [
            "/usr/local/lib/python3.7/dist-packages/sklearn/metrics/_classification.py:1318: UndefinedMetricWarning: Recall is ill-defined and being set to 0.0 in labels with no true samples. Use `zero_division` parameter to control this behavior.\n",
            "  _warn_prf(average, modifier, msg_start, len(result))\n"
          ]
        },
        {
          "name": "stdout",
          "output_type": "stream",
          "text": [
            "g_mean: 0.0\n",
            "precent_over:  0.5532135864945512\n"
          ]
        },
        {
          "name": "stderr",
          "output_type": "stream",
          "text": [
            "/usr/local/lib/python3.7/dist-packages/sklearn/metrics/_classification.py:1318: UndefinedMetricWarning: Recall is ill-defined and being set to 0.0 in labels with no true samples. Use `zero_division` parameter to control this behavior.\n",
            "  _warn_prf(average, modifier, msg_start, len(result))\n"
          ]
        },
        {
          "name": "stdout",
          "output_type": "stream",
          "text": [
            "g_mean: 0.0\n",
            "precent_over:  0.6419788345912538\n"
          ]
        },
        {
          "name": "stderr",
          "output_type": "stream",
          "text": [
            "/usr/local/lib/python3.7/dist-packages/sklearn/metrics/_classification.py:1318: UndefinedMetricWarning: Recall is ill-defined and being set to 0.0 in labels with no true samples. Use `zero_division` parameter to control this behavior.\n",
            "  _warn_prf(average, modifier, msg_start, len(result))\n"
          ]
        },
        {
          "name": "stdout",
          "output_type": "stream",
          "text": [
            "g_mean: 0.0\n",
            "precent_over:  0.24458785715519651\n"
          ]
        },
        {
          "name": "stderr",
          "output_type": "stream",
          "text": [
            "/usr/local/lib/python3.7/dist-packages/sklearn/metrics/_classification.py:1318: UndefinedMetricWarning: Recall is ill-defined and being set to 0.0 in labels with no true samples. Use `zero_division` parameter to control this behavior.\n",
            "  _warn_prf(average, modifier, msg_start, len(result))\n"
          ]
        },
        {
          "name": "stdout",
          "output_type": "stream",
          "text": [
            "g_mean: 0.0\n",
            "precent_over:  0.6438055137332651\n",
            "g_mean: 0.16567234988492438\n",
            "precent_over:  0.9837750445593391\n"
          ]
        },
        {
          "name": "stderr",
          "output_type": "stream",
          "text": [
            "/usr/local/lib/python3.7/dist-packages/sklearn/metrics/_classification.py:1318: UndefinedMetricWarning: Recall is ill-defined and being set to 0.0 in labels with no true samples. Use `zero_division` parameter to control this behavior.\n",
            "  _warn_prf(average, modifier, msg_start, len(result))\n"
          ]
        },
        {
          "name": "stdout",
          "output_type": "stream",
          "text": [
            "g_mean: 0.0\n",
            "precent_over:  0.5772444782445684\n",
            "g_mean: 0.30636895920736906\n",
            "precent_over:  0.7277890322254528\n",
            "g_mean: 0.16618197014204195\n",
            "precent_over:  0.9112600894386619\n"
          ]
        },
        {
          "name": "stderr",
          "output_type": "stream",
          "text": [
            "/usr/local/lib/python3.7/dist-packages/sklearn/metrics/_classification.py:1318: UndefinedMetricWarning: Recall is ill-defined and being set to 0.0 in labels with no true samples. Use `zero_division` parameter to control this behavior.\n",
            "  _warn_prf(average, modifier, msg_start, len(result))\n"
          ]
        },
        {
          "name": "stdout",
          "output_type": "stream",
          "text": [
            "g_mean: 0.0\n",
            "precent_over:  0.6918016499449281\n",
            "g_mean: 0.15766309461712044\n",
            "precent_over:  0.7977185990353151\n"
          ]
        },
        {
          "name": "stderr",
          "output_type": "stream",
          "text": [
            "/usr/local/lib/python3.7/dist-packages/sklearn/metrics/_classification.py:1318: UndefinedMetricWarning: Recall is ill-defined and being set to 0.0 in labels with no true samples. Use `zero_division` parameter to control this behavior.\n",
            "  _warn_prf(average, modifier, msg_start, len(result))\n"
          ]
        },
        {
          "name": "stdout",
          "output_type": "stream",
          "text": [
            "g_mean: 0.0\n",
            "precent_over:  0.3870441283093158\n"
          ]
        },
        {
          "name": "stderr",
          "output_type": "stream",
          "text": [
            "/usr/local/lib/python3.7/dist-packages/sklearn/metrics/_classification.py:1318: UndefinedMetricWarning: Recall is ill-defined and being set to 0.0 in labels with no true samples. Use `zero_division` parameter to control this behavior.\n",
            "  _warn_prf(average, modifier, msg_start, len(result))\n"
          ]
        },
        {
          "name": "stdout",
          "output_type": "stream",
          "text": [
            "g_mean: 0.0\n",
            "precent_over:  0.2704195484949729\n"
          ]
        },
        {
          "name": "stderr",
          "output_type": "stream",
          "text": [
            "/usr/local/lib/python3.7/dist-packages/sklearn/metrics/_classification.py:1318: UndefinedMetricWarning: Recall is ill-defined and being set to 0.0 in labels with no true samples. Use `zero_division` parameter to control this behavior.\n",
            "  _warn_prf(average, modifier, msg_start, len(result))\n"
          ]
        },
        {
          "name": "stdout",
          "output_type": "stream",
          "text": [
            "g_mean: 0.0\n",
            "precent_over:  0.34857095616517775\n",
            "g_mean: 0.1720366363487503\n",
            "precent_over:  0.8707977545907252\n",
            "g_mean: 0.16977783369107788\n",
            "precent_over:  0.8217696285696175\n",
            "g_mean: 0.0\n",
            "precent_over:  0.7042506997857977\n"
          ]
        },
        {
          "name": "stderr",
          "output_type": "stream",
          "text": [
            "/usr/local/lib/python3.7/dist-packages/sklearn/metrics/_classification.py:1318: UndefinedMetricWarning: Recall is ill-defined and being set to 0.0 in labels with no true samples. Use `zero_division` parameter to control this behavior.\n",
            "  _warn_prf(average, modifier, msg_start, len(result))\n"
          ]
        },
        {
          "name": "stdout",
          "output_type": "stream",
          "text": [
            "g_mean: 0.0\n",
            "precent_over:  0.6789694016039539\n"
          ]
        },
        {
          "name": "stderr",
          "output_type": "stream",
          "text": [
            "/usr/local/lib/python3.7/dist-packages/sklearn/metrics/_classification.py:1318: UndefinedMetricWarning: Recall is ill-defined and being set to 0.0 in labels with no true samples. Use `zero_division` parameter to control this behavior.\n",
            "  _warn_prf(average, modifier, msg_start, len(result))\n"
          ]
        },
        {
          "name": "stdout",
          "output_type": "stream",
          "text": [
            "g_mean: 0.0\n",
            "precent_over:  0.4945609140875905\n"
          ]
        },
        {
          "name": "stderr",
          "output_type": "stream",
          "text": [
            "/usr/local/lib/python3.7/dist-packages/sklearn/metrics/_classification.py:1318: UndefinedMetricWarning: Recall is ill-defined and being set to 0.0 in labels with no true samples. Use `zero_division` parameter to control this behavior.\n",
            "  _warn_prf(average, modifier, msg_start, len(result))\n"
          ]
        },
        {
          "name": "stdout",
          "output_type": "stream",
          "text": [
            "g_mean: 0.0\n",
            "precent_over:  0.687484594382949\n"
          ]
        },
        {
          "name": "stderr",
          "output_type": "stream",
          "text": [
            "/usr/local/lib/python3.7/dist-packages/sklearn/metrics/_classification.py:1318: UndefinedMetricWarning: Recall is ill-defined and being set to 0.0 in labels with no true samples. Use `zero_division` parameter to control this behavior.\n",
            "  _warn_prf(average, modifier, msg_start, len(result))\n"
          ]
        },
        {
          "name": "stdout",
          "output_type": "stream",
          "text": [
            "g_mean: 0.0\n",
            "precent_over:  0.6183795158365857\n"
          ]
        },
        {
          "name": "stderr",
          "output_type": "stream",
          "text": [
            "/usr/local/lib/python3.7/dist-packages/sklearn/metrics/_classification.py:1318: UndefinedMetricWarning: Recall is ill-defined and being set to 0.0 in labels with no true samples. Use `zero_division` parameter to control this behavior.\n",
            "  _warn_prf(average, modifier, msg_start, len(result))\n"
          ]
        },
        {
          "name": "stdout",
          "output_type": "stream",
          "text": [
            "g_mean: 0.0\n",
            "precent_over:  0.5099988639128197\n",
            "g_mean: 0.1600687547928141\n",
            "precent_over:  0.771306884570776\n",
            "g_mean: 0.16553904937969824\n",
            "precent_over:  0.9451272160859122\n"
          ]
        },
        {
          "name": "stderr",
          "output_type": "stream",
          "text": [
            "/usr/local/lib/python3.7/dist-packages/sklearn/metrics/_classification.py:1318: UndefinedMetricWarning: Recall is ill-defined and being set to 0.0 in labels with no true samples. Use `zero_division` parameter to control this behavior.\n",
            "  _warn_prf(average, modifier, msg_start, len(result))\n"
          ]
        },
        {
          "name": "stdout",
          "output_type": "stream",
          "text": [
            "g_mean: 0.0\n",
            "precent_over:  0.42953375157156826\n"
          ]
        },
        {
          "name": "stderr",
          "output_type": "stream",
          "text": [
            "/usr/local/lib/python3.7/dist-packages/sklearn/metrics/_classification.py:1318: UndefinedMetricWarning: Recall is ill-defined and being set to 0.0 in labels with no true samples. Use `zero_division` parameter to control this behavior.\n",
            "  _warn_prf(average, modifier, msg_start, len(result))\n"
          ]
        },
        {
          "name": "stdout",
          "output_type": "stream",
          "text": [
            "g_mean: 0.0\n",
            "precent_over:  0.6608959394702049\n"
          ]
        },
        {
          "name": "stderr",
          "output_type": "stream",
          "text": [
            "/usr/local/lib/python3.7/dist-packages/sklearn/metrics/_classification.py:1318: UndefinedMetricWarning: Recall is ill-defined and being set to 0.0 in labels with no true samples. Use `zero_division` parameter to control this behavior.\n",
            "  _warn_prf(average, modifier, msg_start, len(result))\n"
          ]
        },
        {
          "name": "stdout",
          "output_type": "stream",
          "text": [
            "g_mean: 0.0\n",
            "precent_over:  0.3572438517723985\n"
          ]
        },
        {
          "name": "stderr",
          "output_type": "stream",
          "text": [
            "/usr/local/lib/python3.7/dist-packages/sklearn/metrics/_classification.py:1318: UndefinedMetricWarning: Recall is ill-defined and being set to 0.0 in labels with no true samples. Use `zero_division` parameter to control this behavior.\n",
            "  _warn_prf(average, modifier, msg_start, len(result))\n"
          ]
        },
        {
          "name": "stdout",
          "output_type": "stream",
          "text": [
            "g_mean: 0.0\n",
            "precent_over:  0.4336454301600102\n",
            "g_mean: 0.1275910959747707\n",
            "precent_over:  0.7509636389224825\n"
          ]
        },
        {
          "name": "stderr",
          "output_type": "stream",
          "text": [
            "/usr/local/lib/python3.7/dist-packages/sklearn/metrics/_classification.py:1318: UndefinedMetricWarning: Recall is ill-defined and being set to 0.0 in labels with no true samples. Use `zero_division` parameter to control this behavior.\n",
            "  _warn_prf(average, modifier, msg_start, len(result))\n"
          ]
        },
        {
          "name": "stdout",
          "output_type": "stream",
          "text": [
            "g_mean: 0.0\n",
            "precent_over:  0.6155848528042196\n",
            "g_mean: 0.16180189533617406\n",
            "precent_over:  0.79621880193726\n",
            "g_mean: 0.16696338134668828\n",
            "precent_over:  0.941204366624238\n"
          ]
        },
        {
          "name": "stderr",
          "output_type": "stream",
          "text": [
            "/usr/local/lib/python3.7/dist-packages/sklearn/metrics/_classification.py:1318: UndefinedMetricWarning: Recall is ill-defined and being set to 0.0 in labels with no true samples. Use `zero_division` parameter to control this behavior.\n",
            "  _warn_prf(average, modifier, msg_start, len(result))\n"
          ]
        },
        {
          "name": "stdout",
          "output_type": "stream",
          "text": [
            "g_mean: 0.0\n",
            "precent_over:  0.7040452970568202\n"
          ]
        },
        {
          "name": "stderr",
          "output_type": "stream",
          "text": [
            "/usr/local/lib/python3.7/dist-packages/sklearn/metrics/_classification.py:1318: UndefinedMetricWarning: Recall is ill-defined and being set to 0.0 in labels with no true samples. Use `zero_division` parameter to control this behavior.\n",
            "  _warn_prf(average, modifier, msg_start, len(result))\n"
          ]
        },
        {
          "name": "stdout",
          "output_type": "stream",
          "text": [
            "g_mean: 0.0\n",
            "precent_over:  0.6217590158857756\n"
          ]
        },
        {
          "name": "stderr",
          "output_type": "stream",
          "text": [
            "/usr/local/lib/python3.7/dist-packages/sklearn/metrics/_classification.py:1318: UndefinedMetricWarning: Recall is ill-defined and being set to 0.0 in labels with no true samples. Use `zero_division` parameter to control this behavior.\n",
            "  _warn_prf(average, modifier, msg_start, len(result))\n"
          ]
        },
        {
          "name": "stdout",
          "output_type": "stream",
          "text": [
            "g_mean: 0.0\n",
            "precent_over:  0.645683051498958\n"
          ]
        },
        {
          "name": "stderr",
          "output_type": "stream",
          "text": [
            "/usr/local/lib/python3.7/dist-packages/sklearn/metrics/_classification.py:1318: UndefinedMetricWarning: Recall is ill-defined and being set to 0.0 in labels with no true samples. Use `zero_division` parameter to control this behavior.\n",
            "  _warn_prf(average, modifier, msg_start, len(result))\n"
          ]
        },
        {
          "name": "stdout",
          "output_type": "stream",
          "text": [
            "g_mean: 0.0\n",
            "precent_over:  0.24693590453515027\n",
            "g_mean: 0.1697870823008353\n",
            "precent_over:  0.9227381527264115\n"
          ]
        },
        {
          "name": "stderr",
          "output_type": "stream",
          "text": [
            "/usr/local/lib/python3.7/dist-packages/sklearn/metrics/_classification.py:1318: UndefinedMetricWarning: Recall is ill-defined and being set to 0.0 in labels with no true samples. Use `zero_division` parameter to control this behavior.\n",
            "  _warn_prf(average, modifier, msg_start, len(result))\n"
          ]
        },
        {
          "name": "stdout",
          "output_type": "stream",
          "text": [
            "g_mean: 0.0\n",
            "precent_over:  0.619756522396592\n"
          ]
        },
        {
          "name": "stderr",
          "output_type": "stream",
          "text": [
            "/usr/local/lib/python3.7/dist-packages/sklearn/metrics/_classification.py:1318: UndefinedMetricWarning: Recall is ill-defined and being set to 0.0 in labels with no true samples. Use `zero_division` parameter to control this behavior.\n",
            "  _warn_prf(average, modifier, msg_start, len(result))\n"
          ]
        },
        {
          "name": "stdout",
          "output_type": "stream",
          "text": [
            "g_mean: 0.0\n",
            "precent_over:  0.5297857013136771\n",
            "g_mean: 0.1396630878883428\n",
            "precent_over:  0.749098744588453\n",
            "g_mean: 0.0\n",
            "precent_over:  0.7097453945519305\n",
            "g_mean: 0.17090082701126647\n",
            "precent_over:  0.91007762669938\n"
          ]
        },
        {
          "name": "stderr",
          "output_type": "stream",
          "text": [
            "/usr/local/lib/python3.7/dist-packages/sklearn/metrics/_classification.py:1318: UndefinedMetricWarning: Recall is ill-defined and being set to 0.0 in labels with no true samples. Use `zero_division` parameter to control this behavior.\n",
            "  _warn_prf(average, modifier, msg_start, len(result))\n"
          ]
        },
        {
          "name": "stdout",
          "output_type": "stream",
          "text": [
            "g_mean: 0.0\n",
            "precent_over:  0.1890325683279015\n"
          ]
        },
        {
          "name": "stderr",
          "output_type": "stream",
          "text": [
            "/usr/local/lib/python3.7/dist-packages/sklearn/metrics/_classification.py:1318: UndefinedMetricWarning: Recall is ill-defined and being set to 0.0 in labels with no true samples. Use `zero_division` parameter to control this behavior.\n",
            "  _warn_prf(average, modifier, msg_start, len(result))\n"
          ]
        },
        {
          "name": "stdout",
          "output_type": "stream",
          "text": [
            "g_mean: 0.0\n",
            "precent_over:  0.16777766988838583\n"
          ]
        },
        {
          "name": "stderr",
          "output_type": "stream",
          "text": [
            "/usr/local/lib/python3.7/dist-packages/sklearn/metrics/_classification.py:1318: UndefinedMetricWarning: Recall is ill-defined and being set to 0.0 in labels with no true samples. Use `zero_division` parameter to control this behavior.\n",
            "  _warn_prf(average, modifier, msg_start, len(result))\n"
          ]
        },
        {
          "name": "stdout",
          "output_type": "stream",
          "text": [
            "g_mean: 0.0\n",
            "precent_over:  0.6308797155643002\n"
          ]
        },
        {
          "name": "stderr",
          "output_type": "stream",
          "text": [
            "/usr/local/lib/python3.7/dist-packages/sklearn/metrics/_classification.py:1318: UndefinedMetricWarning: Recall is ill-defined and being set to 0.0 in labels with no true samples. Use `zero_division` parameter to control this behavior.\n",
            "  _warn_prf(average, modifier, msg_start, len(result))\n"
          ]
        },
        {
          "name": "stdout",
          "output_type": "stream",
          "text": [
            "g_mean: 0.0\n",
            "precent_over:  0.4254565481732372\n",
            "g_mean: 0.1719374382051609\n",
            "precent_over:  0.8464680753791413\n",
            "g_mean: 0.1583255759429077\n",
            "precent_over:  0.7597455495230152\n"
          ]
        },
        {
          "name": "stderr",
          "output_type": "stream",
          "text": [
            "/usr/local/lib/python3.7/dist-packages/sklearn/metrics/_classification.py:1318: UndefinedMetricWarning: Recall is ill-defined and being set to 0.0 in labels with no true samples. Use `zero_division` parameter to control this behavior.\n",
            "  _warn_prf(average, modifier, msg_start, len(result))\n"
          ]
        },
        {
          "name": "stdout",
          "output_type": "stream",
          "text": [
            "g_mean: 0.0\n",
            "precent_over:  0.33959998524766366\n"
          ]
        },
        {
          "name": "stderr",
          "output_type": "stream",
          "text": [
            "/usr/local/lib/python3.7/dist-packages/sklearn/metrics/_classification.py:1318: UndefinedMetricWarning: Recall is ill-defined and being set to 0.0 in labels with no true samples. Use `zero_division` parameter to control this behavior.\n",
            "  _warn_prf(average, modifier, msg_start, len(result))\n"
          ]
        },
        {
          "name": "stdout",
          "output_type": "stream",
          "text": [
            "g_mean: 0.0\n",
            "precent_over:  0.3014085520301336\n",
            "g_mean: 0.16582210253105956\n",
            "precent_over:  0.7570914551854252\n"
          ]
        },
        {
          "name": "stderr",
          "output_type": "stream",
          "text": [
            "/usr/local/lib/python3.7/dist-packages/sklearn/metrics/_classification.py:1318: UndefinedMetricWarning: Recall is ill-defined and being set to 0.0 in labels with no true samples. Use `zero_division` parameter to control this behavior.\n",
            "  _warn_prf(average, modifier, msg_start, len(result))\n"
          ]
        },
        {
          "name": "stdout",
          "output_type": "stream",
          "text": [
            "g_mean: 0.0\n",
            "precent_over:  0.6295256112513579\n",
            "g_mean: 0.166449522856338\n",
            "precent_over:  0.9183287968175776\n"
          ]
        },
        {
          "name": "stderr",
          "output_type": "stream",
          "text": [
            "/usr/local/lib/python3.7/dist-packages/sklearn/metrics/_classification.py:1318: UndefinedMetricWarning: Recall is ill-defined and being set to 0.0 in labels with no true samples. Use `zero_division` parameter to control this behavior.\n",
            "  _warn_prf(average, modifier, msg_start, len(result))\n"
          ]
        },
        {
          "name": "stdout",
          "output_type": "stream",
          "text": [
            "g_mean: 0.0\n",
            "precent_over:  0.3593547379842231\n"
          ]
        },
        {
          "name": "stderr",
          "output_type": "stream",
          "text": [
            "/usr/local/lib/python3.7/dist-packages/sklearn/metrics/_classification.py:1318: UndefinedMetricWarning: Recall is ill-defined and being set to 0.0 in labels with no true samples. Use `zero_division` parameter to control this behavior.\n",
            "  _warn_prf(average, modifier, msg_start, len(result))\n"
          ]
        },
        {
          "name": "stdout",
          "output_type": "stream",
          "text": [
            "g_mean: 0.0\n",
            "precent_over:  0.5629335924337969\n"
          ]
        },
        {
          "name": "stderr",
          "output_type": "stream",
          "text": [
            "/usr/local/lib/python3.7/dist-packages/sklearn/metrics/_classification.py:1318: UndefinedMetricWarning: Recall is ill-defined and being set to 0.0 in labels with no true samples. Use `zero_division` parameter to control this behavior.\n",
            "  _warn_prf(average, modifier, msg_start, len(result))\n"
          ]
        },
        {
          "name": "stdout",
          "output_type": "stream",
          "text": [
            "g_mean: 0.0\n",
            "precent_over:  0.2135059658932321\n"
          ]
        },
        {
          "name": "stderr",
          "output_type": "stream",
          "text": [
            "/usr/local/lib/python3.7/dist-packages/sklearn/metrics/_classification.py:1318: UndefinedMetricWarning: Recall is ill-defined and being set to 0.0 in labels with no true samples. Use `zero_division` parameter to control this behavior.\n",
            "  _warn_prf(average, modifier, msg_start, len(result))\n"
          ]
        },
        {
          "name": "stdout",
          "output_type": "stream",
          "text": [
            "g_mean: 0.0\n",
            "precent_over:  0.1844945238297095\n",
            "g_mean: 0.1727906976004469\n",
            "precent_over:  0.7446413653501327\n"
          ]
        },
        {
          "name": "stderr",
          "output_type": "stream",
          "text": [
            "/usr/local/lib/python3.7/dist-packages/sklearn/metrics/_classification.py:1318: UndefinedMetricWarning: Recall is ill-defined and being set to 0.0 in labels with no true samples. Use `zero_division` parameter to control this behavior.\n",
            "  _warn_prf(average, modifier, msg_start, len(result))\n"
          ]
        },
        {
          "name": "stdout",
          "output_type": "stream",
          "text": [
            "g_mean: 0.0\n",
            "precent_over:  0.5472694826986703\n",
            "g_mean: 0.16367754668964002\n",
            "precent_over:  0.9525791937080934\n"
          ]
        },
        {
          "name": "stderr",
          "output_type": "stream",
          "text": [
            "/usr/local/lib/python3.7/dist-packages/sklearn/metrics/_classification.py:1318: UndefinedMetricWarning: Recall is ill-defined and being set to 0.0 in labels with no true samples. Use `zero_division` parameter to control this behavior.\n",
            "  _warn_prf(average, modifier, msg_start, len(result))\n"
          ]
        },
        {
          "name": "stdout",
          "output_type": "stream",
          "text": [
            "g_mean: 0.0\n",
            "precent_over:  0.2817975428432357\n"
          ]
        },
        {
          "name": "stderr",
          "output_type": "stream",
          "text": [
            "/usr/local/lib/python3.7/dist-packages/sklearn/metrics/_classification.py:1318: UndefinedMetricWarning: Recall is ill-defined and being set to 0.0 in labels with no true samples. Use `zero_division` parameter to control this behavior.\n",
            "  _warn_prf(average, modifier, msg_start, len(result))\n"
          ]
        },
        {
          "name": "stdout",
          "output_type": "stream",
          "text": [
            "g_mean: 0.0\n",
            "precent_over:  0.6358547713891083\n"
          ]
        },
        {
          "name": "stderr",
          "output_type": "stream",
          "text": [
            "/usr/local/lib/python3.7/dist-packages/sklearn/metrics/_classification.py:1318: UndefinedMetricWarning: Recall is ill-defined and being set to 0.0 in labels with no true samples. Use `zero_division` parameter to control this behavior.\n",
            "  _warn_prf(average, modifier, msg_start, len(result))\n"
          ]
        },
        {
          "name": "stdout",
          "output_type": "stream",
          "text": [
            "g_mean: 0.0\n",
            "precent_over:  0.6116144821226849\n",
            "g_mean: 0.17076041709444376\n",
            "precent_over:  0.9010130074096038\n",
            "g_mean: 0.1600687547928141\n",
            "precent_over:  0.7711032737199713\n",
            "g_mean: 0.14859855138026712\n",
            "precent_over:  0.7805231427023601\n"
          ]
        },
        {
          "name": "stderr",
          "output_type": "stream",
          "text": [
            "/usr/local/lib/python3.7/dist-packages/sklearn/metrics/_classification.py:1318: UndefinedMetricWarning: Recall is ill-defined and being set to 0.0 in labels with no true samples. Use `zero_division` parameter to control this behavior.\n",
            "  _warn_prf(average, modifier, msg_start, len(result))\n"
          ]
        },
        {
          "name": "stdout",
          "output_type": "stream",
          "text": [
            "g_mean: 0.0\n",
            "precent_over:  0.5394747687251421\n",
            "g_mean: 0.1724441052202228\n",
            "precent_over:  0.7769771953959803\n"
          ]
        },
        {
          "name": "stderr",
          "output_type": "stream",
          "text": [
            "/usr/local/lib/python3.7/dist-packages/sklearn/metrics/_classification.py:1318: UndefinedMetricWarning: Recall is ill-defined and being set to 0.0 in labels with no true samples. Use `zero_division` parameter to control this behavior.\n",
            "  _warn_prf(average, modifier, msg_start, len(result))\n"
          ]
        },
        {
          "name": "stdout",
          "output_type": "stream",
          "text": [
            "g_mean: 0.0\n",
            "precent_over:  0.40844171081208214\n",
            "g_mean: 0.1632876342360937\n",
            "precent_over:  0.7622534758315732\n"
          ]
        },
        {
          "name": "stderr",
          "output_type": "stream",
          "text": [
            "/usr/local/lib/python3.7/dist-packages/sklearn/metrics/_classification.py:1318: UndefinedMetricWarning: Recall is ill-defined and being set to 0.0 in labels with no true samples. Use `zero_division` parameter to control this behavior.\n",
            "  _warn_prf(average, modifier, msg_start, len(result))\n"
          ]
        },
        {
          "name": "stdout",
          "output_type": "stream",
          "text": [
            "g_mean: 0.0\n",
            "precent_over:  0.49947693321225484\n",
            "g_mean: 0.0\n",
            "precent_over:  0.7231370900981468\n"
          ]
        },
        {
          "name": "stderr",
          "output_type": "stream",
          "text": [
            "/usr/local/lib/python3.7/dist-packages/sklearn/metrics/_classification.py:1318: UndefinedMetricWarning: Recall is ill-defined and being set to 0.0 in labels with no true samples. Use `zero_division` parameter to control this behavior.\n",
            "  _warn_prf(average, modifier, msg_start, len(result))\n"
          ]
        },
        {
          "name": "stdout",
          "output_type": "stream",
          "text": [
            "g_mean: 0.0\n",
            "precent_over:  0.2296893762730759\n",
            "g_mean: 0.17151039105483082\n",
            "precent_over:  0.8347119249026338\n",
            "g_mean: 0.0\n",
            "precent_over:  0.7255034148222664\n",
            "g_mean: 0.29932412011169957\n",
            "precent_over:  0.718815037746374\n"
          ]
        },
        {
          "name": "stderr",
          "output_type": "stream",
          "text": [
            "/usr/local/lib/python3.7/dist-packages/sklearn/metrics/_classification.py:1318: UndefinedMetricWarning: Recall is ill-defined and being set to 0.0 in labels with no true samples. Use `zero_division` parameter to control this behavior.\n",
            "  _warn_prf(average, modifier, msg_start, len(result))\n"
          ]
        },
        {
          "name": "stdout",
          "output_type": "stream",
          "text": [
            "g_mean: 0.0\n",
            "precent_over:  0.6952209427724365\n"
          ]
        },
        {
          "name": "stderr",
          "output_type": "stream",
          "text": [
            "/usr/local/lib/python3.7/dist-packages/sklearn/metrics/_classification.py:1318: UndefinedMetricWarning: Recall is ill-defined and being set to 0.0 in labels with no true samples. Use `zero_division` parameter to control this behavior.\n",
            "  _warn_prf(average, modifier, msg_start, len(result))\n"
          ]
        },
        {
          "name": "stdout",
          "output_type": "stream",
          "text": [
            "g_mean: 0.0\n",
            "precent_over:  0.22927014261778195\n"
          ]
        },
        {
          "name": "stderr",
          "output_type": "stream",
          "text": [
            "/usr/local/lib/python3.7/dist-packages/sklearn/metrics/_classification.py:1318: UndefinedMetricWarning: Recall is ill-defined and being set to 0.0 in labels with no true samples. Use `zero_division` parameter to control this behavior.\n",
            "  _warn_prf(average, modifier, msg_start, len(result))\n"
          ]
        },
        {
          "name": "stdout",
          "output_type": "stream",
          "text": [
            "g_mean: 0.0\n",
            "precent_over:  0.6601669177113868\n"
          ]
        },
        {
          "name": "stderr",
          "output_type": "stream",
          "text": [
            "/usr/local/lib/python3.7/dist-packages/sklearn/metrics/_classification.py:1318: UndefinedMetricWarning: Recall is ill-defined and being set to 0.0 in labels with no true samples. Use `zero_division` parameter to control this behavior.\n",
            "  _warn_prf(average, modifier, msg_start, len(result))\n"
          ]
        },
        {
          "name": "stdout",
          "output_type": "stream",
          "text": [
            "g_mean: 0.0\n",
            "precent_over:  0.20153084775868213\n"
          ]
        },
        {
          "name": "stderr",
          "output_type": "stream",
          "text": [
            "/usr/local/lib/python3.7/dist-packages/sklearn/metrics/_classification.py:1318: UndefinedMetricWarning: Recall is ill-defined and being set to 0.0 in labels with no true samples. Use `zero_division` parameter to control this behavior.\n",
            "  _warn_prf(average, modifier, msg_start, len(result))\n"
          ]
        },
        {
          "name": "stdout",
          "output_type": "stream",
          "text": [
            "g_mean: 0.0\n",
            "precent_over:  0.22329083386608245\n"
          ]
        },
        {
          "name": "stderr",
          "output_type": "stream",
          "text": [
            "/usr/local/lib/python3.7/dist-packages/sklearn/metrics/_classification.py:1318: UndefinedMetricWarning: Recall is ill-defined and being set to 0.0 in labels with no true samples. Use `zero_division` parameter to control this behavior.\n",
            "  _warn_prf(average, modifier, msg_start, len(result))\n"
          ]
        },
        {
          "name": "stdout",
          "output_type": "stream",
          "text": [
            "g_mean: 0.0\n",
            "precent_over:  0.39863006130060663\n",
            "g_mean: 0.1560252160345509\n",
            "precent_over:  0.7991620617910801\n"
          ]
        },
        {
          "name": "stderr",
          "output_type": "stream",
          "text": [
            "/usr/local/lib/python3.7/dist-packages/sklearn/metrics/_classification.py:1318: UndefinedMetricWarning: Recall is ill-defined and being set to 0.0 in labels with no true samples. Use `zero_division` parameter to control this behavior.\n",
            "  _warn_prf(average, modifier, msg_start, len(result))\n"
          ]
        },
        {
          "name": "stdout",
          "output_type": "stream",
          "text": [
            "g_mean: 0.0\n",
            "precent_over:  0.2881077272999183\n"
          ]
        },
        {
          "name": "stderr",
          "output_type": "stream",
          "text": [
            "/usr/local/lib/python3.7/dist-packages/sklearn/metrics/_classification.py:1318: UndefinedMetricWarning: Recall is ill-defined and being set to 0.0 in labels with no true samples. Use `zero_division` parameter to control this behavior.\n",
            "  _warn_prf(average, modifier, msg_start, len(result))\n"
          ]
        },
        {
          "name": "stdout",
          "output_type": "stream",
          "text": [
            "g_mean: 0.0\n",
            "precent_over:  0.6515441210601252\n"
          ]
        },
        {
          "name": "stderr",
          "output_type": "stream",
          "text": [
            "/usr/local/lib/python3.7/dist-packages/sklearn/metrics/_classification.py:1318: UndefinedMetricWarning: Recall is ill-defined and being set to 0.0 in labels with no true samples. Use `zero_division` parameter to control this behavior.\n",
            "  _warn_prf(average, modifier, msg_start, len(result))\n"
          ]
        },
        {
          "name": "stdout",
          "output_type": "stream",
          "text": [
            "g_mean: 0.0\n",
            "precent_over:  0.3603840206084421\n"
          ]
        },
        {
          "name": "stderr",
          "output_type": "stream",
          "text": [
            "/usr/local/lib/python3.7/dist-packages/sklearn/metrics/_classification.py:1318: UndefinedMetricWarning: Recall is ill-defined and being set to 0.0 in labels with no true samples. Use `zero_division` parameter to control this behavior.\n",
            "  _warn_prf(average, modifier, msg_start, len(result))\n"
          ]
        },
        {
          "name": "stdout",
          "output_type": "stream",
          "text": [
            "g_mean: 0.0\n",
            "precent_over:  0.7083560846898828\n"
          ]
        },
        {
          "name": "stderr",
          "output_type": "stream",
          "text": [
            "/usr/local/lib/python3.7/dist-packages/sklearn/metrics/_classification.py:1318: UndefinedMetricWarning: Recall is ill-defined and being set to 0.0 in labels with no true samples. Use `zero_division` parameter to control this behavior.\n",
            "  _warn_prf(average, modifier, msg_start, len(result))\n"
          ]
        },
        {
          "name": "stdout",
          "output_type": "stream",
          "text": [
            "g_mean: 0.0\n",
            "precent_over:  0.5625222200844447\n"
          ]
        },
        {
          "name": "stderr",
          "output_type": "stream",
          "text": [
            "/usr/local/lib/python3.7/dist-packages/sklearn/metrics/_classification.py:1318: UndefinedMetricWarning: Recall is ill-defined and being set to 0.0 in labels with no true samples. Use `zero_division` parameter to control this behavior.\n",
            "  _warn_prf(average, modifier, msg_start, len(result))\n"
          ]
        },
        {
          "name": "stdout",
          "output_type": "stream",
          "text": [
            "g_mean: 0.0\n",
            "precent_over:  0.24957126428850354\n",
            "g_mean: 0.0\n",
            "precent_over:  0.6973724508506743\n"
          ]
        },
        {
          "name": "stderr",
          "output_type": "stream",
          "text": [
            "/usr/local/lib/python3.7/dist-packages/sklearn/metrics/_classification.py:1318: UndefinedMetricWarning: Recall is ill-defined and being set to 0.0 in labels with no true samples. Use `zero_division` parameter to control this behavior.\n",
            "  _warn_prf(average, modifier, msg_start, len(result))\n"
          ]
        },
        {
          "name": "stdout",
          "output_type": "stream",
          "text": [
            "g_mean: 0.0\n",
            "precent_over:  0.5730674608321745\n",
            "g_mean: 0.17452692215823187\n",
            "precent_over:  0.8726802558567072\n"
          ]
        },
        {
          "name": "stderr",
          "output_type": "stream",
          "text": [
            "/usr/local/lib/python3.7/dist-packages/sklearn/metrics/_classification.py:1318: UndefinedMetricWarning: Recall is ill-defined and being set to 0.0 in labels with no true samples. Use `zero_division` parameter to control this behavior.\n",
            "  _warn_prf(average, modifier, msg_start, len(result))\n"
          ]
        },
        {
          "name": "stdout",
          "output_type": "stream",
          "text": [
            "g_mean: 0.0\n",
            "precent_over:  0.30266053807353754\n"
          ]
        },
        {
          "name": "stderr",
          "output_type": "stream",
          "text": [
            "/usr/local/lib/python3.7/dist-packages/sklearn/metrics/_classification.py:1318: UndefinedMetricWarning: Recall is ill-defined and being set to 0.0 in labels with no true samples. Use `zero_division` parameter to control this behavior.\n",
            "  _warn_prf(average, modifier, msg_start, len(result))\n"
          ]
        },
        {
          "name": "stdout",
          "output_type": "stream",
          "text": [
            "g_mean: 0.0\n",
            "precent_over:  0.675395091123163\n"
          ]
        },
        {
          "name": "stderr",
          "output_type": "stream",
          "text": [
            "/usr/local/lib/python3.7/dist-packages/sklearn/metrics/_classification.py:1318: UndefinedMetricWarning: Recall is ill-defined and being set to 0.0 in labels with no true samples. Use `zero_division` parameter to control this behavior.\n",
            "  _warn_prf(average, modifier, msg_start, len(result))\n"
          ]
        },
        {
          "name": "stdout",
          "output_type": "stream",
          "text": [
            "g_mean: 0.0\n",
            "precent_over:  0.4702908969277698\n",
            "g_mean: 0.17259166036573662\n",
            "precent_over:  0.7503104880304546\n"
          ]
        },
        {
          "name": "stderr",
          "output_type": "stream",
          "text": [
            "/usr/local/lib/python3.7/dist-packages/sklearn/metrics/_classification.py:1318: UndefinedMetricWarning: Recall is ill-defined and being set to 0.0 in labels with no true samples. Use `zero_division` parameter to control this behavior.\n",
            "  _warn_prf(average, modifier, msg_start, len(result))\n"
          ]
        },
        {
          "name": "stdout",
          "output_type": "stream",
          "text": [
            "g_mean: 0.0\n",
            "precent_over:  0.29285129802504095\n"
          ]
        },
        {
          "name": "stderr",
          "output_type": "stream",
          "text": [
            "/usr/local/lib/python3.7/dist-packages/sklearn/metrics/_classification.py:1318: UndefinedMetricWarning: Recall is ill-defined and being set to 0.0 in labels with no true samples. Use `zero_division` parameter to control this behavior.\n",
            "  _warn_prf(average, modifier, msg_start, len(result))\n"
          ]
        },
        {
          "name": "stdout",
          "output_type": "stream",
          "text": [
            "g_mean: 0.0\n",
            "precent_over:  0.17052262145575403\n",
            "g_mean: 0.1704806257792988\n",
            "precent_over:  0.9030170055962421\n"
          ]
        },
        {
          "name": "stderr",
          "output_type": "stream",
          "text": [
            "/usr/local/lib/python3.7/dist-packages/sklearn/metrics/_classification.py:1318: UndefinedMetricWarning: Recall is ill-defined and being set to 0.0 in labels with no true samples. Use `zero_division` parameter to control this behavior.\n",
            "  _warn_prf(average, modifier, msg_start, len(result))\n"
          ]
        },
        {
          "name": "stdout",
          "output_type": "stream",
          "text": [
            "g_mean: 0.0\n",
            "precent_over:  0.5478709448948464\n"
          ]
        },
        {
          "name": "stderr",
          "output_type": "stream",
          "text": [
            "/usr/local/lib/python3.7/dist-packages/sklearn/metrics/_classification.py:1318: UndefinedMetricWarning: Recall is ill-defined and being set to 0.0 in labels with no true samples. Use `zero_division` parameter to control this behavior.\n",
            "  _warn_prf(average, modifier, msg_start, len(result))\n"
          ]
        },
        {
          "name": "stdout",
          "output_type": "stream",
          "text": [
            "g_mean: 0.0\n",
            "precent_over:  0.6481269781110385\n"
          ]
        },
        {
          "name": "stderr",
          "output_type": "stream",
          "text": [
            "/usr/local/lib/python3.7/dist-packages/sklearn/metrics/_classification.py:1318: UndefinedMetricWarning: Recall is ill-defined and being set to 0.0 in labels with no true samples. Use `zero_division` parameter to control this behavior.\n",
            "  _warn_prf(average, modifier, msg_start, len(result))\n"
          ]
        },
        {
          "name": "stdout",
          "output_type": "stream",
          "text": [
            "g_mean: 0.0\n",
            "precent_over:  0.7099942672931605\n"
          ]
        },
        {
          "name": "stderr",
          "output_type": "stream",
          "text": [
            "/usr/local/lib/python3.7/dist-packages/sklearn/metrics/_classification.py:1318: UndefinedMetricWarning: Recall is ill-defined and being set to 0.0 in labels with no true samples. Use `zero_division` parameter to control this behavior.\n",
            "  _warn_prf(average, modifier, msg_start, len(result))\n"
          ]
        },
        {
          "name": "stdout",
          "output_type": "stream",
          "text": [
            "g_mean: 0.0\n",
            "precent_over:  0.5501258045298285\n"
          ]
        },
        {
          "name": "stderr",
          "output_type": "stream",
          "text": [
            "/usr/local/lib/python3.7/dist-packages/sklearn/metrics/_classification.py:1318: UndefinedMetricWarning: Recall is ill-defined and being set to 0.0 in labels with no true samples. Use `zero_division` parameter to control this behavior.\n",
            "  _warn_prf(average, modifier, msg_start, len(result))\n"
          ]
        },
        {
          "name": "stdout",
          "output_type": "stream",
          "text": [
            "g_mean: 0.0\n",
            "precent_over:  0.45446100094183917\n"
          ]
        },
        {
          "name": "stderr",
          "output_type": "stream",
          "text": [
            "/usr/local/lib/python3.7/dist-packages/sklearn/metrics/_classification.py:1318: UndefinedMetricWarning: Recall is ill-defined and being set to 0.0 in labels with no true samples. Use `zero_division` parameter to control this behavior.\n",
            "  _warn_prf(average, modifier, msg_start, len(result))\n"
          ]
        },
        {
          "name": "stdout",
          "output_type": "stream",
          "text": [
            "g_mean: 0.0\n",
            "precent_over:  0.29809195650344994\n"
          ]
        },
        {
          "name": "stderr",
          "output_type": "stream",
          "text": [
            "/usr/local/lib/python3.7/dist-packages/sklearn/metrics/_classification.py:1318: UndefinedMetricWarning: Recall is ill-defined and being set to 0.0 in labels with no true samples. Use `zero_division` parameter to control this behavior.\n",
            "  _warn_prf(average, modifier, msg_start, len(result))\n"
          ]
        },
        {
          "name": "stdout",
          "output_type": "stream",
          "text": [
            "g_mean: 0.0\n",
            "precent_over:  0.6744691928672385\n"
          ]
        },
        {
          "name": "stderr",
          "output_type": "stream",
          "text": [
            "/usr/local/lib/python3.7/dist-packages/sklearn/metrics/_classification.py:1318: UndefinedMetricWarning: Recall is ill-defined and being set to 0.0 in labels with no true samples. Use `zero_division` parameter to control this behavior.\n",
            "  _warn_prf(average, modifier, msg_start, len(result))\n"
          ]
        },
        {
          "name": "stdout",
          "output_type": "stream",
          "text": [
            "g_mean: 0.0\n",
            "precent_over:  0.3522479377295673\n"
          ]
        },
        {
          "name": "stderr",
          "output_type": "stream",
          "text": [
            "/usr/local/lib/python3.7/dist-packages/sklearn/metrics/_classification.py:1318: UndefinedMetricWarning: Recall is ill-defined and being set to 0.0 in labels with no true samples. Use `zero_division` parameter to control this behavior.\n",
            "  _warn_prf(average, modifier, msg_start, len(result))\n"
          ]
        },
        {
          "name": "stdout",
          "output_type": "stream",
          "text": [
            "g_mean: 0.0\n",
            "precent_over:  0.11549306671082175\n",
            "g_mean: 0.16790786817464315\n",
            "precent_over:  0.8053442658972606\n"
          ]
        },
        {
          "name": "stderr",
          "output_type": "stream",
          "text": [
            "/usr/local/lib/python3.7/dist-packages/sklearn/metrics/_classification.py:1318: UndefinedMetricWarning: Recall is ill-defined and being set to 0.0 in labels with no true samples. Use `zero_division` parameter to control this behavior.\n",
            "  _warn_prf(average, modifier, msg_start, len(result))\n"
          ]
        },
        {
          "name": "stdout",
          "output_type": "stream",
          "text": [
            "g_mean: 0.0\n",
            "precent_over:  0.34658479437589607\n"
          ]
        },
        {
          "name": "stderr",
          "output_type": "stream",
          "text": [
            "/usr/local/lib/python3.7/dist-packages/sklearn/metrics/_classification.py:1318: UndefinedMetricWarning: Recall is ill-defined and being set to 0.0 in labels with no true samples. Use `zero_division` parameter to control this behavior.\n",
            "  _warn_prf(average, modifier, msg_start, len(result))\n"
          ]
        },
        {
          "name": "stdout",
          "output_type": "stream",
          "text": [
            "g_mean: 0.0\n",
            "precent_over:  0.6699724409603051\n",
            "g_mean: 0.1623540188289347\n",
            "precent_over:  0.7865504611760579\n"
          ]
        },
        {
          "name": "stderr",
          "output_type": "stream",
          "text": [
            "/usr/local/lib/python3.7/dist-packages/sklearn/metrics/_classification.py:1318: UndefinedMetricWarning: Recall is ill-defined and being set to 0.0 in labels with no true samples. Use `zero_division` parameter to control this behavior.\n",
            "  _warn_prf(average, modifier, msg_start, len(result))\n"
          ]
        },
        {
          "name": "stdout",
          "output_type": "stream",
          "text": [
            "g_mean: 0.0\n",
            "precent_over:  0.29628794480067244\n"
          ]
        },
        {
          "name": "stderr",
          "output_type": "stream",
          "text": [
            "/usr/local/lib/python3.7/dist-packages/sklearn/metrics/_classification.py:1318: UndefinedMetricWarning: Recall is ill-defined and being set to 0.0 in labels with no true samples. Use `zero_division` parameter to control this behavior.\n",
            "  _warn_prf(average, modifier, msg_start, len(result))\n"
          ]
        },
        {
          "name": "stdout",
          "output_type": "stream",
          "text": [
            "g_mean: 0.0\n",
            "precent_over:  0.4688526414726971\n"
          ]
        },
        {
          "name": "stderr",
          "output_type": "stream",
          "text": [
            "/usr/local/lib/python3.7/dist-packages/sklearn/metrics/_classification.py:1318: UndefinedMetricWarning: Recall is ill-defined and being set to 0.0 in labels with no true samples. Use `zero_division` parameter to control this behavior.\n",
            "  _warn_prf(average, modifier, msg_start, len(result))\n"
          ]
        },
        {
          "name": "stdout",
          "output_type": "stream",
          "text": [
            "g_mean: 0.0\n",
            "precent_over:  0.4766136221686089\n"
          ]
        },
        {
          "name": "stderr",
          "output_type": "stream",
          "text": [
            "/usr/local/lib/python3.7/dist-packages/sklearn/metrics/_classification.py:1318: UndefinedMetricWarning: Recall is ill-defined and being set to 0.0 in labels with no true samples. Use `zero_division` parameter to control this behavior.\n",
            "  _warn_prf(average, modifier, msg_start, len(result))\n"
          ]
        },
        {
          "name": "stdout",
          "output_type": "stream",
          "text": [
            "g_mean: 0.0\n",
            "precent_over:  0.10705860292379138\n"
          ]
        },
        {
          "name": "stderr",
          "output_type": "stream",
          "text": [
            "/usr/local/lib/python3.7/dist-packages/sklearn/metrics/_classification.py:1318: UndefinedMetricWarning: Recall is ill-defined and being set to 0.0 in labels with no true samples. Use `zero_division` parameter to control this behavior.\n",
            "  _warn_prf(average, modifier, msg_start, len(result))\n"
          ]
        },
        {
          "name": "stdout",
          "output_type": "stream",
          "text": [
            "g_mean: 0.0\n",
            "precent_over:  0.4622042331519496\n",
            "g_mean: 0.1625956622159123\n",
            "precent_over:  0.9245462953796707\n"
          ]
        },
        {
          "name": "stderr",
          "output_type": "stream",
          "text": [
            "/usr/local/lib/python3.7/dist-packages/sklearn/metrics/_classification.py:1318: UndefinedMetricWarning: Recall is ill-defined and being set to 0.0 in labels with no true samples. Use `zero_division` parameter to control this behavior.\n",
            "  _warn_prf(average, modifier, msg_start, len(result))\n"
          ]
        },
        {
          "name": "stdout",
          "output_type": "stream",
          "text": [
            "g_mean: 0.0\n",
            "precent_over:  0.3549847678729554\n",
            "g_mean: 0.16672544346497162\n",
            "precent_over:  0.8630286535512557\n"
          ]
        },
        {
          "name": "stderr",
          "output_type": "stream",
          "text": [
            "/usr/local/lib/python3.7/dist-packages/sklearn/metrics/_classification.py:1318: UndefinedMetricWarning: Recall is ill-defined and being set to 0.0 in labels with no true samples. Use `zero_division` parameter to control this behavior.\n",
            "  _warn_prf(average, modifier, msg_start, len(result))\n"
          ]
        },
        {
          "name": "stdout",
          "output_type": "stream",
          "text": [
            "g_mean: 0.0\n",
            "precent_over:  0.4191651556508873\n",
            "g_mean: 0.17347360678080243\n",
            "precent_over:  0.8761536575183614\n"
          ]
        },
        {
          "name": "stderr",
          "output_type": "stream",
          "text": [
            "/usr/local/lib/python3.7/dist-packages/sklearn/metrics/_classification.py:1318: UndefinedMetricWarning: Recall is ill-defined and being set to 0.0 in labels with no true samples. Use `zero_division` parameter to control this behavior.\n",
            "  _warn_prf(average, modifier, msg_start, len(result))\n"
          ]
        },
        {
          "name": "stdout",
          "output_type": "stream",
          "text": [
            "g_mean: 0.0\n",
            "precent_over:  0.4037775405874787\n"
          ]
        },
        {
          "name": "stderr",
          "output_type": "stream",
          "text": [
            "/usr/local/lib/python3.7/dist-packages/sklearn/metrics/_classification.py:1318: UndefinedMetricWarning: Recall is ill-defined and being set to 0.0 in labels with no true samples. Use `zero_division` parameter to control this behavior.\n",
            "  _warn_prf(average, modifier, msg_start, len(result))\n"
          ]
        },
        {
          "name": "stdout",
          "output_type": "stream",
          "text": [
            "g_mean: 0.0\n",
            "precent_over:  0.43924529591127826\n"
          ]
        },
        {
          "name": "stderr",
          "output_type": "stream",
          "text": [
            "/usr/local/lib/python3.7/dist-packages/sklearn/metrics/_classification.py:1318: UndefinedMetricWarning: Recall is ill-defined and being set to 0.0 in labels with no true samples. Use `zero_division` parameter to control this behavior.\n",
            "  _warn_prf(average, modifier, msg_start, len(result))\n"
          ]
        },
        {
          "name": "stdout",
          "output_type": "stream",
          "text": [
            "g_mean: 0.0\n",
            "precent_over:  0.43796973952442797\n"
          ]
        },
        {
          "name": "stderr",
          "output_type": "stream",
          "text": [
            "/usr/local/lib/python3.7/dist-packages/sklearn/metrics/_classification.py:1318: UndefinedMetricWarning: Recall is ill-defined and being set to 0.0 in labels with no true samples. Use `zero_division` parameter to control this behavior.\n",
            "  _warn_prf(average, modifier, msg_start, len(result))\n"
          ]
        },
        {
          "name": "stdout",
          "output_type": "stream",
          "text": [
            "g_mean: 0.0\n",
            "precent_over:  0.12879771254129388\n",
            "g_mean: 0.1575265833975671\n",
            "precent_over:  0.7640248038748563\n",
            "g_mean: 0.0\n",
            "precent_over:  0.7229421938897522\n"
          ]
        },
        {
          "name": "stderr",
          "output_type": "stream",
          "text": [
            "/usr/local/lib/python3.7/dist-packages/sklearn/metrics/_classification.py:1318: UndefinedMetricWarning: Recall is ill-defined and being set to 0.0 in labels with no true samples. Use `zero_division` parameter to control this behavior.\n",
            "  _warn_prf(average, modifier, msg_start, len(result))\n"
          ]
        },
        {
          "name": "stdout",
          "output_type": "stream",
          "text": [
            "g_mean: 0.0\n",
            "precent_over:  0.5991635792878548\n"
          ]
        },
        {
          "name": "stderr",
          "output_type": "stream",
          "text": [
            "/usr/local/lib/python3.7/dist-packages/sklearn/metrics/_classification.py:1318: UndefinedMetricWarning: Recall is ill-defined and being set to 0.0 in labels with no true samples. Use `zero_division` parameter to control this behavior.\n",
            "  _warn_prf(average, modifier, msg_start, len(result))\n"
          ]
        },
        {
          "name": "stdout",
          "output_type": "stream",
          "text": [
            "g_mean: 0.0\n",
            "precent_over:  0.1227736832932447\n",
            "g_mean: 0.286579237863576\n",
            "precent_over:  0.7275589433988816\n"
          ]
        },
        {
          "name": "stderr",
          "output_type": "stream",
          "text": [
            "/usr/local/lib/python3.7/dist-packages/sklearn/metrics/_classification.py:1318: UndefinedMetricWarning: Recall is ill-defined and being set to 0.0 in labels with no true samples. Use `zero_division` parameter to control this behavior.\n",
            "  _warn_prf(average, modifier, msg_start, len(result))\n"
          ]
        },
        {
          "name": "stdout",
          "output_type": "stream",
          "text": [
            "g_mean: 0.0\n",
            "precent_over:  0.42364926763169686\n",
            "g_mean: 0.14564504678199278\n",
            "precent_over:  0.8089840349374254\n",
            "g_mean: 0.1671233617591053\n",
            "precent_over:  0.7658654875551522\n"
          ]
        },
        {
          "name": "stderr",
          "output_type": "stream",
          "text": [
            "/usr/local/lib/python3.7/dist-packages/sklearn/metrics/_classification.py:1318: UndefinedMetricWarning: Recall is ill-defined and being set to 0.0 in labels with no true samples. Use `zero_division` parameter to control this behavior.\n",
            "  _warn_prf(average, modifier, msg_start, len(result))\n"
          ]
        },
        {
          "name": "stdout",
          "output_type": "stream",
          "text": [
            "g_mean: 0.0\n",
            "precent_over:  0.5615746623801271\n"
          ]
        },
        {
          "name": "stderr",
          "output_type": "stream",
          "text": [
            "/usr/local/lib/python3.7/dist-packages/sklearn/metrics/_classification.py:1318: UndefinedMetricWarning: Recall is ill-defined and being set to 0.0 in labels with no true samples. Use `zero_division` parameter to control this behavior.\n",
            "  _warn_prf(average, modifier, msg_start, len(result))\n"
          ]
        },
        {
          "name": "stdout",
          "output_type": "stream",
          "text": [
            "g_mean: 0.0\n",
            "precent_over:  0.39701324982271813\n"
          ]
        },
        {
          "name": "stderr",
          "output_type": "stream",
          "text": [
            "/usr/local/lib/python3.7/dist-packages/sklearn/metrics/_classification.py:1318: UndefinedMetricWarning: Recall is ill-defined and being set to 0.0 in labels with no true samples. Use `zero_division` parameter to control this behavior.\n",
            "  _warn_prf(average, modifier, msg_start, len(result))\n"
          ]
        },
        {
          "name": "stdout",
          "output_type": "stream",
          "text": [
            "g_mean: 0.0\n",
            "precent_over:  0.49619674873060615\n",
            "g_mean: 0.16573711861100304\n",
            "precent_over:  0.8768723893594704\n",
            "g_mean: 0.15018330329572865\n",
            "precent_over:  0.774150483200839\n"
          ]
        },
        {
          "name": "stderr",
          "output_type": "stream",
          "text": [
            "/usr/local/lib/python3.7/dist-packages/sklearn/metrics/_classification.py:1318: UndefinedMetricWarning: Recall is ill-defined and being set to 0.0 in labels with no true samples. Use `zero_division` parameter to control this behavior.\n",
            "  _warn_prf(average, modifier, msg_start, len(result))\n"
          ]
        },
        {
          "name": "stdout",
          "output_type": "stream",
          "text": [
            "g_mean: 0.0\n",
            "precent_over:  0.20358324827695784\n",
            "g_mean: 0.16414787883634419\n",
            "precent_over:  0.9852785916852921\n",
            "g_mean: 0.17270042812538544\n",
            "precent_over:  0.844456424877053\n",
            "g_mean: 0.16837064516808287\n",
            "precent_over:  0.9668286775007536\n",
            "g_mean: 0.15826379434579502\n",
            "precent_over:  0.810820527351739\n"
          ]
        },
        {
          "name": "stderr",
          "output_type": "stream",
          "text": [
            "/usr/local/lib/python3.7/dist-packages/sklearn/metrics/_classification.py:1318: UndefinedMetricWarning: Recall is ill-defined and being set to 0.0 in labels with no true samples. Use `zero_division` parameter to control this behavior.\n",
            "  _warn_prf(average, modifier, msg_start, len(result))\n"
          ]
        },
        {
          "name": "stdout",
          "output_type": "stream",
          "text": [
            "g_mean: 0.0\n",
            "precent_over:  0.26879977867793425\n",
            "g_mean: 0.18437482124073562\n",
            "precent_over:  0.7433322273882524\n"
          ]
        },
        {
          "name": "stderr",
          "output_type": "stream",
          "text": [
            "/usr/local/lib/python3.7/dist-packages/sklearn/metrics/_classification.py:1318: UndefinedMetricWarning: Recall is ill-defined and being set to 0.0 in labels with no true samples. Use `zero_division` parameter to control this behavior.\n",
            "  _warn_prf(average, modifier, msg_start, len(result))\n"
          ]
        },
        {
          "name": "stdout",
          "output_type": "stream",
          "text": [
            "g_mean: 0.0\n",
            "precent_over:  0.549444739456266\n"
          ]
        },
        {
          "name": "stderr",
          "output_type": "stream",
          "text": [
            "/usr/local/lib/python3.7/dist-packages/sklearn/metrics/_classification.py:1318: UndefinedMetricWarning: Recall is ill-defined and being set to 0.0 in labels with no true samples. Use `zero_division` parameter to control this behavior.\n",
            "  _warn_prf(average, modifier, msg_start, len(result))\n"
          ]
        },
        {
          "name": "stdout",
          "output_type": "stream",
          "text": [
            "g_mean: 0.0\n",
            "precent_over:  0.4743659984976999\n"
          ]
        },
        {
          "name": "stderr",
          "output_type": "stream",
          "text": [
            "/usr/local/lib/python3.7/dist-packages/sklearn/metrics/_classification.py:1318: UndefinedMetricWarning: Recall is ill-defined and being set to 0.0 in labels with no true samples. Use `zero_division` parameter to control this behavior.\n",
            "  _warn_prf(average, modifier, msg_start, len(result))\n"
          ]
        },
        {
          "name": "stdout",
          "output_type": "stream",
          "text": [
            "g_mean: 0.0\n",
            "precent_over:  0.5986694716265076\n",
            "g_mean: 0.15296345971502315\n",
            "precent_over:  0.7614488466397339\n",
            "g_mean: 0.0\n",
            "precent_over:  0.3508639206588998\n",
            "solution 1899\n",
            "Parameters of the best solution : [ 3.11223299 -2.03373697 -3.94640693 ...  3.86930985  1.18274493\n",
            "  1.18755181]\n",
            "Fitness value of the best solution = 0.30636895920736906\n"
          ]
        },
        {
          "name": "stderr",
          "output_type": "stream",
          "text": [
            "/usr/local/lib/python3.7/dist-packages/sklearn/metrics/_classification.py:1318: UndefinedMetricWarning: Recall is ill-defined and being set to 0.0 in labels with no true samples. Use `zero_division` parameter to control this behavior.\n",
            "  _warn_prf(average, modifier, msg_start, len(result))\n"
          ]
        },
        {
          "data": {
            "image/png": "[encoded data removed]",
            "text/plain": [
              "<Figure size 432x288 with 1 Axes>"
            ]
          },
          "metadata": {},
          "output_type": "display_data"
        },
        {
          "name": "stdout",
          "output_type": "stream",
          "text": [
            "CPU times: user 54min 42s, sys: 18.5 s, total: 55min\n",
            "Wall time: 55min 26s\n"
          ]
        },
        {
          "data": {
            "image/png": "[encoded data removed]",
            "text/plain": [
              "<Figure size 432x288 with 1 Axes>"
            ]
          },
          "execution_count": 17,
          "metadata": {},
          "output_type": "execute_result"
        }
      ],
      "source": [
        "%%time\n",
        "fitness_function = function_threshold_resample\n",
        "num_generations = 20\n",
        "num_parents_mating = 4\n",
        "sol_per_pop = 8\n",
        "num_genes = len(function_inputs)\n",
        "init_range_low = -4\n",
        "init_range_high =4\n",
        "parent_selection_type = \"sss\"\n",
        "keep_parents = 1\n",
        "crossover_type = \"single_point\"\n",
        "mutation_type = \"random\"\n",
        "random_mutation_min_val=0\n",
        "random_mutation_max_val=1.0\n",
        "mutation_percent_genes = 30\n",
        "# print(len(function_inputs))\n",
        "ga_instance = pygad.GA(num_generations=num_generations,\n",
        "                       num_parents_mating=num_parents_mating,\n",
        "                       fitness_func=fitness_function,\n",
        "                       sol_per_pop=sol_per_pop,\n",
        "                       num_genes=num_genes,\n",
        "                       init_range_low=init_range_low,\n",
        "                       init_range_high=init_range_high,\n",
        "                       parent_selection_type=parent_selection_type,\n",
        "                       keep_parents=keep_parents,\n",
        "                       crossover_type=crossover_type,\n",
        "                       mutation_type=mutation_type,\n",
        "                       mutation_percent_genes=mutation_percent_genes)\n",
        "ga_instance.run()\n",
        "solution, solution_fitness, solution_idx = ga_instance.best_solution()\n",
        "print('solution',len(solution))\n",
        "print(\"Parameters of the best solution : {solution}\".format(solution=solution))\n",
        "print(\"Fitness value of the best solution = {solution_fitness}\".format(solution_fitness=solution_fitness))\n",
        "ga_instance.plot_fitness()"
      ]
    },
    {
      "cell_type": "code",
      "execution_count": null,
      "metadata": {
        "colab": {
          "base_uri": "https://localhost:8080/"
        },
        "id": "cGs6rODkd6OE",
        "outputId": "e286439a-df9e-4854-92f8-d7f4626e243e"
      },
      "outputs": [
        {
          "name": "stdout",
          "output_type": "stream",
          "text": [
            "========================================= SVM\n",
            "---------NOMAL---------------------------------------\n",
            "roc score on test:  0.6981\n",
            "f1 score on test:  0.0508\n",
            "G-mean score 0.1618\n",
            "Weighted accuracy 0.6441\n",
            "------------------------------------------------\n",
            "Counter({0: 7063, 1: 5140})\n",
            "method:  SMOTE\n",
            "roc score on test:  0.7011\n",
            "f1 score on test:  0.0548\n",
            "G-mean score 0.1686\n",
            "Weighted accuracy 0.6462\n",
            "------------------------------------------------\n",
            "Counter({0: 7063, 1: 5140})\n",
            "method:  BorderlineSMOTE\n",
            "roc score on test:  0.6322\n",
            "f1 score on test:  0.0687\n",
            "G-mean score 0.1915\n",
            "Weighted accuracy 0.6416\n",
            "------------------------------------------------\n",
            "Counter({0: 7063, 1: 3093})\n",
            "method:  SVMSMOTE\n",
            "roc score on test:  0.6475\n",
            "f1 score on test:  0.0687\n",
            "G-mean score 0.1911\n",
            "Weighted accuracy 0.6495\n",
            "------------------------------------------------\n",
            "Counter({0: 7063, 1: 5116})\n",
            "method:  ADASYN\n",
            "roc score on test:  0.7002\n",
            "f1 score on test:  0.0533\n",
            "G-mean score 0.1662\n",
            "Weighted accuracy 0.6415\n",
            "------------------------------------------------\n",
            "Counter({0: 7050, 1: 5127})\n",
            "method:  SMOTETomek\n",
            "roc score on test:  0.701\n",
            "f1 score on test:  0.0548\n",
            "G-mean score 0.1686\n",
            "Weighted accuracy 0.6462\n",
            "------------------------------------------------\n",
            "Counter({0: 7063, 1: 5140})\n",
            "method:  RandomOverSampler\n",
            "roc score on test:  0.6895\n",
            "f1 score on test:  0.0518\n",
            "G-mean score 0.1635\n",
            "Weighted accuracy 0.6479\n",
            "------------------------------------------------\n",
            "Counter({0: 784, 1: 706})\n",
            "method:  SMOTE_RandomUnderSampler\n",
            "roc score on test:  0.6758\n",
            "f1 score on test:  0.0534\n",
            "G-mean score 0.1663\n",
            "Weighted accuracy 0.6479\n",
            "------------------------------------------------\n",
            "Counter({0: 807, 1: 727})\n",
            "method:  ADASYN_RandomUnderSampler\n",
            "roc score on test:  0.6782\n",
            "f1 score on test:  0.059\n",
            "G-mean score 0.175\n",
            "Weighted accuracy 0.6721\n",
            "------------------------------------------------\n",
            "Counter({0: 445, 1: 401})\n",
            "method:  SVMSMOTE_RandomUnderSampler\n",
            "roc score on test:  0.625\n",
            "f1 score on test:  0.048\n",
            "G-mean score 0.1578\n",
            "Weighted accuracy 0.6065\n",
            "========================================= RandomForest\n",
            "---------NOMAL---------------------------------------\n",
            "roc score on test:  0.6994\n",
            "f1 score on test:  0.0778\n",
            "G-mean score 0.2068\n",
            "Weighted accuracy 0.6281\n",
            "------------------------------------------------\n",
            "Counter({0: 7063, 1: 5140})\n",
            "method:  SMOTE\n",
            "roc score on test:  0.711\n",
            "f1 score on test:  0.0607\n",
            "G-mean score 0.1789\n",
            "Weighted accuracy 0.6347\n",
            "------------------------------------------------\n",
            "Counter({0: 7063, 1: 5140})\n",
            "method:  BorderlineSMOTE\n",
            "roc score on test:  0.5722\n",
            "f1 score on test:  0.1057\n",
            "G-mean score 0.2475\n",
            "Weighted accuracy 0.6384\n",
            "------------------------------------------------\n",
            "Counter({0: 7063, 1: 3093})\n",
            "method:  SVMSMOTE\n",
            "roc score on test:  0.5883\n",
            "f1 score on test:  0.0963\n",
            "G-mean score 0.2344\n",
            "Weighted accuracy 0.6333\n",
            "------------------------------------------------\n",
            "Counter({0: 7063, 1: 5116})\n",
            "method:  ADASYN\n",
            "roc score on test:  0.7093\n",
            "f1 score on test:  0.0561\n",
            "G-mean score 0.1718\n",
            "Weighted accuracy 0.6178\n",
            "------------------------------------------------\n",
            "Counter({0: 7050, 1: 5127})\n",
            "method:  SMOTETomek\n",
            "roc score on test:  0.7107\n",
            "f1 score on test:  0.0613\n",
            "G-mean score 0.1798\n",
            "Weighted accuracy 0.636\n",
            "------------------------------------------------\n",
            "Counter({0: 7063, 1: 5140})\n",
            "method:  RandomOverSampler\n",
            "roc score on test:  0.7062\n",
            "f1 score on test:  0.0701\n",
            "G-mean score 0.1936\n",
            "Weighted accuracy 0.6437\n",
            "------------------------------------------------\n",
            "Counter({0: 784, 1: 706})\n",
            "method:  SMOTE_RandomUnderSampler\n",
            "roc score on test:  0.6825\n",
            "f1 score on test:  0.0483\n",
            "G-mean score 0.1576\n",
            "Weighted accuracy 0.6336\n",
            "------------------------------------------------\n",
            "Counter({0: 807, 1: 727})\n",
            "method:  ADASYN_RandomUnderSampler\n",
            "roc score on test:  0.6987\n",
            "f1 score on test:  0.0508\n",
            "G-mean score 0.1619\n",
            "Weighted accuracy 0.6443\n",
            "------------------------------------------------\n",
            "Counter({0: 397, 1: 358})\n",
            "method:  SVMSMOTE_RandomUnderSampler\n",
            "roc score on test:  0.4417\n",
            "f1 score on test:  0.0214\n",
            "G-mean score 0.1044\n",
            "Weighted accuracy 0.4432\n",
            "========================================= LogisticRegression\n",
            "---------NOMAL---------------------------------------\n",
            "roc score on test:  0.4389\n",
            "f1 score on test:  0.0\n",
            "G-mean score 0.0\n",
            "Weighted accuracy 0.5\n",
            "------------------------------------------------\n",
            "Counter({0: 7063, 1: 5140})\n",
            "method:  SMOTE\n",
            "roc score on test:  0.4998\n",
            "f1 score on test:  0.0\n",
            "G-mean score 0.0\n",
            "Weighted accuracy 0.5\n",
            "------------------------------------------------\n",
            "Counter({0: 7063, 1: 5140})\n",
            "method:  BorderlineSMOTE\n",
            "roc score on test:  0.4194\n",
            "f1 score on test:  0.0\n",
            "G-mean score 0.0\n",
            "Weighted accuracy 0.5\n"
          ]
        },
        {
          "name": "stderr",
          "output_type": "stream",
          "text": [
            "/usr/local/lib/python3.7/dist-packages/sklearn/metrics/_classification.py:1318: UndefinedMetricWarning: Recall is ill-defined and being set to 0.0 in labels with no true samples. Use `zero_division` parameter to control this behavior.\n",
            "  _warn_prf(average, modifier, msg_start, len(result))\n",
            "/usr/local/lib/python3.7/dist-packages/sklearn/metrics/_classification.py:1318: UndefinedMetricWarning: Recall is ill-defined and being set to 0.0 in labels with no true samples. Use `zero_division` parameter to control this behavior.\n",
            "  _warn_prf(average, modifier, msg_start, len(result))\n",
            "/usr/local/lib/python3.7/dist-packages/sklearn/metrics/_classification.py:1318: UndefinedMetricWarning: Recall is ill-defined and being set to 0.0 in labels with no true samples. Use `zero_division` parameter to control this behavior.\n",
            "  _warn_prf(average, modifier, msg_start, len(result))\n",
            "/usr/local/lib/python3.7/dist-packages/sklearn/metrics/_classification.py:1318: UndefinedMetricWarning: Recall is ill-defined and being set to 0.0 in labels with no true samples. Use `zero_division` parameter to control this behavior.\n",
            "  _warn_prf(average, modifier, msg_start, len(result))\n",
            "/usr/local/lib/python3.7/dist-packages/sklearn/metrics/_classification.py:1318: UndefinedMetricWarning: Recall is ill-defined and being set to 0.0 in labels with no true samples. Use `zero_division` parameter to control this behavior.\n",
            "  _warn_prf(average, modifier, msg_start, len(result))\n",
            "/usr/local/lib/python3.7/dist-packages/sklearn/metrics/_classification.py:1318: UndefinedMetricWarning: Recall is ill-defined and being set to 0.0 in labels with no true samples. Use `zero_division` parameter to control this behavior.\n",
            "  _warn_prf(average, modifier, msg_start, len(result))\n"
          ]
        },
        {
          "name": "stdout",
          "output_type": "stream",
          "text": [
            "------------------------------------------------\n",
            "Counter({0: 7063, 1: 3093})\n",
            "method:  SVMSMOTE\n",
            "roc score on test:  0.4186\n",
            "f1 score on test:  0.0\n",
            "G-mean score 0.0\n",
            "Weighted accuracy 0.5\n",
            "------------------------------------------------\n",
            "Counter({0: 7063, 1: 5116})\n",
            "method:  ADASYN\n",
            "roc score on test:  0.5237\n",
            "f1 score on test:  0.0\n",
            "G-mean score 0.0\n",
            "Weighted accuracy 0.5\n",
            "------------------------------------------------\n",
            "Counter({0: 7050, 1: 5127})\n",
            "method:  SMOTETomek\n",
            "roc score on test:  0.5009\n",
            "f1 score on test:  0.0\n",
            "G-mean score 0.0\n",
            "Weighted accuracy 0.5\n"
          ]
        },
        {
          "name": "stderr",
          "output_type": "stream",
          "text": [
            "/usr/local/lib/python3.7/dist-packages/sklearn/metrics/_classification.py:1318: UndefinedMetricWarning: Recall is ill-defined and being set to 0.0 in labels with no true samples. Use `zero_division` parameter to control this behavior.\n",
            "  _warn_prf(average, modifier, msg_start, len(result))\n",
            "/usr/local/lib/python3.7/dist-packages/sklearn/metrics/_classification.py:1318: UndefinedMetricWarning: Recall is ill-defined and being set to 0.0 in labels with no true samples. Use `zero_division` parameter to control this behavior.\n",
            "  _warn_prf(average, modifier, msg_start, len(result))\n",
            "/usr/local/lib/python3.7/dist-packages/sklearn/metrics/_classification.py:1318: UndefinedMetricWarning: Recall is ill-defined and being set to 0.0 in labels with no true samples. Use `zero_division` parameter to control this behavior.\n",
            "  _warn_prf(average, modifier, msg_start, len(result))\n"
          ]
        },
        {
          "name": "stdout",
          "output_type": "stream",
          "text": [
            "------------------------------------------------\n",
            "Counter({0: 7063, 1: 5140})\n",
            "method:  RandomOverSampler\n",
            "roc score on test:  0.451\n",
            "f1 score on test:  0.0\n",
            "G-mean score 0.0\n",
            "Weighted accuracy 0.5\n",
            "------------------------------------------------\n",
            "Counter({0: 784, 1: 706})\n",
            "method:  SMOTE_RandomUnderSampler\n",
            "roc score on test:  0.5139\n",
            "f1 score on test:  0.0\n",
            "G-mean score 0.0\n",
            "Weighted accuracy 0.5\n",
            "------------------------------------------------\n",
            "Counter({0: 807, 1: 727})\n",
            "method:  ADASYN_RandomUnderSampler\n",
            "roc score on test:  0.5648\n",
            "f1 score on test:  0.0\n",
            "G-mean score 0.0\n",
            "Weighted accuracy 0.5\n",
            "------------------------------------------------\n",
            "Counter({0: 467, 1: 421})\n",
            "method:  SVMSMOTE_RandomUnderSampler\n",
            "roc score on test:  0.4203\n",
            "f1 score on test:  0.0\n",
            "G-mean score 0.0\n",
            "Weighted accuracy 0.5\n",
            "CPU times: user 3min 51s, sys: 1.63 s, total: 3min 53s\n",
            "Wall time: 3min 57s\n"
          ]
        },
        {
          "name": "stderr",
          "output_type": "stream",
          "text": [
            "/usr/local/lib/python3.7/dist-packages/sklearn/metrics/_classification.py:1318: UndefinedMetricWarning: Recall is ill-defined and being set to 0.0 in labels with no true samples. Use `zero_division` parameter to control this behavior.\n",
            "  _warn_prf(average, modifier, msg_start, len(result))\n"
          ]
        }
      ],
      "source": [
        "%%time\n",
        "\n",
        "\n",
        "\n",
        "\n",
        "# !pip install xlsxwriter\n",
        "# import xlsxwriter\n",
        "\n",
        "smotes = {0 : 'SMOTE',\n",
        "          1 : 'BorderlineSMOTE',\n",
        "          2 : 'SVMSMOTE',\n",
        "          3 : 'ADASYN',\n",
        "          4 : 'SMOTETomek',\n",
        "          5 : 'RandomOverSampler',\n",
        "          6 : 'SMOTE_RandomUnderSampler',\n",
        "          7 : 'ADASYN_RandomUnderSampler',\n",
        "          8 : 'SVMSMOTE_RandomUnderSampler',\n",
        "          9 : 'BorderlineSMOTE_RandomUnderSampler'}\n",
        "\n",
        "\n",
        "Classifiers ={\n",
        "    0 : 'SVM',\n",
        "    1 : 'RandomForest',\n",
        "    2 : 'LogisticRegression'\n",
        "}\n",
        "G_means =[]\n",
        "F_scores =[]\n",
        "Weighted_accuracys =[]\n",
        "Row_head = []\n",
        "for j , Classifier in enumerate((\n",
        "    SVC(C=5, kernel='rbf', tol=1e-5, max_iter=-1, random_state=42,probability=True,class_weight=\"balanced\"),\n",
        "    RandomForestClassifier(n_estimators=500,\n",
        "                                max_depth=10,\n",
        "                                min_samples_split=400,\n",
        "                                random_state=12,\n",
        "                                class_weight=\"balanced\",\n",
        "                                max_features=\"auto\"),\n",
        "    LogisticRegression(random_state=0,C = 0.0001)\n",
        ")):\n",
        "\n",
        "  print('=========================================',Classifiers[j])\n",
        "  rf_clf= Classifier\n",
        "  rf_clf.fit(X_train_m,y_train)\n",
        "  rf_pred_label = rf_clf.predict(X_test_m)\n",
        "  rf_predictions = rf_clf.predict_proba(X_test_m)\n",
        "  rf_roc_score = round(roc_auc_score(y_test, rf_predictions[:,1]),4)\n",
        "  rf_f1_score = round(f1_score(y_test, rf_pred_label),4)\n",
        "  rf_g_mean = round(geometric_mean_score(rf_pred_label,y_test),4)\n",
        "  print('---------NOMAL---------------------------------------')\n",
        "  # print('SMOTE method: ', smotes[i])\n",
        "  print('roc score on test: ', rf_roc_score)\n",
        "  print('f1 score on test: ', rf_f1_score)\n",
        "  print('G-mean score',rf_g_mean)\n",
        "  wei_acc=round(0.5*sensitivity_score(y_test, rf_pred_label, average='macro')+0.5* specificity_score(y_test, rf_pred_label, average='macro'),4)\n",
        "  print('Weighted accuracy',wei_acc)\n",
        "  Row_head.append(Classifiers[j])\n",
        "  G_means.append(rf_g_mean)\n",
        "  F_scores.append(rf_f1_score)\n",
        "  Weighted_accuracys.append(wei_acc)\n",
        "  for i, sampler in enumerate((SMOTE(sampling_strategy = 0.7277890322254528, random_state=0),\n",
        "                  BorderlineSMOTE(sampling_strategy = 0.7277890322254528, random_state=0, kind='borderline-1'),\n",
        "                  SVMSMOTE(sampling_strategy = 0.7277890322254528, random_state=0),\n",
        "                  ADASYN(sampling_strategy = 0.7277890322254528, random_state=0),\n",
        "                  SMOTETomek ( random_state=0,sampling_strategy = 0.7277890322254528),\n",
        "                  RandomOverSampler(sampling_strategy  = 0.7277890322254528, random_state=0),\n",
        "                  make_pipeline(SMOTE(sampling_strategy=0.1), RandomUnderSampler(sampling_strategy=0.9)),\n",
        "                  make_pipeline(ADASYN(sampling_strategy=0.1), RandomUnderSampler(sampling_strategy=0.9)),\n",
        "                  make_pipeline(SVMSMOTE(sampling_strategy=0.1), RandomUnderSampler(sampling_strategy=0.9))\n",
        "                  )):\n",
        "\n",
        "    X_resampling,y_resampling =sampler.fit_resample(X_train_m,y_train)\n",
        "    rf_clf.fit(X_resampling,y_resampling)\n",
        "    # pipe_line = make_pipeline(sampler, rf_clf)\n",
        "    # pipe_line.fit(X_train_m, y_train)\n",
        "\n",
        "    rf_predictions = rf_clf.predict_proba(X_test_m)\n",
        "    rf_pred_label = rf_clf.predict(X_test_m)\n",
        "\n",
        "    # rf_predictions = pipe_line.predict_proba(X_test_m)\n",
        "    # rf_pred_label = pipe_line.predict(X_test_m)\n",
        "    rf_roc_score =round( roc_auc_score(y_test, rf_predictions[:,1]),4)\n",
        "    rf_f1_score =round( f1_score(y_test, rf_pred_label),4)\n",
        "    rf_g_mean =round( geometric_mean_score(rf_pred_label,y_test),4)\n",
        "    print('------------------------------------------------')\n",
        "    print(Counter(y_resampling))\n",
        "    print('method: ', smotes[i])\n",
        "    print('roc score on test: ', rf_roc_score)\n",
        "    print('f1 score on test: ', rf_f1_score)\n",
        "    print('G-mean score',rf_g_mean)\n",
        "    wei_acc=round(0.5*sensitivity_score(y_test, rf_pred_label, average='macro')+0.5* specificity_score(y_test, rf_pred_label, average='macro'),4)\n",
        "    print('Weighted accuracy',wei_acc)\n",
        "    Row_head.append(smotes[i])\n",
        "    G_means.append(rf_g_mean)\n",
        "    F_scores.append(rf_f1_score)\n",
        "    Weighted_accuracys.append(wei_acc)\n"
      ]
    },
    {
      "cell_type": "code",
      "execution_count": null,
      "metadata": {
        "colab": {
          "base_uri": "https://localhost:8080/",
          "height": 990
        },
        "id": "ZuR84rebyttN",
        "outputId": "0faebbae-f77a-4b47-8701-ee770b6501a6"
      },
      "outputs": [
        {
          "data": {
            "text/html": [
              "\n",
              "  <div id=\"df-aa03b966-7b92-4232-878d-f49158aedd1a\">\n",
              "    <div class=\"colab-df-container\">\n",
              "      <div>\n",
              "<style scoped>\n",
              "    .dataframe tbody tr th:only-of-type {\n",
              "        vertical-align: middle;\n",
              "    }\n",
              "\n",
              "    .dataframe tbody tr th {\n",
              "        vertical-align: top;\n",
              "    }\n",
              "\n",
              "    .dataframe thead th {\n",
              "        text-align: right;\n",
              "    }\n",
              "</style>\n",
              "<table border=\"1\" class=\"dataframe\">\n",
              "  <thead>\n",
              "    <tr style=\"text-align: right;\">\n",
              "      <th></th>\n",
              "      <th>Algorithm</th>\n",
              "      <th>Weighted accuracy</th>\n",
              "      <th>G-mean</th>\n",
              "      <th>F-score</th>\n",
              "    </tr>\n",
              "  </thead>\n",
              "  <tbody>\n",
              "    <tr>\n",
              "      <th>0</th>\n",
              "      <td>SVM</td>\n",
              "      <td>0.6441</td>\n",
              "      <td>0.1618</td>\n",
              "      <td>0.0508</td>\n",
              "    </tr>\n",
              "    <tr>\n",
              "      <th>1</th>\n",
              "      <td>SMOTE</td>\n",
              "      <td>0.6462</td>\n",
              "      <td>0.1686</td>\n",
              "      <td>0.0548</td>\n",
              "    </tr>\n",
              "    <tr>\n",
              "      <th>2</th>\n",
              "      <td>BorderlineSMOTE</td>\n",
              "      <td>0.6416</td>\n",
              "      <td>0.1915</td>\n",
              "      <td>0.0687</td>\n",
              "    </tr>\n",
              "    <tr>\n",
              "      <th>3</th>\n",
              "      <td>SVMSMOTE</td>\n",
              "      <td>0.6495</td>\n",
              "      <td>0.1911</td>\n",
              "      <td>0.0687</td>\n",
              "    </tr>\n",
              "    <tr>\n",
              "      <th>4</th>\n",
              "      <td>ADASYN</td>\n",
              "      <td>0.6415</td>\n",
              "      <td>0.1662</td>\n",
              "      <td>0.0533</td>\n",
              "    </tr>\n",
              "    <tr>\n",
              "      <th>5</th>\n",
              "      <td>SMOTETomek</td>\n",
              "      <td>0.6462</td>\n",
              "      <td>0.1686</td>\n",
              "      <td>0.0548</td>\n",
              "    </tr>\n",
              "    <tr>\n",
              "      <th>6</th>\n",
              "      <td>RandomOverSampler</td>\n",
              "      <td>0.6479</td>\n",
              "      <td>0.1635</td>\n",
              "      <td>0.0518</td>\n",
              "    </tr>\n",
              "    <tr>\n",
              "      <th>7</th>\n",
              "      <td>SMOTE_RandomUnderSampler</td>\n",
              "      <td>0.6479</td>\n",
              "      <td>0.1663</td>\n",
              "      <td>0.0534</td>\n",
              "    </tr>\n",
              "    <tr>\n",
              "      <th>8</th>\n",
              "      <td>ADASYN_RandomUnderSampler</td>\n",
              "      <td>0.6721</td>\n",
              "      <td>0.1750</td>\n",
              "      <td>0.0590</td>\n",
              "    </tr>\n",
              "    <tr>\n",
              "      <th>9</th>\n",
              "      <td>SVMSMOTE_RandomUnderSampler</td>\n",
              "      <td>0.6065</td>\n",
              "      <td>0.1578</td>\n",
              "      <td>0.0480</td>\n",
              "    </tr>\n",
              "    <tr>\n",
              "      <th>10</th>\n",
              "      <td>RandomForest</td>\n",
              "      <td>0.6281</td>\n",
              "      <td>0.2068</td>\n",
              "      <td>0.0778</td>\n",
              "    </tr>\n",
              "    <tr>\n",
              "      <th>11</th>\n",
              "      <td>SMOTE</td>\n",
              "      <td>0.6347</td>\n",
              "      <td>0.1789</td>\n",
              "      <td>0.0607</td>\n",
              "    </tr>\n",
              "    <tr>\n",
              "      <th>12</th>\n",
              "      <td>BorderlineSMOTE</td>\n",
              "      <td>0.6384</td>\n",
              "      <td>0.2475</td>\n",
              "      <td>0.1057</td>\n",
              "    </tr>\n",
              "    <tr>\n",
              "      <th>13</th>\n",
              "      <td>SVMSMOTE</td>\n",
              "      <td>0.6333</td>\n",
              "      <td>0.2344</td>\n",
              "      <td>0.0963</td>\n",
              "    </tr>\n",
              "    <tr>\n",
              "      <th>14</th>\n",
              "      <td>ADASYN</td>\n",
              "      <td>0.6178</td>\n",
              "      <td>0.1718</td>\n",
              "      <td>0.0561</td>\n",
              "    </tr>\n",
              "    <tr>\n",
              "      <th>15</th>\n",
              "      <td>SMOTETomek</td>\n",
              "      <td>0.6360</td>\n",
              "      <td>0.1798</td>\n",
              "      <td>0.0613</td>\n",
              "    </tr>\n",
              "    <tr>\n",
              "      <th>16</th>\n",
              "      <td>RandomOverSampler</td>\n",
              "      <td>0.6437</td>\n",
              "      <td>0.1936</td>\n",
              "      <td>0.0701</td>\n",
              "    </tr>\n",
              "    <tr>\n",
              "      <th>17</th>\n",
              "      <td>SMOTE_RandomUnderSampler</td>\n",
              "      <td>0.6336</td>\n",
              "      <td>0.1576</td>\n",
              "      <td>0.0483</td>\n",
              "    </tr>\n",
              "    <tr>\n",
              "      <th>18</th>\n",
              "      <td>ADASYN_RandomUnderSampler</td>\n",
              "      <td>0.6443</td>\n",
              "      <td>0.1619</td>\n",
              "      <td>0.0508</td>\n",
              "    </tr>\n",
              "    <tr>\n",
              "      <th>19</th>\n",
              "      <td>SVMSMOTE_RandomUnderSampler</td>\n",
              "      <td>0.4432</td>\n",
              "      <td>0.1044</td>\n",
              "      <td>0.0214</td>\n",
              "    </tr>\n",
              "    <tr>\n",
              "      <th>20</th>\n",
              "      <td>LogisticRegression</td>\n",
              "      <td>0.5000</td>\n",
              "      <td>0.0000</td>\n",
              "      <td>0.0000</td>\n",
              "    </tr>\n",
              "    <tr>\n",
              "      <th>21</th>\n",
              "      <td>SMOTE</td>\n",
              "      <td>0.5000</td>\n",
              "      <td>0.0000</td>\n",
              "      <td>0.0000</td>\n",
              "    </tr>\n",
              "    <tr>\n",
              "      <th>22</th>\n",
              "      <td>BorderlineSMOTE</td>\n",
              "      <td>0.5000</td>\n",
              "      <td>0.0000</td>\n",
              "      <td>0.0000</td>\n",
              "    </tr>\n",
              "    <tr>\n",
              "      <th>23</th>\n",
              "      <td>SVMSMOTE</td>\n",
              "      <td>0.5000</td>\n",
              "      <td>0.0000</td>\n",
              "      <td>0.0000</td>\n",
              "    </tr>\n",
              "    <tr>\n",
              "      <th>24</th>\n",
              "      <td>ADASYN</td>\n",
              "      <td>0.5000</td>\n",
              "      <td>0.0000</td>\n",
              "      <td>0.0000</td>\n",
              "    </tr>\n",
              "    <tr>\n",
              "      <th>25</th>\n",
              "      <td>SMOTETomek</td>\n",
              "      <td>0.5000</td>\n",
              "      <td>0.0000</td>\n",
              "      <td>0.0000</td>\n",
              "    </tr>\n",
              "    <tr>\n",
              "      <th>26</th>\n",
              "      <td>RandomOverSampler</td>\n",
              "      <td>0.5000</td>\n",
              "      <td>0.0000</td>\n",
              "      <td>0.0000</td>\n",
              "    </tr>\n",
              "    <tr>\n",
              "      <th>27</th>\n",
              "      <td>SMOTE_RandomUnderSampler</td>\n",
              "      <td>0.5000</td>\n",
              "      <td>0.0000</td>\n",
              "      <td>0.0000</td>\n",
              "    </tr>\n",
              "    <tr>\n",
              "      <th>28</th>\n",
              "      <td>ADASYN_RandomUnderSampler</td>\n",
              "      <td>0.5000</td>\n",
              "      <td>0.0000</td>\n",
              "      <td>0.0000</td>\n",
              "    </tr>\n",
              "    <tr>\n",
              "      <th>29</th>\n",
              "      <td>SVMSMOTE_RandomUnderSampler</td>\n",
              "      <td>0.5000</td>\n",
              "      <td>0.0000</td>\n",
              "      <td>0.0000</td>\n",
              "    </tr>\n",
              "  </tbody>\n",
              "</table>\n",
              "</div>\n",
              "      <button class=\"colab-df-convert\" onclick=\"convertToInteractive('df-aa03b966-7b92-4232-878d-f49158aedd1a')\"\n",
              "              title=\"Convert this dataframe to an interactive table.\"\n",
              "              style=\"display:none;\">\n",
              "        \n",
              "  <svg xmlns=\"http://www.w3.org/2000/svg\" height=\"24px\"viewBox=\"0 0 24 24\"\n",
              "       width=\"24px\">\n",
              "    <path d=\"M0 0h24v24H0V0z\" fill=\"none\"/>\n",
              "    <path d=\"M18.56 5.44l.94 2.06.94-2.06 2.06-.94-2.06-.94-.94-2.06-.94 2.06-2.06.94zm-11 1L8.5 8.5l.94-2.06 2.06-.94-2.06-.94L8.5 2.5l-.94 2.06-2.06.94zm10 10l.94 2.06.94-2.06 2.06-.94-2.06-.94-.94-2.06-.94 2.06-2.06.94z\"/><path d=\"M17.41 7.96l-1.37-1.37c-.4-.4-.92-.59-1.43-.59-.52 0-1.04.2-1.43.59L10.3 9.45l-7.72 7.72c-.78.78-.78 2.05 0 2.83L4 21.41c.39.39.9.59 1.41.59.51 0 1.02-.2 1.41-.59l7.78-7.78 2.81-2.81c.8-.78.8-2.07 0-2.86zM5.41 20L4 18.59l7.72-7.72 1.47 1.35L5.41 20z\"/>\n",
              "  </svg>\n",
              "      </button>\n",
              "      \n",
              "  <style>\n",
              "    .colab-df-container {\n",
              "      display:flex;\n",
              "      flex-wrap:wrap;\n",
              "      gap: 12px;\n",
              "    }\n",
              "\n",
              "    .colab-df-convert {\n",
              "      background-color: #E8F0FE;\n",
              "      border: none;\n",
              "      border-radius: 50%;\n",
              "      cursor: pointer;\n",
              "      display: none;\n",
              "      fill: #1967D2;\n",
              "      height: 32px;\n",
              "      padding: 0 0 0 0;\n",
              "      width: 32px;\n",
              "    }\n",
              "\n",
              "    .colab-df-convert:hover {\n",
              "      background-color: #E2EBFA;\n",
              "      box-shadow: 0px 1px 2px rgba(60, 64, 67, 0.3), 0px 1px 3px 1px rgba(60, 64, 67, 0.15);\n",
              "      fill: #174EA6;\n",
              "    }\n",
              "\n",
              "    [theme=dark] .colab-df-convert {\n",
              "      background-color: #3B4455;\n",
              "      fill: #D2E3FC;\n",
              "    }\n",
              "\n",
              "    [theme=dark] .colab-df-convert:hover {\n",
              "      background-color: #434B5C;\n",
              "      box-shadow: 0px 1px 3px 1px rgba(0, 0, 0, 0.15);\n",
              "      filter: drop-shadow(0px 1px 2px rgba(0, 0, 0, 0.3));\n",
              "      fill: #FFFFFF;\n",
              "    }\n",
              "  </style>\n",
              "\n",
              "      <script>\n",
              "        const buttonEl =\n",
              "          document.querySelector('#df-aa03b966-7b92-4232-878d-f49158aedd1a button.colab-df-convert');\n",
              "        buttonEl.style.display =\n",
              "          google.colab.kernel.accessAllowed ? 'block' : 'none';\n",
              "\n",
              "        async function convertToInteractive(key) {\n",
              "          const element = document.querySelector('#df-aa03b966-7b92-4232-878d-f49158aedd1a');\n",
              "          const dataTable =\n",
              "            await google.colab.kernel.invokeFunction('convertToInteractive',\n",
              "                                                     [key], {});\n",
              "          if (!dataTable) return;\n",
              "\n",
              "          const docLinkHtml = 'Like what you see? Visit the ' +\n",
              "            '<a target=\"_blank\" href=https://colab.research.google.com/notebooks/data_table.ipynb>data table notebook</a>'\n",
              "            + ' to learn more about interactive tables.';\n",
              "          element.innerHTML = '';\n",
              "          dataTable['output_type'] = 'display_data';\n",
              "          await google.colab.output.renderOutput(dataTable, element);\n",
              "          const docLink = document.createElement('div');\n",
              "          docLink.innerHTML = docLinkHtml;\n",
              "          element.appendChild(docLink);\n",
              "        }\n",
              "      </script>\n",
              "    </div>\n",
              "  </div>\n",
              "  "
            ],
            "text/plain": [
              "                      Algorithm  Weighted accuracy  G-mean  F-score\n",
              "0                           SVM             0.6441  0.1618   0.0508\n",
              "1                         SMOTE             0.6462  0.1686   0.0548\n",
              "2               BorderlineSMOTE             0.6416  0.1915   0.0687\n",
              "3                      SVMSMOTE             0.6495  0.1911   0.0687\n",
              "4                        ADASYN             0.6415  0.1662   0.0533\n",
              "5                    SMOTETomek             0.6462  0.1686   0.0548\n",
              "6             RandomOverSampler             0.6479  0.1635   0.0518\n",
              "7      SMOTE_RandomUnderSampler             0.6479  0.1663   0.0534\n",
              "8     ADASYN_RandomUnderSampler             0.6721  0.1750   0.0590\n",
              "9   SVMSMOTE_RandomUnderSampler             0.6065  0.1578   0.0480\n",
              "10                 RandomForest             0.6281  0.2068   0.0778\n",
              "11                        SMOTE             0.6347  0.1789   0.0607\n",
              "12              BorderlineSMOTE             0.6384  0.2475   0.1057\n",
              "13                     SVMSMOTE             0.6333  0.2344   0.0963\n",
              "14                       ADASYN             0.6178  0.1718   0.0561\n",
              "15                   SMOTETomek             0.6360  0.1798   0.0613\n",
              "16            RandomOverSampler             0.6437  0.1936   0.0701\n",
              "17     SMOTE_RandomUnderSampler             0.6336  0.1576   0.0483\n",
              "18    ADASYN_RandomUnderSampler             0.6443  0.1619   0.0508\n",
              "19  SVMSMOTE_RandomUnderSampler             0.4432  0.1044   0.0214\n",
              "20           LogisticRegression             0.5000  0.0000   0.0000\n",
              "21                        SMOTE             0.5000  0.0000   0.0000\n",
              "22              BorderlineSMOTE             0.5000  0.0000   0.0000\n",
              "23                     SVMSMOTE             0.5000  0.0000   0.0000\n",
              "24                       ADASYN             0.5000  0.0000   0.0000\n",
              "25                   SMOTETomek             0.5000  0.0000   0.0000\n",
              "26            RandomOverSampler             0.5000  0.0000   0.0000\n",
              "27     SMOTE_RandomUnderSampler             0.5000  0.0000   0.0000\n",
              "28    ADASYN_RandomUnderSampler             0.5000  0.0000   0.0000\n",
              "29  SVMSMOTE_RandomUnderSampler             0.5000  0.0000   0.0000"
            ]
          },
          "execution_count": 16,
          "metadata": {},
          "output_type": "execute_result"
        }
      ],
      "source": [
        "import pandas as pd\n",
        "df = pd.DataFrame(columns =[\"Algorithm\",\"Weighted accuracy\",\"G-mean\",\"F-score\"])\n",
        "df['Algorithm']=Row_head\n",
        "df['Weighted accuracy']=Weighted_accuracys\n",
        "df['G-mean']=G_means\n",
        "df['F-score']=F_scores\n",
        "df"
      ]
    },
    {
      "cell_type": "code",
      "execution_count": null,
      "metadata": {
        "id": "aRPpXRnNx6zE"
      },
      "outputs": [],
      "source": [
        "\n",
        "from sklearn.model_selection import GridSearchCV\n",
        "from imblearn.over_sampling import SMOTE\n",
        "from sklearn.svm import LinearSVC, SVC\n",
        "from  sklearn.calibration  import CalibratedClassifierCV\n",
        "from imblearn.pipeline import Pipeline\n",
        "from imblearn.under_sampling import RandomUnderSampler\n",
        "import numpy\n",
        "over = SMOTE(sampling_strategy=0.14)\n",
        "under = RandomUnderSampler(sampling_strategy=0.5)\n",
        "steps = [('o', over), ('u', under)]\n",
        "pipeline = Pipeline(steps=steps)\n",
        "X_over, y_over = pipeline.fit_resample(X_train_m, y_train)\n",
        "# defining parameter range\n",
        "param_grid = {'C': [0.1, 1, 10, 100, 1000],\n",
        "              'gamma': [1, 0.1, 0.01, 0.001, 0.0001],\n",
        "              'tol':[1e-5,1e-10,0.1,0.2,0.5,0.6],\n",
        "              'kernel': ['rbf']}\n",
        "\n",
        "grid = GridSearchCV(SVC(), param_grid, refit = True, verbose = 3)\n",
        "\n",
        "# fitting the model for grid search\n",
        "grid.fit(X_over, y_over)\n",
        "# print best parameter after tuning\n",
        "print(grid.best_params_)\n",
        "\n",
        "# print how our model looks after hyper-parameter tuning\n",
        "print(grid.best_estimator_)"
      ]
    },
    {
      "cell_type": "code",
      "execution_count": null,
      "metadata": {
        "id": "jqsprqOxgtav"
      },
      "outputs": [],
      "source": [
        "\n",
        "function_inputs = y_test\n",
        "desired_output =0.2\n",
        "ratio_over=0.1\n",
        "ratio_under=0.9\n",
        "def fitness_func_svm(solution, solution_idx):\n",
        "  ratio_over=random.uniform(0.1, 0.4)\n",
        "  print('ratio_over',ratio_over)\n",
        "  ratio_under=random.uniform(0.5, 0.8)\n",
        "  print('ratio_under',ratio_under)\n",
        "  over = SMOTE(sampling_strategy=ratio_over)\n",
        "  under = RandomUnderSampler(sampling_strategy=ratio_under)\n",
        "  steps = [('o', over), ('u', under)]\n",
        "  pipeline = Pipeline(steps=steps)\n",
        "  X_over, y_over = pipeline.fit_resample(X_train_m, y_train)\n",
        "  print(Counter(y_over))\n",
        "  par= {'C': 1000, 'gamma': 1, 'kernel': 'rbf', 'tol': 0.6,'random_state':42,'max_iter':-1,'probability':True}\n",
        "  clf=SVC()\n",
        "  clf.set_params(**par)\n",
        "  # clf = SVC(C=5, kernel='rbf', tol=1e-5, max_iter=-1, random_state=42,probability=True)\n",
        "  clf.fit(X_over,y_over)\n",
        "  y_train_pred = clf.predict(X_over)\n",
        "  y_pred=clf.predict(X_test_m)\n",
        "  # y_proba=clf.predict_proba(X_test_m)\n",
        "  g_mean= geometric_mean_score(y_pred,y_test)\n",
        "  print('g_mean:',g_mean)\n",
        "  fitness =g_mean\n",
        "  #  1.0 / numpy.abs(g_mean - desired_output)\n",
        "  # except:\n",
        "  #   fitness=0\n",
        "  return fitness\n",
        ""
      ]
    },
    {
      "cell_type": "code",
      "execution_count": null,
      "metadata": {
        "id": "T78LLvn2ggqR"
      },
      "outputs": [],
      "source": [
        "\n"
      ]
    },
    {
      "cell_type": "code",
      "execution_count": null,
      "metadata": {
        "id": "wnxuEsg0gkU3"
      },
      "outputs": [],
      "source": [
        "\n",
        "# prediction = numpy.sum(numpy.array(function_inputs)*solution)\n",
        "# print(\"Predicted output based on the best solution : {prediction}\".format(prediction=prediction))\n",
        "# filename = '/content/drive/genetic'\n",
        "# ga_instance.save(filename=filename)"
      ]
    },
    {
      "cell_type": "code",
      "execution_count": null,
      "metadata": {
        "id": "uKw0cgIXMOJx"
      },
      "outputs": [],
      "source": []
    },
    {
      "cell_type": "code",
      "execution_count": null,
      "metadata": {
        "id": "74Sc3arIV9Fk"
      },
      "outputs": [],
      "source": [
        "fitness_function = fitness_func_LGBMC\n",
        "num_generations = 20\n",
        "num_parents_mating = 4\n",
        "sol_per_pop = 8\n",
        "num_genes = len(function_inputs)\n",
        "init_range_low = -4\n",
        "init_range_high =4\n",
        "parent_selection_type = \"sss\"\n",
        "keep_parents = 1\n",
        "crossover_type = \"single_point\"\n",
        "mutation_type = \"random\"\n",
        "random_mutation_min_val=0\n",
        "random_mutation_max_val=1.0\n",
        "mutation_percent_genes = 30\n",
        "ga_instance = pygad.GA(num_generations=num_generations,\n",
        "                       num_parents_mating=num_parents_mating,\n",
        "                       fitness_func=fitness_function,\n",
        "                       sol_per_pop=sol_per_pop,\n",
        "                       num_genes=num_genes,\n",
        "                       init_range_low=init_range_low,\n",
        "                       init_range_high=init_range_high,\n",
        "                       parent_selection_type=parent_selection_type,\n",
        "                       keep_parents=keep_parents,\n",
        "                       crossover_type=crossover_type,\n",
        "                       mutation_type=mutation_type,\n",
        "                       mutation_percent_genes=mutation_percent_genes)\n",
        "ga_instance.run()\n",
        "solution, solution_fitness, solution_idx = ga_instance.best_solution()\n",
        "print('solution',len(solution))\n",
        "print(\"Parameters of the best solution : {solution}\".format(solution=solution))\n",
        "print(\"Fitness value of the best solution = {solution_fitness}\".format(solution_fitness=solution_fitness))\n",
        "ga_instance.plot_fitness()"
      ]
    }
  ],
  "metadata": {
    "colab": {
      "provenance": []
    },
    "kernelspec": {
      "display_name": "Python 3",
      "name": "python3"
    },
    "language_info": {
      "name": "python"
    }
  },
  "nbformat": 4,
  "nbformat_minor": 0
}